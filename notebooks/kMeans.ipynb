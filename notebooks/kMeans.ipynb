{
 "cells": [
  {
   "cell_type": "code",
   "execution_count": 1,
   "metadata": {},
   "outputs": [],
   "source": [
    "%load_ext autoreload\n",
    "%autoreload 2\n"
   ]
  },
  {
   "cell_type": "code",
   "execution_count": 2,
   "metadata": {},
   "outputs": [],
   "source": [
    "import sys\n",
    "from sklearn.datasets import make_blobs\n",
    "import plotly.express as px\n",
    "import plotly.graph_objs as go\n",
    "import plotly.io as pio\n",
    "import torch\n",
    "\n",
    "STATE = 2023\n",
    "TEMPLATE = \"ggplot2\"\n",
    "N_CLUST = 3\n",
    "N_SAMPLES = 100\n",
    "STD = 1.0\n",
    "PALETTE = px.colors.qualitative.Plotly\n",
    "MARKER = dict(color=\"black\", size=14)\n",
    "\n",
    "pio.templates.default = TEMPLATE\n",
    "figKwargs = dict(\n",
    "    width=600,\n",
    "    height=500,\n",
    "    color_discrete_sequence=PALETTE,\n",
    ")\n",
    "sys.path.append(\"../\")\n"
   ]
  },
  {
   "cell_type": "code",
   "execution_count": 3,
   "metadata": {},
   "outputs": [
    {
     "data": {
      "application/vnd.plotly.v1+json": {
       "config": {
        "plotlyServerURL": "https://plot.ly"
       },
       "data": [
        {
         "hovertemplate": "color=1<br>x=%{x}<br>y=%{y}<extra></extra>",
         "legendgroup": "1",
         "marker": {
          "color": "#636EFA",
          "symbol": "circle"
         },
         "mode": "markers",
         "name": "1",
         "orientation": "v",
         "showlegend": true,
         "type": "scatter",
         "x": [
          1.053743651093665,
          1.0304301793490058,
          0.8284324465227679,
          1.4377639733976832,
          1.0538682079360342,
          0.8973326996635752,
          1.1029329092328488,
          1.290230788597792,
          1.3005885399183157,
          1.1824887916898328,
          1.4623981604678626,
          0.8438600431577624,
          1.5019469785249282,
          1.335429292250568,
          1.397561337294441,
          1.8257886304564286,
          1.3379899423675572,
          1.0380466058524962,
          1.180319948573405,
          1.6137136009772184,
          1.288356486113322,
          1.3044665943227105,
          1.4456886860349747,
          1.39347242824476,
          1.0329099739001335,
          0.9685495026702903,
          1.4729264194832052,
          1.450568487333462,
          1.1665746301628006,
          1.2154976069013186,
          1.6749528709326555,
          1.4745054704955596,
          1.0455770219335092
         ],
         "xaxis": "x",
         "y": [
          -1.3206754533614802,
          -1.1797079626476557,
          -1.3220857827246029,
          -1.0425553262546803,
          -1.2557399357833536,
          -1.275775295214898,
          -1.6817034920184422,
          -1.0785926766414307,
          -1.0858035937924089,
          -1.146383944609582,
          -1.0880103325885628,
          -1.0749844269818083,
          -1.1255799695507493,
          -1.2200956221252621,
          -1.129820922456182,
          -1.1209307438171014,
          -1.2831364095988411,
          -1.1646860448481802,
          -1.1684032045678212,
          -1.0816156835707929,
          -1.2784345188178132,
          -1.045238070327321,
          -1.0708186950698886,
          -0.8935909900984641,
          -0.8923621748922208,
          -1.4280534156553082,
          -1.3068458806181291,
          -1.1829918823757446,
          -0.9806904594775487,
          -1.019461818419907,
          -1.2244823779478915,
          -1.1466054777637895,
          -1.3610809273068116
         ],
         "yaxis": "y"
        },
        {
         "hovertemplate": "color=2<br>x=%{x}<br>y=%{y}<extra></extra>",
         "legendgroup": "2",
         "marker": {
          "color": "#EF553B",
          "symbol": "circle"
         },
         "mode": "markers",
         "name": "2",
         "orientation": "v",
         "showlegend": true,
         "type": "scatter",
         "x": [
          -0.7243327381673373,
          -1.0679818087254052,
          -1.6256870494144724,
          -1.2910539660565594,
          -1.2205761562524422,
          -1.2910909409662767,
          -0.6978583531261866,
          -0.9730671491386583,
          -0.9764043642907584,
          -0.7576799941135409,
          -1.3561487435950732,
          -0.9916206852794982,
          -0.9127837876432864,
          -1.5210967238494808,
          -1.374503442775555,
          -1.2668609189462883,
          -1.2581346097240655,
          -0.8047035536678926,
          -0.9554260323557816,
          -0.6160195099190611,
          -1.3266688844483974,
          -1.250894026944287,
          -1.184511579412838,
          -1.252618920402433,
          -0.8261619027391889,
          -1.1698572865542214,
          -1.1440348595619427,
          -0.8519369044707669,
          -0.5949208082879046,
          -1.0575716220382523,
          -0.9597601268147717,
          -1.6238749780578257,
          -0.8877125797035045
         ],
         "xaxis": "x",
         "y": [
          0.08007929852707414,
          -0.44416157173066434,
          -0.26458872842809045,
          -0.14635688785254933,
          -0.13568504596757908,
          -0.2870777451297083,
          -0.1809954016340368,
          0.040113177018631326,
          -0.20119600782704528,
          -0.04791094895962166,
          -0.2608790922224402,
          0.31726808532911266,
          -0.26011459916699264,
          -0.05189168477068001,
          -0.06242811675858889,
          -0.049544499801428506,
          -0.060239745818781554,
          -0.3716849546564056,
          -0.22648234084631425,
          -0.20383987487863084,
          -0.06941479095383352,
          -0.04849418150923344,
          0.32467498501923564,
          -0.14870130725023425,
          -0.12189216618934265,
          -0.18748779485114878,
          0.06561105029748066,
          0.06716031695210577,
          -0.06553451326299983,
          -0.26294476014607304,
          -0.05886464331778313,
          -0.06080705968233393,
          0.186431259617944
         ],
         "yaxis": "y"
        },
        {
         "hovertemplate": "color=0<br>x=%{x}<br>y=%{y}<extra></extra>",
         "legendgroup": "0",
         "marker": {
          "color": "#00CC96",
          "symbol": "circle"
         },
         "mode": "markers",
         "name": "0",
         "orientation": "v",
         "showlegend": true,
         "type": "scatter",
         "x": [
          -0.24050895679992768,
          0.17648883407886076,
          0.02352142545955114,
          -0.45410426821459626,
          0.17296003882813937,
          -0.4396016600838884,
          -0.07601009326491152,
          -0.15028296586242068,
          0.18108935160553802,
          -0.5175304096471027,
          -0.3175283179690559,
          -0.06826968097196959,
          -0.27186732706771277,
          -0.37909313045624016,
          -0.21676991199641849,
          0.001346457497240279,
          0.03460376310976049,
          0.45207092184559305,
          -0.5173598917011434,
          -0.6940876447447076,
          -0.23826795503633014,
          -0.42907631169664034,
          0.2462045117191672,
          -0.4424856543444192,
          -0.010542399378280078,
          0.5176318327408969,
          -0.3862055447041447,
          -0.13802659159884517,
          -0.42750189297058566,
          -0.42858920559582336,
          0.3747039446179279,
          -0.7493290331674409,
          -0.11640650767386308,
          -0.3065336249651325
         ],
         "xaxis": "x",
         "y": [
          1.4290061475959523,
          1.3375201247969382,
          1.4863035603690706,
          1.3724536903562652,
          1.0129949936537228,
          1.214548083175785,
          1.0653970788648708,
          1.2286335739133085,
          1.032730660998333,
          1.3154350659611715,
          1.0225967022863252,
          1.340086897371031,
          1.2509489419525124,
          1.240296518869591,
          1.3314142564452838,
          1.2377781199821267,
          1.3861060008919799,
          0.8516575303562622,
          1.2340358734197037,
          1.3396825972615432,
          1.271724292177335,
          1.1983700191081372,
          1.1642190947133675,
          0.9796220752370453,
          1.1365118628229673,
          1.4984864272300988,
          1.3640541652887208,
          0.7651030005010572,
          1.1830254014058643,
          1.0254213025188765,
          1.4103860926174046,
          1.2667707342271195,
          1.4655679663276082,
          1.4159349500782485
         ],
         "yaxis": "y"
        }
       ],
       "layout": {
        "height": 500,
        "legend": {
         "title": {
          "text": "color"
         },
         "tracegroupgap": 0
        },
        "margin": {
         "t": 60
        },
        "template": {
         "data": {
          "bar": [
           {
            "error_x": {
             "color": "rgb(51,51,51)"
            },
            "error_y": {
             "color": "rgb(51,51,51)"
            },
            "marker": {
             "line": {
              "color": "rgb(237,237,237)",
              "width": 0.5
             },
             "pattern": {
              "fillmode": "overlay",
              "size": 10,
              "solidity": 0.2
             }
            },
            "type": "bar"
           }
          ],
          "barpolar": [
           {
            "marker": {
             "line": {
              "color": "rgb(237,237,237)",
              "width": 0.5
             },
             "pattern": {
              "fillmode": "overlay",
              "size": 10,
              "solidity": 0.2
             }
            },
            "type": "barpolar"
           }
          ],
          "carpet": [
           {
            "aaxis": {
             "endlinecolor": "rgb(51,51,51)",
             "gridcolor": "white",
             "linecolor": "white",
             "minorgridcolor": "white",
             "startlinecolor": "rgb(51,51,51)"
            },
            "baxis": {
             "endlinecolor": "rgb(51,51,51)",
             "gridcolor": "white",
             "linecolor": "white",
             "minorgridcolor": "white",
             "startlinecolor": "rgb(51,51,51)"
            },
            "type": "carpet"
           }
          ],
          "choropleth": [
           {
            "colorbar": {
             "outlinewidth": 0,
             "tickcolor": "rgb(237,237,237)",
             "ticklen": 6,
             "ticks": "inside"
            },
            "type": "choropleth"
           }
          ],
          "contour": [
           {
            "colorbar": {
             "outlinewidth": 0,
             "tickcolor": "rgb(237,237,237)",
             "ticklen": 6,
             "ticks": "inside"
            },
            "colorscale": [
             [
              0,
              "rgb(20,44,66)"
             ],
             [
              1,
              "rgb(90,179,244)"
             ]
            ],
            "type": "contour"
           }
          ],
          "contourcarpet": [
           {
            "colorbar": {
             "outlinewidth": 0,
             "tickcolor": "rgb(237,237,237)",
             "ticklen": 6,
             "ticks": "inside"
            },
            "type": "contourcarpet"
           }
          ],
          "heatmap": [
           {
            "colorbar": {
             "outlinewidth": 0,
             "tickcolor": "rgb(237,237,237)",
             "ticklen": 6,
             "ticks": "inside"
            },
            "colorscale": [
             [
              0,
              "rgb(20,44,66)"
             ],
             [
              1,
              "rgb(90,179,244)"
             ]
            ],
            "type": "heatmap"
           }
          ],
          "heatmapgl": [
           {
            "colorbar": {
             "outlinewidth": 0,
             "tickcolor": "rgb(237,237,237)",
             "ticklen": 6,
             "ticks": "inside"
            },
            "colorscale": [
             [
              0,
              "rgb(20,44,66)"
             ],
             [
              1,
              "rgb(90,179,244)"
             ]
            ],
            "type": "heatmapgl"
           }
          ],
          "histogram": [
           {
            "marker": {
             "pattern": {
              "fillmode": "overlay",
              "size": 10,
              "solidity": 0.2
             }
            },
            "type": "histogram"
           }
          ],
          "histogram2d": [
           {
            "colorbar": {
             "outlinewidth": 0,
             "tickcolor": "rgb(237,237,237)",
             "ticklen": 6,
             "ticks": "inside"
            },
            "colorscale": [
             [
              0,
              "rgb(20,44,66)"
             ],
             [
              1,
              "rgb(90,179,244)"
             ]
            ],
            "type": "histogram2d"
           }
          ],
          "histogram2dcontour": [
           {
            "colorbar": {
             "outlinewidth": 0,
             "tickcolor": "rgb(237,237,237)",
             "ticklen": 6,
             "ticks": "inside"
            },
            "colorscale": [
             [
              0,
              "rgb(20,44,66)"
             ],
             [
              1,
              "rgb(90,179,244)"
             ]
            ],
            "type": "histogram2dcontour"
           }
          ],
          "mesh3d": [
           {
            "colorbar": {
             "outlinewidth": 0,
             "tickcolor": "rgb(237,237,237)",
             "ticklen": 6,
             "ticks": "inside"
            },
            "type": "mesh3d"
           }
          ],
          "parcoords": [
           {
            "line": {
             "colorbar": {
              "outlinewidth": 0,
              "tickcolor": "rgb(237,237,237)",
              "ticklen": 6,
              "ticks": "inside"
             }
            },
            "type": "parcoords"
           }
          ],
          "pie": [
           {
            "automargin": true,
            "type": "pie"
           }
          ],
          "scatter": [
           {
            "fillpattern": {
             "fillmode": "overlay",
             "size": 10,
             "solidity": 0.2
            },
            "type": "scatter"
           }
          ],
          "scatter3d": [
           {
            "line": {
             "colorbar": {
              "outlinewidth": 0,
              "tickcolor": "rgb(237,237,237)",
              "ticklen": 6,
              "ticks": "inside"
             }
            },
            "marker": {
             "colorbar": {
              "outlinewidth": 0,
              "tickcolor": "rgb(237,237,237)",
              "ticklen": 6,
              "ticks": "inside"
             }
            },
            "type": "scatter3d"
           }
          ],
          "scattercarpet": [
           {
            "marker": {
             "colorbar": {
              "outlinewidth": 0,
              "tickcolor": "rgb(237,237,237)",
              "ticklen": 6,
              "ticks": "inside"
             }
            },
            "type": "scattercarpet"
           }
          ],
          "scattergeo": [
           {
            "marker": {
             "colorbar": {
              "outlinewidth": 0,
              "tickcolor": "rgb(237,237,237)",
              "ticklen": 6,
              "ticks": "inside"
             }
            },
            "type": "scattergeo"
           }
          ],
          "scattergl": [
           {
            "marker": {
             "colorbar": {
              "outlinewidth": 0,
              "tickcolor": "rgb(237,237,237)",
              "ticklen": 6,
              "ticks": "inside"
             }
            },
            "type": "scattergl"
           }
          ],
          "scattermapbox": [
           {
            "marker": {
             "colorbar": {
              "outlinewidth": 0,
              "tickcolor": "rgb(237,237,237)",
              "ticklen": 6,
              "ticks": "inside"
             }
            },
            "type": "scattermapbox"
           }
          ],
          "scatterpolar": [
           {
            "marker": {
             "colorbar": {
              "outlinewidth": 0,
              "tickcolor": "rgb(237,237,237)",
              "ticklen": 6,
              "ticks": "inside"
             }
            },
            "type": "scatterpolar"
           }
          ],
          "scatterpolargl": [
           {
            "marker": {
             "colorbar": {
              "outlinewidth": 0,
              "tickcolor": "rgb(237,237,237)",
              "ticklen": 6,
              "ticks": "inside"
             }
            },
            "type": "scatterpolargl"
           }
          ],
          "scatterternary": [
           {
            "marker": {
             "colorbar": {
              "outlinewidth": 0,
              "tickcolor": "rgb(237,237,237)",
              "ticklen": 6,
              "ticks": "inside"
             }
            },
            "type": "scatterternary"
           }
          ],
          "surface": [
           {
            "colorbar": {
             "outlinewidth": 0,
             "tickcolor": "rgb(237,237,237)",
             "ticklen": 6,
             "ticks": "inside"
            },
            "colorscale": [
             [
              0,
              "rgb(20,44,66)"
             ],
             [
              1,
              "rgb(90,179,244)"
             ]
            ],
            "type": "surface"
           }
          ],
          "table": [
           {
            "cells": {
             "fill": {
              "color": "rgb(237,237,237)"
             },
             "line": {
              "color": "white"
             }
            },
            "header": {
             "fill": {
              "color": "rgb(217,217,217)"
             },
             "line": {
              "color": "white"
             }
            },
            "type": "table"
           }
          ]
         },
         "layout": {
          "annotationdefaults": {
           "arrowhead": 0,
           "arrowwidth": 1
          },
          "autotypenumbers": "strict",
          "coloraxis": {
           "colorbar": {
            "outlinewidth": 0,
            "tickcolor": "rgb(237,237,237)",
            "ticklen": 6,
            "ticks": "inside"
           }
          },
          "colorscale": {
           "sequential": [
            [
             0,
             "rgb(20,44,66)"
            ],
            [
             1,
             "rgb(90,179,244)"
            ]
           ],
           "sequentialminus": [
            [
             0,
             "rgb(20,44,66)"
            ],
            [
             1,
             "rgb(90,179,244)"
            ]
           ]
          },
          "colorway": [
           "#F8766D",
           "#A3A500",
           "#00BF7D",
           "#00B0F6",
           "#E76BF3"
          ],
          "font": {
           "color": "rgb(51,51,51)"
          },
          "geo": {
           "bgcolor": "white",
           "lakecolor": "white",
           "landcolor": "rgb(237,237,237)",
           "showlakes": true,
           "showland": true,
           "subunitcolor": "white"
          },
          "hoverlabel": {
           "align": "left"
          },
          "hovermode": "closest",
          "paper_bgcolor": "white",
          "plot_bgcolor": "rgb(237,237,237)",
          "polar": {
           "angularaxis": {
            "gridcolor": "white",
            "linecolor": "white",
            "showgrid": true,
            "tickcolor": "rgb(51,51,51)",
            "ticks": "outside"
           },
           "bgcolor": "rgb(237,237,237)",
           "radialaxis": {
            "gridcolor": "white",
            "linecolor": "white",
            "showgrid": true,
            "tickcolor": "rgb(51,51,51)",
            "ticks": "outside"
           }
          },
          "scene": {
           "xaxis": {
            "backgroundcolor": "rgb(237,237,237)",
            "gridcolor": "white",
            "gridwidth": 2,
            "linecolor": "white",
            "showbackground": true,
            "showgrid": true,
            "tickcolor": "rgb(51,51,51)",
            "ticks": "outside",
            "zerolinecolor": "white"
           },
           "yaxis": {
            "backgroundcolor": "rgb(237,237,237)",
            "gridcolor": "white",
            "gridwidth": 2,
            "linecolor": "white",
            "showbackground": true,
            "showgrid": true,
            "tickcolor": "rgb(51,51,51)",
            "ticks": "outside",
            "zerolinecolor": "white"
           },
           "zaxis": {
            "backgroundcolor": "rgb(237,237,237)",
            "gridcolor": "white",
            "gridwidth": 2,
            "linecolor": "white",
            "showbackground": true,
            "showgrid": true,
            "tickcolor": "rgb(51,51,51)",
            "ticks": "outside",
            "zerolinecolor": "white"
           }
          },
          "shapedefaults": {
           "fillcolor": "black",
           "line": {
            "width": 0
           },
           "opacity": 0.3
          },
          "ternary": {
           "aaxis": {
            "gridcolor": "white",
            "linecolor": "white",
            "showgrid": true,
            "tickcolor": "rgb(51,51,51)",
            "ticks": "outside"
           },
           "baxis": {
            "gridcolor": "white",
            "linecolor": "white",
            "showgrid": true,
            "tickcolor": "rgb(51,51,51)",
            "ticks": "outside"
           },
           "bgcolor": "rgb(237,237,237)",
           "caxis": {
            "gridcolor": "white",
            "linecolor": "white",
            "showgrid": true,
            "tickcolor": "rgb(51,51,51)",
            "ticks": "outside"
           }
          },
          "xaxis": {
           "automargin": true,
           "gridcolor": "white",
           "linecolor": "white",
           "showgrid": true,
           "tickcolor": "rgb(51,51,51)",
           "ticks": "outside",
           "title": {
            "standoff": 15
           },
           "zerolinecolor": "white"
          },
          "yaxis": {
           "automargin": true,
           "gridcolor": "white",
           "linecolor": "white",
           "showgrid": true,
           "tickcolor": "rgb(51,51,51)",
           "ticks": "outside",
           "title": {
            "standoff": 15
           },
           "zerolinecolor": "white"
          }
         }
        },
        "width": 600,
        "xaxis": {
         "anchor": "y",
         "domain": [
          0,
          1
         ],
         "title": {
          "text": "x"
         }
        },
        "yaxis": {
         "anchor": "x",
         "domain": [
          0,
          1
         ],
         "title": {
          "text": "y"
         }
        }
       }
      }
     },
     "metadata": {},
     "output_type": "display_data"
    }
   ],
   "source": [
    "X, y = make_blobs(N_SAMPLES, cluster_std=STD, random_state=STATE, centers=N_CLUST)\n",
    "X = (X - X.mean(0, keepdims=True)) / X.std(0, keepdims=True)\n",
    "color = y.astype(str)\n",
    "X = torch.from_numpy(X)\n",
    "fig = px.scatter(x=X[:, 0], y=X[:, 1], color=color, **figKwargs)\n",
    "fig.show()\n"
   ]
  },
  {
   "cell_type": "code",
   "execution_count": 4,
   "metadata": {},
   "outputs": [
    {
     "data": {
      "application/vnd.plotly.v1+json": {
       "config": {
        "plotlyServerURL": "https://plot.ly"
       },
       "data": [
        {
         "hovertemplate": "color=1<br>x=%{x}<br>y=%{y}<extra></extra>",
         "legendgroup": "1",
         "marker": {
          "color": "#636EFA",
          "symbol": "circle"
         },
         "mode": "markers",
         "name": "1",
         "orientation": "v",
         "showlegend": true,
         "type": "scatter",
         "x": [
          1.053743651093665,
          1.0304301793490058,
          0.8284324465227679,
          1.4377639733976832,
          1.0538682079360342,
          0.8973326996635752,
          1.1029329092328488,
          1.290230788597792,
          1.3005885399183157,
          1.1824887916898328,
          1.4623981604678626,
          0.8438600431577624,
          1.5019469785249282,
          1.335429292250568,
          1.397561337294441,
          1.8257886304564286,
          1.3379899423675572,
          1.0380466058524962,
          1.180319948573405,
          1.6137136009772184,
          1.288356486113322,
          1.3044665943227105,
          1.4456886860349747,
          1.39347242824476,
          1.0329099739001335,
          0.9685495026702903,
          1.4729264194832052,
          1.450568487333462,
          1.1665746301628006,
          1.2154976069013186,
          1.6749528709326555,
          1.4745054704955596,
          1.0455770219335092
         ],
         "xaxis": "x",
         "y": [
          -1.3206754533614802,
          -1.1797079626476557,
          -1.3220857827246029,
          -1.0425553262546803,
          -1.2557399357833536,
          -1.275775295214898,
          -1.6817034920184422,
          -1.0785926766414307,
          -1.0858035937924089,
          -1.146383944609582,
          -1.0880103325885628,
          -1.0749844269818083,
          -1.1255799695507493,
          -1.2200956221252621,
          -1.129820922456182,
          -1.1209307438171014,
          -1.2831364095988411,
          -1.1646860448481802,
          -1.1684032045678212,
          -1.0816156835707929,
          -1.2784345188178132,
          -1.045238070327321,
          -1.0708186950698886,
          -0.8935909900984641,
          -0.8923621748922208,
          -1.4280534156553082,
          -1.3068458806181291,
          -1.1829918823757446,
          -0.9806904594775487,
          -1.019461818419907,
          -1.2244823779478915,
          -1.1466054777637895,
          -1.3610809273068116
         ],
         "yaxis": "y"
        },
        {
         "hovertemplate": "color=2<br>x=%{x}<br>y=%{y}<extra></extra>",
         "legendgroup": "2",
         "marker": {
          "color": "#EF553B",
          "symbol": "circle"
         },
         "mode": "markers",
         "name": "2",
         "orientation": "v",
         "showlegend": true,
         "type": "scatter",
         "x": [
          -0.7243327381673373,
          -1.0679818087254052,
          -1.6256870494144724,
          -1.2910539660565594,
          -1.2205761562524422,
          -1.2910909409662767,
          -0.6978583531261866,
          -0.9730671491386583,
          -0.9764043642907584,
          -0.7576799941135409,
          -1.3561487435950732,
          -0.9916206852794982,
          -0.9127837876432864,
          -1.5210967238494808,
          -1.374503442775555,
          -1.2668609189462883,
          -1.2581346097240655,
          -0.8047035536678926,
          -0.9554260323557816,
          -0.6160195099190611,
          -1.3266688844483974,
          -1.250894026944287,
          -1.184511579412838,
          -1.252618920402433,
          -0.8261619027391889,
          -1.1698572865542214,
          -1.1440348595619427,
          -0.8519369044707669,
          -0.5949208082879046,
          -1.0575716220382523,
          -0.9597601268147717,
          -1.6238749780578257,
          -0.8877125797035045
         ],
         "xaxis": "x",
         "y": [
          0.08007929852707414,
          -0.44416157173066434,
          -0.26458872842809045,
          -0.14635688785254933,
          -0.13568504596757908,
          -0.2870777451297083,
          -0.1809954016340368,
          0.040113177018631326,
          -0.20119600782704528,
          -0.04791094895962166,
          -0.2608790922224402,
          0.31726808532911266,
          -0.26011459916699264,
          -0.05189168477068001,
          -0.06242811675858889,
          -0.049544499801428506,
          -0.060239745818781554,
          -0.3716849546564056,
          -0.22648234084631425,
          -0.20383987487863084,
          -0.06941479095383352,
          -0.04849418150923344,
          0.32467498501923564,
          -0.14870130725023425,
          -0.12189216618934265,
          -0.18748779485114878,
          0.06561105029748066,
          0.06716031695210577,
          -0.06553451326299983,
          -0.26294476014607304,
          -0.05886464331778313,
          -0.06080705968233393,
          0.186431259617944
         ],
         "yaxis": "y"
        },
        {
         "hovertemplate": "color=0<br>x=%{x}<br>y=%{y}<extra></extra>",
         "legendgroup": "0",
         "marker": {
          "color": "#00CC96",
          "symbol": "circle"
         },
         "mode": "markers",
         "name": "0",
         "orientation": "v",
         "showlegend": true,
         "type": "scatter",
         "x": [
          -0.24050895679992768,
          0.17648883407886076,
          0.02352142545955114,
          -0.45410426821459626,
          0.17296003882813937,
          -0.4396016600838884,
          -0.07601009326491152,
          -0.15028296586242068,
          0.18108935160553802,
          -0.5175304096471027,
          -0.3175283179690559,
          -0.06826968097196959,
          -0.27186732706771277,
          -0.37909313045624016,
          -0.21676991199641849,
          0.001346457497240279,
          0.03460376310976049,
          0.45207092184559305,
          -0.5173598917011434,
          -0.6940876447447076,
          -0.23826795503633014,
          -0.42907631169664034,
          0.2462045117191672,
          -0.4424856543444192,
          -0.010542399378280078,
          0.5176318327408969,
          -0.3862055447041447,
          -0.13802659159884517,
          -0.42750189297058566,
          -0.42858920559582336,
          0.3747039446179279,
          -0.7493290331674409,
          -0.11640650767386308,
          -0.3065336249651325
         ],
         "xaxis": "x",
         "y": [
          1.4290061475959523,
          1.3375201247969382,
          1.4863035603690706,
          1.3724536903562652,
          1.0129949936537228,
          1.214548083175785,
          1.0653970788648708,
          1.2286335739133085,
          1.032730660998333,
          1.3154350659611715,
          1.0225967022863252,
          1.340086897371031,
          1.2509489419525124,
          1.240296518869591,
          1.3314142564452838,
          1.2377781199821267,
          1.3861060008919799,
          0.8516575303562622,
          1.2340358734197037,
          1.3396825972615432,
          1.271724292177335,
          1.1983700191081372,
          1.1642190947133675,
          0.9796220752370453,
          1.1365118628229673,
          1.4984864272300988,
          1.3640541652887208,
          0.7651030005010572,
          1.1830254014058643,
          1.0254213025188765,
          1.4103860926174046,
          1.2667707342271195,
          1.4655679663276082,
          1.4159349500782485
         ],
         "yaxis": "y"
        },
        {
         "marker": {
          "color": "cyan",
          "size": 14
         },
         "mode": "markers",
         "name": "Naive init",
         "type": "scatter",
         "x": [
          -0.27186732706771277,
          -0.5175304096471027,
          -0.7243327381673373
         ],
         "y": [
          1.2509489419525124,
          1.3154350659611715,
          0.08007929852707414
         ]
        },
        {
         "marker": {
          "color": "black",
          "size": 14
         },
         "mode": "markers",
         "name": "Plus plus init",
         "type": "scatter",
         "x": [
          -0.010542399378280078,
          1.1029329092328488,
          -0.9554260323557816
         ],
         "y": [
          1.1365118628229673,
          -1.6817034920184422,
          -0.22648234084631425
         ]
        }
       ],
       "layout": {
        "height": 500,
        "legend": {
         "title": {
          "text": "color"
         },
         "tracegroupgap": 0
        },
        "margin": {
         "t": 60
        },
        "template": {
         "data": {
          "bar": [
           {
            "error_x": {
             "color": "rgb(51,51,51)"
            },
            "error_y": {
             "color": "rgb(51,51,51)"
            },
            "marker": {
             "line": {
              "color": "rgb(237,237,237)",
              "width": 0.5
             },
             "pattern": {
              "fillmode": "overlay",
              "size": 10,
              "solidity": 0.2
             }
            },
            "type": "bar"
           }
          ],
          "barpolar": [
           {
            "marker": {
             "line": {
              "color": "rgb(237,237,237)",
              "width": 0.5
             },
             "pattern": {
              "fillmode": "overlay",
              "size": 10,
              "solidity": 0.2
             }
            },
            "type": "barpolar"
           }
          ],
          "carpet": [
           {
            "aaxis": {
             "endlinecolor": "rgb(51,51,51)",
             "gridcolor": "white",
             "linecolor": "white",
             "minorgridcolor": "white",
             "startlinecolor": "rgb(51,51,51)"
            },
            "baxis": {
             "endlinecolor": "rgb(51,51,51)",
             "gridcolor": "white",
             "linecolor": "white",
             "minorgridcolor": "white",
             "startlinecolor": "rgb(51,51,51)"
            },
            "type": "carpet"
           }
          ],
          "choropleth": [
           {
            "colorbar": {
             "outlinewidth": 0,
             "tickcolor": "rgb(237,237,237)",
             "ticklen": 6,
             "ticks": "inside"
            },
            "type": "choropleth"
           }
          ],
          "contour": [
           {
            "colorbar": {
             "outlinewidth": 0,
             "tickcolor": "rgb(237,237,237)",
             "ticklen": 6,
             "ticks": "inside"
            },
            "colorscale": [
             [
              0,
              "rgb(20,44,66)"
             ],
             [
              1,
              "rgb(90,179,244)"
             ]
            ],
            "type": "contour"
           }
          ],
          "contourcarpet": [
           {
            "colorbar": {
             "outlinewidth": 0,
             "tickcolor": "rgb(237,237,237)",
             "ticklen": 6,
             "ticks": "inside"
            },
            "type": "contourcarpet"
           }
          ],
          "heatmap": [
           {
            "colorbar": {
             "outlinewidth": 0,
             "tickcolor": "rgb(237,237,237)",
             "ticklen": 6,
             "ticks": "inside"
            },
            "colorscale": [
             [
              0,
              "rgb(20,44,66)"
             ],
             [
              1,
              "rgb(90,179,244)"
             ]
            ],
            "type": "heatmap"
           }
          ],
          "heatmapgl": [
           {
            "colorbar": {
             "outlinewidth": 0,
             "tickcolor": "rgb(237,237,237)",
             "ticklen": 6,
             "ticks": "inside"
            },
            "colorscale": [
             [
              0,
              "rgb(20,44,66)"
             ],
             [
              1,
              "rgb(90,179,244)"
             ]
            ],
            "type": "heatmapgl"
           }
          ],
          "histogram": [
           {
            "marker": {
             "pattern": {
              "fillmode": "overlay",
              "size": 10,
              "solidity": 0.2
             }
            },
            "type": "histogram"
           }
          ],
          "histogram2d": [
           {
            "colorbar": {
             "outlinewidth": 0,
             "tickcolor": "rgb(237,237,237)",
             "ticklen": 6,
             "ticks": "inside"
            },
            "colorscale": [
             [
              0,
              "rgb(20,44,66)"
             ],
             [
              1,
              "rgb(90,179,244)"
             ]
            ],
            "type": "histogram2d"
           }
          ],
          "histogram2dcontour": [
           {
            "colorbar": {
             "outlinewidth": 0,
             "tickcolor": "rgb(237,237,237)",
             "ticklen": 6,
             "ticks": "inside"
            },
            "colorscale": [
             [
              0,
              "rgb(20,44,66)"
             ],
             [
              1,
              "rgb(90,179,244)"
             ]
            ],
            "type": "histogram2dcontour"
           }
          ],
          "mesh3d": [
           {
            "colorbar": {
             "outlinewidth": 0,
             "tickcolor": "rgb(237,237,237)",
             "ticklen": 6,
             "ticks": "inside"
            },
            "type": "mesh3d"
           }
          ],
          "parcoords": [
           {
            "line": {
             "colorbar": {
              "outlinewidth": 0,
              "tickcolor": "rgb(237,237,237)",
              "ticklen": 6,
              "ticks": "inside"
             }
            },
            "type": "parcoords"
           }
          ],
          "pie": [
           {
            "automargin": true,
            "type": "pie"
           }
          ],
          "scatter": [
           {
            "fillpattern": {
             "fillmode": "overlay",
             "size": 10,
             "solidity": 0.2
            },
            "type": "scatter"
           }
          ],
          "scatter3d": [
           {
            "line": {
             "colorbar": {
              "outlinewidth": 0,
              "tickcolor": "rgb(237,237,237)",
              "ticklen": 6,
              "ticks": "inside"
             }
            },
            "marker": {
             "colorbar": {
              "outlinewidth": 0,
              "tickcolor": "rgb(237,237,237)",
              "ticklen": 6,
              "ticks": "inside"
             }
            },
            "type": "scatter3d"
           }
          ],
          "scattercarpet": [
           {
            "marker": {
             "colorbar": {
              "outlinewidth": 0,
              "tickcolor": "rgb(237,237,237)",
              "ticklen": 6,
              "ticks": "inside"
             }
            },
            "type": "scattercarpet"
           }
          ],
          "scattergeo": [
           {
            "marker": {
             "colorbar": {
              "outlinewidth": 0,
              "tickcolor": "rgb(237,237,237)",
              "ticklen": 6,
              "ticks": "inside"
             }
            },
            "type": "scattergeo"
           }
          ],
          "scattergl": [
           {
            "marker": {
             "colorbar": {
              "outlinewidth": 0,
              "tickcolor": "rgb(237,237,237)",
              "ticklen": 6,
              "ticks": "inside"
             }
            },
            "type": "scattergl"
           }
          ],
          "scattermapbox": [
           {
            "marker": {
             "colorbar": {
              "outlinewidth": 0,
              "tickcolor": "rgb(237,237,237)",
              "ticklen": 6,
              "ticks": "inside"
             }
            },
            "type": "scattermapbox"
           }
          ],
          "scatterpolar": [
           {
            "marker": {
             "colorbar": {
              "outlinewidth": 0,
              "tickcolor": "rgb(237,237,237)",
              "ticklen": 6,
              "ticks": "inside"
             }
            },
            "type": "scatterpolar"
           }
          ],
          "scatterpolargl": [
           {
            "marker": {
             "colorbar": {
              "outlinewidth": 0,
              "tickcolor": "rgb(237,237,237)",
              "ticklen": 6,
              "ticks": "inside"
             }
            },
            "type": "scatterpolargl"
           }
          ],
          "scatterternary": [
           {
            "marker": {
             "colorbar": {
              "outlinewidth": 0,
              "tickcolor": "rgb(237,237,237)",
              "ticklen": 6,
              "ticks": "inside"
             }
            },
            "type": "scatterternary"
           }
          ],
          "surface": [
           {
            "colorbar": {
             "outlinewidth": 0,
             "tickcolor": "rgb(237,237,237)",
             "ticklen": 6,
             "ticks": "inside"
            },
            "colorscale": [
             [
              0,
              "rgb(20,44,66)"
             ],
             [
              1,
              "rgb(90,179,244)"
             ]
            ],
            "type": "surface"
           }
          ],
          "table": [
           {
            "cells": {
             "fill": {
              "color": "rgb(237,237,237)"
             },
             "line": {
              "color": "white"
             }
            },
            "header": {
             "fill": {
              "color": "rgb(217,217,217)"
             },
             "line": {
              "color": "white"
             }
            },
            "type": "table"
           }
          ]
         },
         "layout": {
          "annotationdefaults": {
           "arrowhead": 0,
           "arrowwidth": 1
          },
          "autotypenumbers": "strict",
          "coloraxis": {
           "colorbar": {
            "outlinewidth": 0,
            "tickcolor": "rgb(237,237,237)",
            "ticklen": 6,
            "ticks": "inside"
           }
          },
          "colorscale": {
           "sequential": [
            [
             0,
             "rgb(20,44,66)"
            ],
            [
             1,
             "rgb(90,179,244)"
            ]
           ],
           "sequentialminus": [
            [
             0,
             "rgb(20,44,66)"
            ],
            [
             1,
             "rgb(90,179,244)"
            ]
           ]
          },
          "colorway": [
           "#F8766D",
           "#A3A500",
           "#00BF7D",
           "#00B0F6",
           "#E76BF3"
          ],
          "font": {
           "color": "rgb(51,51,51)"
          },
          "geo": {
           "bgcolor": "white",
           "lakecolor": "white",
           "landcolor": "rgb(237,237,237)",
           "showlakes": true,
           "showland": true,
           "subunitcolor": "white"
          },
          "hoverlabel": {
           "align": "left"
          },
          "hovermode": "closest",
          "paper_bgcolor": "white",
          "plot_bgcolor": "rgb(237,237,237)",
          "polar": {
           "angularaxis": {
            "gridcolor": "white",
            "linecolor": "white",
            "showgrid": true,
            "tickcolor": "rgb(51,51,51)",
            "ticks": "outside"
           },
           "bgcolor": "rgb(237,237,237)",
           "radialaxis": {
            "gridcolor": "white",
            "linecolor": "white",
            "showgrid": true,
            "tickcolor": "rgb(51,51,51)",
            "ticks": "outside"
           }
          },
          "scene": {
           "xaxis": {
            "backgroundcolor": "rgb(237,237,237)",
            "gridcolor": "white",
            "gridwidth": 2,
            "linecolor": "white",
            "showbackground": true,
            "showgrid": true,
            "tickcolor": "rgb(51,51,51)",
            "ticks": "outside",
            "zerolinecolor": "white"
           },
           "yaxis": {
            "backgroundcolor": "rgb(237,237,237)",
            "gridcolor": "white",
            "gridwidth": 2,
            "linecolor": "white",
            "showbackground": true,
            "showgrid": true,
            "tickcolor": "rgb(51,51,51)",
            "ticks": "outside",
            "zerolinecolor": "white"
           },
           "zaxis": {
            "backgroundcolor": "rgb(237,237,237)",
            "gridcolor": "white",
            "gridwidth": 2,
            "linecolor": "white",
            "showbackground": true,
            "showgrid": true,
            "tickcolor": "rgb(51,51,51)",
            "ticks": "outside",
            "zerolinecolor": "white"
           }
          },
          "shapedefaults": {
           "fillcolor": "black",
           "line": {
            "width": 0
           },
           "opacity": 0.3
          },
          "ternary": {
           "aaxis": {
            "gridcolor": "white",
            "linecolor": "white",
            "showgrid": true,
            "tickcolor": "rgb(51,51,51)",
            "ticks": "outside"
           },
           "baxis": {
            "gridcolor": "white",
            "linecolor": "white",
            "showgrid": true,
            "tickcolor": "rgb(51,51,51)",
            "ticks": "outside"
           },
           "bgcolor": "rgb(237,237,237)",
           "caxis": {
            "gridcolor": "white",
            "linecolor": "white",
            "showgrid": true,
            "tickcolor": "rgb(51,51,51)",
            "ticks": "outside"
           }
          },
          "xaxis": {
           "automargin": true,
           "gridcolor": "white",
           "linecolor": "white",
           "showgrid": true,
           "tickcolor": "rgb(51,51,51)",
           "ticks": "outside",
           "title": {
            "standoff": 15
           },
           "zerolinecolor": "white"
          },
          "yaxis": {
           "automargin": true,
           "gridcolor": "white",
           "linecolor": "white",
           "showgrid": true,
           "tickcolor": "rgb(51,51,51)",
           "ticks": "outside",
           "title": {
            "standoff": 15
           },
           "zerolinecolor": "white"
          }
         }
        },
        "width": 600,
        "xaxis": {
         "anchor": "y",
         "domain": [
          0,
          1
         ],
         "title": {
          "text": "x"
         }
        },
        "yaxis": {
         "anchor": "x",
         "domain": [
          0,
          1
         ],
         "title": {
          "text": "y"
         }
        }
       }
      }
     },
     "metadata": {},
     "output_type": "display_data"
    }
   ],
   "source": [
    "from ml.cluster.functional import init_centroids, plus_plus_init_centroids\n",
    "from ml.distance.functional import eucledian_dist, eucledian_dist_loops\n",
    "\n",
    "\n",
    "naive_kwargs = {\"marker\": {\"size\": 14, \"color\": \"cyan\"}, \"name\": \"Naive init\"}\n",
    "plus_plus_kwargs = {\"marker\": {\"size\": 14, \"color\": \"black\"}, \"name\": \"Plus plus init\"}\n",
    "generator = torch.manual_seed(STATE)\n",
    "naive_init = init_centroids(X, N_CLUST, generator)\n",
    "plus_plus_init = plus_plus_init_centroids(X, N_CLUST, generator)\n",
    "\n",
    "fig = px.scatter(x=X[:, 0], y=X[:, 1], color=color, **figKwargs)\n",
    "fig.add_trace(\n",
    "    go.Scatter(x=naive_init[:, 0], y=naive_init[:, 1], mode=\"markers\", **naive_kwargs)\n",
    ")\n",
    "fig.add_trace(\n",
    "    go.Scatter(\n",
    "        x=plus_plus_init[:, 0],\n",
    "        y=plus_plus_init[:, 1],\n",
    "        mode=\"markers\",\n",
    "        **plus_plus_kwargs\n",
    "    )\n",
    ")\n",
    "fig.show()\n"
   ]
  },
  {
   "cell_type": "code",
   "execution_count": 5,
   "metadata": {},
   "outputs": [
    {
     "data": {
      "application/vnd.plotly.v1+json": {
       "config": {
        "plotlyServerURL": "https://plot.ly"
       },
       "data": [
        {
         "hovertemplate": "color=1<br>x=%{x}<br>y=%{y}<extra></extra>",
         "legendgroup": "1",
         "marker": {
          "color": "#636EFA",
          "symbol": "circle"
         },
         "mode": "markers",
         "name": "1",
         "orientation": "v",
         "showlegend": true,
         "type": "scatter",
         "x": [
          1.053743651093665,
          1.0304301793490058,
          0.8284324465227679,
          1.4377639733976832,
          1.0538682079360342,
          0.8973326996635752,
          1.1029329092328488,
          1.290230788597792,
          1.3005885399183157,
          1.1824887916898328,
          1.4623981604678626,
          0.8438600431577624,
          1.5019469785249282,
          1.335429292250568,
          1.397561337294441,
          1.8257886304564286,
          1.3379899423675572,
          1.0380466058524962,
          1.180319948573405,
          1.6137136009772184,
          1.288356486113322,
          1.3044665943227105,
          1.4456886860349747,
          1.39347242824476,
          1.0329099739001335,
          0.9685495026702903,
          1.4729264194832052,
          1.450568487333462,
          1.1665746301628006,
          1.2154976069013186,
          1.6749528709326555,
          1.4745054704955596,
          1.0455770219335092
         ],
         "xaxis": "x",
         "y": [
          -1.3206754533614802,
          -1.1797079626476557,
          -1.3220857827246029,
          -1.0425553262546803,
          -1.2557399357833536,
          -1.275775295214898,
          -1.6817034920184422,
          -1.0785926766414307,
          -1.0858035937924089,
          -1.146383944609582,
          -1.0880103325885628,
          -1.0749844269818083,
          -1.1255799695507493,
          -1.2200956221252621,
          -1.129820922456182,
          -1.1209307438171014,
          -1.2831364095988411,
          -1.1646860448481802,
          -1.1684032045678212,
          -1.0816156835707929,
          -1.2784345188178132,
          -1.045238070327321,
          -1.0708186950698886,
          -0.8935909900984641,
          -0.8923621748922208,
          -1.4280534156553082,
          -1.3068458806181291,
          -1.1829918823757446,
          -0.9806904594775487,
          -1.019461818419907,
          -1.2244823779478915,
          -1.1466054777637895,
          -1.3610809273068116
         ],
         "yaxis": "y"
        },
        {
         "hovertemplate": "color=2<br>x=%{x}<br>y=%{y}<extra></extra>",
         "legendgroup": "2",
         "marker": {
          "color": "#EF553B",
          "symbol": "circle"
         },
         "mode": "markers",
         "name": "2",
         "orientation": "v",
         "showlegend": true,
         "type": "scatter",
         "x": [
          -0.7243327381673373,
          -1.0679818087254052,
          -1.6256870494144724,
          -1.2910539660565594,
          -1.2205761562524422,
          -1.2910909409662767,
          -0.6978583531261866,
          -0.9730671491386583,
          -0.9764043642907584,
          -0.7576799941135409,
          -1.3561487435950732,
          -0.9916206852794982,
          -0.9127837876432864,
          -1.5210967238494808,
          -1.374503442775555,
          -1.2668609189462883,
          -1.2581346097240655,
          -0.8047035536678926,
          -0.9554260323557816,
          -0.6160195099190611,
          -1.3266688844483974,
          -1.250894026944287,
          -1.184511579412838,
          -1.252618920402433,
          -0.8261619027391889,
          -1.1698572865542214,
          -1.1440348595619427,
          -0.8519369044707669,
          -0.5949208082879046,
          -1.0575716220382523,
          -0.9597601268147717,
          -1.6238749780578257,
          -0.8877125797035045
         ],
         "xaxis": "x",
         "y": [
          0.08007929852707414,
          -0.44416157173066434,
          -0.26458872842809045,
          -0.14635688785254933,
          -0.13568504596757908,
          -0.2870777451297083,
          -0.1809954016340368,
          0.040113177018631326,
          -0.20119600782704528,
          -0.04791094895962166,
          -0.2608790922224402,
          0.31726808532911266,
          -0.26011459916699264,
          -0.05189168477068001,
          -0.06242811675858889,
          -0.049544499801428506,
          -0.060239745818781554,
          -0.3716849546564056,
          -0.22648234084631425,
          -0.20383987487863084,
          -0.06941479095383352,
          -0.04849418150923344,
          0.32467498501923564,
          -0.14870130725023425,
          -0.12189216618934265,
          -0.18748779485114878,
          0.06561105029748066,
          0.06716031695210577,
          -0.06553451326299983,
          -0.26294476014607304,
          -0.05886464331778313,
          -0.06080705968233393,
          0.186431259617944
         ],
         "yaxis": "y"
        },
        {
         "hovertemplate": "color=0<br>x=%{x}<br>y=%{y}<extra></extra>",
         "legendgroup": "0",
         "marker": {
          "color": "#00CC96",
          "symbol": "circle"
         },
         "mode": "markers",
         "name": "0",
         "orientation": "v",
         "showlegend": true,
         "type": "scatter",
         "x": [
          -0.24050895679992768,
          0.17648883407886076,
          0.02352142545955114,
          -0.45410426821459626,
          0.17296003882813937,
          -0.4396016600838884,
          -0.07601009326491152,
          -0.15028296586242068,
          0.18108935160553802,
          -0.5175304096471027,
          -0.3175283179690559,
          -0.06826968097196959,
          -0.27186732706771277,
          -0.37909313045624016,
          -0.21676991199641849,
          0.001346457497240279,
          0.03460376310976049,
          0.45207092184559305,
          -0.5173598917011434,
          -0.6940876447447076,
          -0.23826795503633014,
          -0.42907631169664034,
          0.2462045117191672,
          -0.4424856543444192,
          -0.010542399378280078,
          0.5176318327408969,
          -0.3862055447041447,
          -0.13802659159884517,
          -0.42750189297058566,
          -0.42858920559582336,
          0.3747039446179279,
          -0.7493290331674409,
          -0.11640650767386308,
          -0.3065336249651325
         ],
         "xaxis": "x",
         "y": [
          1.4290061475959523,
          1.3375201247969382,
          1.4863035603690706,
          1.3724536903562652,
          1.0129949936537228,
          1.214548083175785,
          1.0653970788648708,
          1.2286335739133085,
          1.032730660998333,
          1.3154350659611715,
          1.0225967022863252,
          1.340086897371031,
          1.2509489419525124,
          1.240296518869591,
          1.3314142564452838,
          1.2377781199821267,
          1.3861060008919799,
          0.8516575303562622,
          1.2340358734197037,
          1.3396825972615432,
          1.271724292177335,
          1.1983700191081372,
          1.1642190947133675,
          0.9796220752370453,
          1.1365118628229673,
          1.4984864272300988,
          1.3640541652887208,
          0.7651030005010572,
          1.1830254014058643,
          1.0254213025188765,
          1.4103860926174046,
          1.2667707342271195,
          1.4655679663276082,
          1.4159349500782485
         ],
         "yaxis": "y"
        },
        {
         "marker": {
          "color": "black",
          "size": 14
         },
         "mode": "markers",
         "name": "centroids",
         "type": "scatter",
         "x": [
          -0.17162817348261544,
          1.2620882698743299,
          -1.0852592426498167
         ],
         "y": [
          1.2316124647875186,
          -1.1720285912704447,
          -0.09690546335911987
         ]
        }
       ],
       "layout": {
        "height": 500,
        "legend": {
         "title": {
          "text": "color"
         },
         "tracegroupgap": 0
        },
        "margin": {
         "t": 60
        },
        "template": {
         "data": {
          "bar": [
           {
            "error_x": {
             "color": "rgb(51,51,51)"
            },
            "error_y": {
             "color": "rgb(51,51,51)"
            },
            "marker": {
             "line": {
              "color": "rgb(237,237,237)",
              "width": 0.5
             },
             "pattern": {
              "fillmode": "overlay",
              "size": 10,
              "solidity": 0.2
             }
            },
            "type": "bar"
           }
          ],
          "barpolar": [
           {
            "marker": {
             "line": {
              "color": "rgb(237,237,237)",
              "width": 0.5
             },
             "pattern": {
              "fillmode": "overlay",
              "size": 10,
              "solidity": 0.2
             }
            },
            "type": "barpolar"
           }
          ],
          "carpet": [
           {
            "aaxis": {
             "endlinecolor": "rgb(51,51,51)",
             "gridcolor": "white",
             "linecolor": "white",
             "minorgridcolor": "white",
             "startlinecolor": "rgb(51,51,51)"
            },
            "baxis": {
             "endlinecolor": "rgb(51,51,51)",
             "gridcolor": "white",
             "linecolor": "white",
             "minorgridcolor": "white",
             "startlinecolor": "rgb(51,51,51)"
            },
            "type": "carpet"
           }
          ],
          "choropleth": [
           {
            "colorbar": {
             "outlinewidth": 0,
             "tickcolor": "rgb(237,237,237)",
             "ticklen": 6,
             "ticks": "inside"
            },
            "type": "choropleth"
           }
          ],
          "contour": [
           {
            "colorbar": {
             "outlinewidth": 0,
             "tickcolor": "rgb(237,237,237)",
             "ticklen": 6,
             "ticks": "inside"
            },
            "colorscale": [
             [
              0,
              "rgb(20,44,66)"
             ],
             [
              1,
              "rgb(90,179,244)"
             ]
            ],
            "type": "contour"
           }
          ],
          "contourcarpet": [
           {
            "colorbar": {
             "outlinewidth": 0,
             "tickcolor": "rgb(237,237,237)",
             "ticklen": 6,
             "ticks": "inside"
            },
            "type": "contourcarpet"
           }
          ],
          "heatmap": [
           {
            "colorbar": {
             "outlinewidth": 0,
             "tickcolor": "rgb(237,237,237)",
             "ticklen": 6,
             "ticks": "inside"
            },
            "colorscale": [
             [
              0,
              "rgb(20,44,66)"
             ],
             [
              1,
              "rgb(90,179,244)"
             ]
            ],
            "type": "heatmap"
           }
          ],
          "heatmapgl": [
           {
            "colorbar": {
             "outlinewidth": 0,
             "tickcolor": "rgb(237,237,237)",
             "ticklen": 6,
             "ticks": "inside"
            },
            "colorscale": [
             [
              0,
              "rgb(20,44,66)"
             ],
             [
              1,
              "rgb(90,179,244)"
             ]
            ],
            "type": "heatmapgl"
           }
          ],
          "histogram": [
           {
            "marker": {
             "pattern": {
              "fillmode": "overlay",
              "size": 10,
              "solidity": 0.2
             }
            },
            "type": "histogram"
           }
          ],
          "histogram2d": [
           {
            "colorbar": {
             "outlinewidth": 0,
             "tickcolor": "rgb(237,237,237)",
             "ticklen": 6,
             "ticks": "inside"
            },
            "colorscale": [
             [
              0,
              "rgb(20,44,66)"
             ],
             [
              1,
              "rgb(90,179,244)"
             ]
            ],
            "type": "histogram2d"
           }
          ],
          "histogram2dcontour": [
           {
            "colorbar": {
             "outlinewidth": 0,
             "tickcolor": "rgb(237,237,237)",
             "ticklen": 6,
             "ticks": "inside"
            },
            "colorscale": [
             [
              0,
              "rgb(20,44,66)"
             ],
             [
              1,
              "rgb(90,179,244)"
             ]
            ],
            "type": "histogram2dcontour"
           }
          ],
          "mesh3d": [
           {
            "colorbar": {
             "outlinewidth": 0,
             "tickcolor": "rgb(237,237,237)",
             "ticklen": 6,
             "ticks": "inside"
            },
            "type": "mesh3d"
           }
          ],
          "parcoords": [
           {
            "line": {
             "colorbar": {
              "outlinewidth": 0,
              "tickcolor": "rgb(237,237,237)",
              "ticklen": 6,
              "ticks": "inside"
             }
            },
            "type": "parcoords"
           }
          ],
          "pie": [
           {
            "automargin": true,
            "type": "pie"
           }
          ],
          "scatter": [
           {
            "fillpattern": {
             "fillmode": "overlay",
             "size": 10,
             "solidity": 0.2
            },
            "type": "scatter"
           }
          ],
          "scatter3d": [
           {
            "line": {
             "colorbar": {
              "outlinewidth": 0,
              "tickcolor": "rgb(237,237,237)",
              "ticklen": 6,
              "ticks": "inside"
             }
            },
            "marker": {
             "colorbar": {
              "outlinewidth": 0,
              "tickcolor": "rgb(237,237,237)",
              "ticklen": 6,
              "ticks": "inside"
             }
            },
            "type": "scatter3d"
           }
          ],
          "scattercarpet": [
           {
            "marker": {
             "colorbar": {
              "outlinewidth": 0,
              "tickcolor": "rgb(237,237,237)",
              "ticklen": 6,
              "ticks": "inside"
             }
            },
            "type": "scattercarpet"
           }
          ],
          "scattergeo": [
           {
            "marker": {
             "colorbar": {
              "outlinewidth": 0,
              "tickcolor": "rgb(237,237,237)",
              "ticklen": 6,
              "ticks": "inside"
             }
            },
            "type": "scattergeo"
           }
          ],
          "scattergl": [
           {
            "marker": {
             "colorbar": {
              "outlinewidth": 0,
              "tickcolor": "rgb(237,237,237)",
              "ticklen": 6,
              "ticks": "inside"
             }
            },
            "type": "scattergl"
           }
          ],
          "scattermapbox": [
           {
            "marker": {
             "colorbar": {
              "outlinewidth": 0,
              "tickcolor": "rgb(237,237,237)",
              "ticklen": 6,
              "ticks": "inside"
             }
            },
            "type": "scattermapbox"
           }
          ],
          "scatterpolar": [
           {
            "marker": {
             "colorbar": {
              "outlinewidth": 0,
              "tickcolor": "rgb(237,237,237)",
              "ticklen": 6,
              "ticks": "inside"
             }
            },
            "type": "scatterpolar"
           }
          ],
          "scatterpolargl": [
           {
            "marker": {
             "colorbar": {
              "outlinewidth": 0,
              "tickcolor": "rgb(237,237,237)",
              "ticklen": 6,
              "ticks": "inside"
             }
            },
            "type": "scatterpolargl"
           }
          ],
          "scatterternary": [
           {
            "marker": {
             "colorbar": {
              "outlinewidth": 0,
              "tickcolor": "rgb(237,237,237)",
              "ticklen": 6,
              "ticks": "inside"
             }
            },
            "type": "scatterternary"
           }
          ],
          "surface": [
           {
            "colorbar": {
             "outlinewidth": 0,
             "tickcolor": "rgb(237,237,237)",
             "ticklen": 6,
             "ticks": "inside"
            },
            "colorscale": [
             [
              0,
              "rgb(20,44,66)"
             ],
             [
              1,
              "rgb(90,179,244)"
             ]
            ],
            "type": "surface"
           }
          ],
          "table": [
           {
            "cells": {
             "fill": {
              "color": "rgb(237,237,237)"
             },
             "line": {
              "color": "white"
             }
            },
            "header": {
             "fill": {
              "color": "rgb(217,217,217)"
             },
             "line": {
              "color": "white"
             }
            },
            "type": "table"
           }
          ]
         },
         "layout": {
          "annotationdefaults": {
           "arrowhead": 0,
           "arrowwidth": 1
          },
          "autotypenumbers": "strict",
          "coloraxis": {
           "colorbar": {
            "outlinewidth": 0,
            "tickcolor": "rgb(237,237,237)",
            "ticklen": 6,
            "ticks": "inside"
           }
          },
          "colorscale": {
           "sequential": [
            [
             0,
             "rgb(20,44,66)"
            ],
            [
             1,
             "rgb(90,179,244)"
            ]
           ],
           "sequentialminus": [
            [
             0,
             "rgb(20,44,66)"
            ],
            [
             1,
             "rgb(90,179,244)"
            ]
           ]
          },
          "colorway": [
           "#F8766D",
           "#A3A500",
           "#00BF7D",
           "#00B0F6",
           "#E76BF3"
          ],
          "font": {
           "color": "rgb(51,51,51)"
          },
          "geo": {
           "bgcolor": "white",
           "lakecolor": "white",
           "landcolor": "rgb(237,237,237)",
           "showlakes": true,
           "showland": true,
           "subunitcolor": "white"
          },
          "hoverlabel": {
           "align": "left"
          },
          "hovermode": "closest",
          "paper_bgcolor": "white",
          "plot_bgcolor": "rgb(237,237,237)",
          "polar": {
           "angularaxis": {
            "gridcolor": "white",
            "linecolor": "white",
            "showgrid": true,
            "tickcolor": "rgb(51,51,51)",
            "ticks": "outside"
           },
           "bgcolor": "rgb(237,237,237)",
           "radialaxis": {
            "gridcolor": "white",
            "linecolor": "white",
            "showgrid": true,
            "tickcolor": "rgb(51,51,51)",
            "ticks": "outside"
           }
          },
          "scene": {
           "xaxis": {
            "backgroundcolor": "rgb(237,237,237)",
            "gridcolor": "white",
            "gridwidth": 2,
            "linecolor": "white",
            "showbackground": true,
            "showgrid": true,
            "tickcolor": "rgb(51,51,51)",
            "ticks": "outside",
            "zerolinecolor": "white"
           },
           "yaxis": {
            "backgroundcolor": "rgb(237,237,237)",
            "gridcolor": "white",
            "gridwidth": 2,
            "linecolor": "white",
            "showbackground": true,
            "showgrid": true,
            "tickcolor": "rgb(51,51,51)",
            "ticks": "outside",
            "zerolinecolor": "white"
           },
           "zaxis": {
            "backgroundcolor": "rgb(237,237,237)",
            "gridcolor": "white",
            "gridwidth": 2,
            "linecolor": "white",
            "showbackground": true,
            "showgrid": true,
            "tickcolor": "rgb(51,51,51)",
            "ticks": "outside",
            "zerolinecolor": "white"
           }
          },
          "shapedefaults": {
           "fillcolor": "black",
           "line": {
            "width": 0
           },
           "opacity": 0.3
          },
          "ternary": {
           "aaxis": {
            "gridcolor": "white",
            "linecolor": "white",
            "showgrid": true,
            "tickcolor": "rgb(51,51,51)",
            "ticks": "outside"
           },
           "baxis": {
            "gridcolor": "white",
            "linecolor": "white",
            "showgrid": true,
            "tickcolor": "rgb(51,51,51)",
            "ticks": "outside"
           },
           "bgcolor": "rgb(237,237,237)",
           "caxis": {
            "gridcolor": "white",
            "linecolor": "white",
            "showgrid": true,
            "tickcolor": "rgb(51,51,51)",
            "ticks": "outside"
           }
          },
          "xaxis": {
           "automargin": true,
           "gridcolor": "white",
           "linecolor": "white",
           "showgrid": true,
           "tickcolor": "rgb(51,51,51)",
           "ticks": "outside",
           "title": {
            "standoff": 15
           },
           "zerolinecolor": "white"
          },
          "yaxis": {
           "automargin": true,
           "gridcolor": "white",
           "linecolor": "white",
           "showgrid": true,
           "tickcolor": "rgb(51,51,51)",
           "ticks": "outside",
           "title": {
            "standoff": 15
           },
           "zerolinecolor": "white"
          }
         }
        },
        "width": 600,
        "xaxis": {
         "anchor": "y",
         "domain": [
          0,
          1
         ],
         "title": {
          "text": "x"
         }
        },
        "yaxis": {
         "anchor": "x",
         "domain": [
          0,
          1
         ],
         "title": {
          "text": "y"
         }
        }
       }
      }
     },
     "metadata": {},
     "output_type": "display_data"
    }
   ],
   "source": [
    "from ml.cluster import KMeans\n",
    "\n",
    "clusterer = KMeans(N_CLUST, random_state=STATE)\n",
    "clusterer.fit(X)\n",
    "labels = clusterer.predict(X)\n",
    "fig = px.scatter(x=X[:, 0], y=X[:, 1], color=labels.numpy().astype(\"str\"), **figKwargs)\n",
    "fig.add_trace(\n",
    "    go.Scatter(\n",
    "        x=clusterer.centroids[:, 0],\n",
    "        y=clusterer.centroids[:, 1],\n",
    "        mode=\"markers\",\n",
    "        name=\"centroids\",\n",
    "        marker=MARKER,\n",
    "    )\n",
    ")\n",
    "fig.show()\n"
   ]
  },
  {
   "attachments": {},
   "cell_type": "markdown",
   "metadata": {},
   "source": [
    "### Animation"
   ]
  },
  {
   "cell_type": "code",
   "execution_count": 6,
   "metadata": {},
   "outputs": [],
   "source": [
    "import pandas as pd\n",
    "import numpy as np\n",
    "\n",
    "from ml.cluster.functional import (\n",
    "    recalculate_centroids,\n",
    "    find_closest_centroid,\n",
    "    _k_means,\n",
    "    init_centroids,\n",
    "    plus_plus_init_centroids,\n",
    ")\n",
    "# init_fn = plus_plus_init_centroids\n",
    "init_fn = init_centroids\n",
    "max_iter = 20"
   ]
  },
  {
   "cell_type": "code",
   "execution_count": 7,
   "metadata": {},
   "outputs": [
    {
     "data": {
      "text/html": [
       "<div>\n",
       "<style scoped>\n",
       "    .dataframe tbody tr th:only-of-type {\n",
       "        vertical-align: middle;\n",
       "    }\n",
       "\n",
       "    .dataframe tbody tr th {\n",
       "        vertical-align: top;\n",
       "    }\n",
       "\n",
       "    .dataframe thead th {\n",
       "        text-align: right;\n",
       "    }\n",
       "</style>\n",
       "<table border=\"1\" class=\"dataframe\">\n",
       "  <thead>\n",
       "    <tr style=\"text-align: right;\">\n",
       "      <th></th>\n",
       "      <th>x1</th>\n",
       "      <th>x2</th>\n",
       "      <th>color</th>\n",
       "      <th>iter</th>\n",
       "      <th>size</th>\n",
       "    </tr>\n",
       "  </thead>\n",
       "  <tbody>\n",
       "    <tr>\n",
       "      <th>0</th>\n",
       "      <td>1.053744</td>\n",
       "      <td>-1.320675</td>\n",
       "      <td>2</td>\n",
       "      <td>0.0</td>\n",
       "      <td>1</td>\n",
       "    </tr>\n",
       "    <tr>\n",
       "      <th>1</th>\n",
       "      <td>1.030430</td>\n",
       "      <td>-1.179708</td>\n",
       "      <td>2</td>\n",
       "      <td>0.0</td>\n",
       "      <td>1</td>\n",
       "    </tr>\n",
       "    <tr>\n",
       "      <th>2</th>\n",
       "      <td>-0.724333</td>\n",
       "      <td>0.080079</td>\n",
       "      <td>2</td>\n",
       "      <td>0.0</td>\n",
       "      <td>1</td>\n",
       "    </tr>\n",
       "    <tr>\n",
       "      <th>3</th>\n",
       "      <td>0.828432</td>\n",
       "      <td>-1.322086</td>\n",
       "      <td>2</td>\n",
       "      <td>0.0</td>\n",
       "      <td>1</td>\n",
       "    </tr>\n",
       "    <tr>\n",
       "      <th>4</th>\n",
       "      <td>-1.067982</td>\n",
       "      <td>-0.444162</td>\n",
       "      <td>2</td>\n",
       "      <td>0.0</td>\n",
       "      <td>1</td>\n",
       "    </tr>\n",
       "  </tbody>\n",
       "</table>\n",
       "</div>"
      ],
      "text/plain": [
       "         x1        x2 color  iter  size\n",
       "0  1.053744 -1.320675     2   0.0     1\n",
       "1  1.030430 -1.179708     2   0.0     1\n",
       "2 -0.724333  0.080079     2   0.0     1\n",
       "3  0.828432 -1.322086     2   0.0     1\n",
       "4 -1.067982 -0.444162     2   0.0     1"
      ]
     },
     "execution_count": 7,
     "metadata": {},
     "output_type": "execute_result"
    }
   ],
   "source": [
    "all_centroids = [init_fn(X, N_CLUST, torch.manual_seed(STATE))]\n",
    "iters = [torch.zeros(all_centroids[-1].shape[0], 1)]\n",
    "df = pd.DataFrame(X.numpy(), columns=[\"x1\", \"x2\"])\n",
    "dists = eucledian_dist(X, all_centroids[-1])\n",
    "labels = find_closest_centroid(dists)\n",
    "df[\"color\"] = labels.numpy().astype(str)\n",
    "dfs = []\n",
    "\n",
    "for i in range(max_iter-1):\n",
    "    cur_df = df.copy()\n",
    "    cur_df[\"iter\"] = float(i)\n",
    "    cur_df[\"size\"] = 1\n",
    "    cur_df[\"color\"] = labels.numpy().astype(str)\n",
    "    dfs.append(cur_df)\n",
    "    all_centroids.append(_k_means(X, all_centroids[-1]))\n",
    "    iters.append(iters[-1] + 1)\n",
    "    dists = eucledian_dist(X, all_centroids[-1])\n",
    "    labels = find_closest_centroid(dists)\n",
    "\n",
    "cur_df = df.copy()\n",
    "dists = eucledian_dist(X, all_centroids[-1])\n",
    "labels = find_closest_centroid(dists)\n",
    "cur_df = df.copy()\n",
    "cur_df[\"iter\"] = float(i+1)\n",
    "cur_df[\"size\"] = 1\n",
    "cur_df[\"color\"] = labels.numpy().astype(str)\n",
    "dfs.append(cur_df)\n",
    "dfs = pd.concat(dfs)\n",
    "\n",
    "\n",
    "iters = torch.stack(iters)\n",
    "all_centroids = torch.stack(all_centroids)\n",
    "data = torch.dstack([all_centroids, iters])\n",
    "\n",
    "\n",
    "\n",
    "data = data.view(max_iter * all_centroids.shape[1], 3).numpy()\n",
    "data = pd.DataFrame(data, columns=[\"x1\", \"x2\", \"iter\"])\n",
    "data['size'] = 14\n",
    "data['color'] = list(range(0, N_CLUST)) * max_iter\n",
    "data['color'] = data['color'].astype(str)\n",
    "\n",
    "\n",
    "dfs = pd.concat([dfs, data])\n",
    "colormap = {k: PALETTE[int(k)] for k in dfs.color}\n",
    "dfs.head()"
   ]
  },
  {
   "cell_type": "code",
   "execution_count": 8,
   "metadata": {},
   "outputs": [
    {
     "data": {
      "application/vnd.plotly.v1+json": {
       "config": {
        "plotlyServerURL": "https://plot.ly"
       },
       "data": [
        {
         "hovertemplate": "color=2<br>iter=0.0<br>x1=%{x}<br>x2=%{y}<br>size=%{marker.size}<extra></extra>",
         "legendgroup": "2",
         "marker": {
          "color": "#00CC96",
          "size": [
           1,
           1,
           1,
           1,
           1,
           1,
           1,
           1,
           1,
           1,
           1,
           1,
           1,
           1,
           1,
           1,
           1,
           1,
           1,
           1,
           1,
           1,
           1,
           1,
           1,
           1,
           1,
           1,
           1,
           1,
           1,
           1,
           1,
           1,
           1,
           1,
           1,
           1,
           1,
           1,
           1,
           1,
           1,
           1,
           1,
           1,
           1,
           1,
           1,
           1,
           1,
           1,
           1,
           1,
           1,
           1,
           1,
           1,
           1,
           1,
           1,
           1,
           1,
           1,
           1,
           1,
           14
          ],
          "sizemode": "area",
          "sizeref": 0.035,
          "symbol": "circle"
         },
         "mode": "markers",
         "name": "2",
         "orientation": "v",
         "showlegend": true,
         "type": "scatter",
         "x": [
          1.053743651093665,
          1.0304301793490058,
          -0.7243327381673373,
          0.8284324465227679,
          -1.0679818087254052,
          1.4377639733976832,
          -1.6256870494144724,
          -1.2910539660565594,
          1.0538682079360342,
          0.8973326996635752,
          -1.2205761562524422,
          1.1029329092328488,
          1.290230788597792,
          1.3005885399183157,
          -1.2910909409662767,
          -0.6978583531261866,
          1.1824887916898328,
          -0.9730671491386583,
          -0.9764043642907584,
          -0.7576799941135409,
          -1.3561487435950732,
          -0.9916206852794982,
          1.4623981604678626,
          -0.9127837876432864,
          0.8438600431577624,
          -1.5210967238494808,
          1.5019469785249282,
          -1.374503442775555,
          -1.2668609189462883,
          1.335429292250568,
          -1.2581346097240655,
          -0.8047035536678926,
          1.397561337294441,
          -0.9554260323557816,
          -0.6160195099190611,
          1.8257886304564286,
          1.3379899423675572,
          -1.3266688844483974,
          -1.250894026944287,
          -1.184511579412838,
          1.0380466058524962,
          1.180319948573405,
          -1.252618920402433,
          1.6137136009772184,
          1.288356486113322,
          -0.8261619027391889,
          1.3044665943227105,
          -1.1698572865542214,
          -1.1440348595619427,
          -0.8519369044707669,
          1.4456886860349747,
          1.39347242824476,
          1.0329099739001335,
          0.9685495026702903,
          1.4729264194832052,
          -0.5949208082879046,
          1.450568487333462,
          -1.0575716220382523,
          1.1665746301628006,
          -0.9597601268147717,
          -1.6238749780578257,
          1.2154976069013186,
          1.6749528709326555,
          -0.8877125797035045,
          1.4745054704955596,
          1.0455770219335092,
          -0.7243327381673373
         ],
         "xaxis": "x",
         "y": [
          -1.3206754533614802,
          -1.1797079626476557,
          0.08007929852707414,
          -1.3220857827246029,
          -0.44416157173066434,
          -1.0425553262546803,
          -0.26458872842809045,
          -0.14635688785254933,
          -1.2557399357833536,
          -1.275775295214898,
          -0.13568504596757908,
          -1.6817034920184422,
          -1.0785926766414307,
          -1.0858035937924089,
          -0.2870777451297083,
          -0.1809954016340368,
          -1.146383944609582,
          0.040113177018631326,
          -0.20119600782704528,
          -0.04791094895962166,
          -0.2608790922224402,
          0.31726808532911266,
          -1.0880103325885628,
          -0.26011459916699264,
          -1.0749844269818083,
          -0.05189168477068001,
          -1.1255799695507493,
          -0.06242811675858889,
          -0.049544499801428506,
          -1.2200956221252621,
          -0.060239745818781554,
          -0.3716849546564056,
          -1.129820922456182,
          -0.22648234084631425,
          -0.20383987487863084,
          -1.1209307438171014,
          -1.2831364095988411,
          -0.06941479095383352,
          -0.04849418150923344,
          0.32467498501923564,
          -1.1646860448481802,
          -1.1684032045678212,
          -0.14870130725023425,
          -1.0816156835707929,
          -1.2784345188178132,
          -0.12189216618934265,
          -1.045238070327321,
          -0.18748779485114878,
          0.06561105029748066,
          0.06716031695210577,
          -1.0708186950698886,
          -0.8935909900984641,
          -0.8923621748922208,
          -1.4280534156553082,
          -1.3068458806181291,
          -0.06553451326299983,
          -1.1829918823757446,
          -0.26294476014607304,
          -0.9806904594775487,
          -0.05886464331778313,
          -0.06080705968233393,
          -1.019461818419907,
          -1.2244823779478915,
          0.186431259617944,
          -1.1466054777637895,
          -1.3610809273068116,
          0.08007929852707414
         ],
         "yaxis": "y"
        },
        {
         "hovertemplate": "color=0<br>iter=0.0<br>x1=%{x}<br>x2=%{y}<br>size=%{marker.size}<extra></extra>",
         "legendgroup": "0",
         "marker": {
          "color": "#636EFA",
          "size": [
           1,
           1,
           1,
           1,
           1,
           1,
           1,
           1,
           1,
           1,
           1,
           1,
           1,
           1,
           1,
           1,
           1,
           1,
           1,
           1,
           1,
           1,
           1,
           1,
           1,
           14
          ],
          "sizemode": "area",
          "sizeref": 0.035,
          "symbol": "circle"
         },
         "mode": "markers",
         "name": "0",
         "orientation": "v",
         "showlegend": true,
         "type": "scatter",
         "x": [
          -0.24050895679992768,
          0.17648883407886076,
          0.02352142545955114,
          0.17296003882813937,
          -0.07601009326491152,
          -0.15028296586242068,
          0.18108935160553802,
          -0.3175283179690559,
          -0.06826968097196959,
          -0.27186732706771277,
          -0.37909313045624016,
          -0.21676991199641849,
          0.001346457497240279,
          0.03460376310976049,
          0.45207092184559305,
          -0.23826795503633014,
          0.2462045117191672,
          -0.4424856543444192,
          -0.010542399378280078,
          0.5176318327408969,
          -0.13802659159884517,
          -0.42858920559582336,
          0.3747039446179279,
          -0.11640650767386308,
          -0.3065336249651325,
          -0.27186732706771277
         ],
         "xaxis": "x",
         "y": [
          1.4290061475959523,
          1.3375201247969382,
          1.4863035603690706,
          1.0129949936537228,
          1.0653970788648708,
          1.2286335739133085,
          1.032730660998333,
          1.0225967022863252,
          1.340086897371031,
          1.2509489419525124,
          1.240296518869591,
          1.3314142564452838,
          1.2377781199821267,
          1.3861060008919799,
          0.8516575303562622,
          1.271724292177335,
          1.1642190947133675,
          0.9796220752370453,
          1.1365118628229673,
          1.4984864272300988,
          0.7651030005010572,
          1.0254213025188765,
          1.4103860926174046,
          1.4655679663276082,
          1.4159349500782485,
          1.2509489419525124
         ],
         "yaxis": "y"
        },
        {
         "hovertemplate": "color=1<br>iter=0.0<br>x1=%{x}<br>x2=%{y}<br>size=%{marker.size}<extra></extra>",
         "legendgroup": "1",
         "marker": {
          "color": "#EF553B",
          "size": [
           1,
           1,
           1,
           1,
           1,
           1,
           1,
           1,
           1,
           14
          ],
          "sizemode": "area",
          "sizeref": 0.035,
          "symbol": "circle"
         },
         "mode": "markers",
         "name": "1",
         "orientation": "v",
         "showlegend": true,
         "type": "scatter",
         "x": [
          -0.45410426821459626,
          -0.4396016600838884,
          -0.5175304096471027,
          -0.5173598917011434,
          -0.6940876447447076,
          -0.42907631169664034,
          -0.3862055447041447,
          -0.42750189297058566,
          -0.7493290331674409,
          -0.5175304096471027
         ],
         "xaxis": "x",
         "y": [
          1.3724536903562652,
          1.214548083175785,
          1.3154350659611715,
          1.2340358734197037,
          1.3396825972615432,
          1.1983700191081372,
          1.3640541652887208,
          1.1830254014058643,
          1.2667707342271195,
          1.3154350659611715
         ],
         "yaxis": "y"
        }
       ],
       "frames": [
        {
         "data": [
          {
           "hovertemplate": "color=2<br>iter=0.0<br>x1=%{x}<br>x2=%{y}<br>size=%{marker.size}<extra></extra>",
           "legendgroup": "2",
           "marker": {
            "color": "#00CC96",
            "size": [
             1,
             1,
             1,
             1,
             1,
             1,
             1,
             1,
             1,
             1,
             1,
             1,
             1,
             1,
             1,
             1,
             1,
             1,
             1,
             1,
             1,
             1,
             1,
             1,
             1,
             1,
             1,
             1,
             1,
             1,
             1,
             1,
             1,
             1,
             1,
             1,
             1,
             1,
             1,
             1,
             1,
             1,
             1,
             1,
             1,
             1,
             1,
             1,
             1,
             1,
             1,
             1,
             1,
             1,
             1,
             1,
             1,
             1,
             1,
             1,
             1,
             1,
             1,
             1,
             1,
             1,
             14
            ],
            "sizemode": "area",
            "sizeref": 0.035,
            "symbol": "circle"
           },
           "mode": "markers",
           "name": "2",
           "orientation": "v",
           "showlegend": true,
           "type": "scatter",
           "x": [
            1.053743651093665,
            1.0304301793490058,
            -0.7243327381673373,
            0.8284324465227679,
            -1.0679818087254052,
            1.4377639733976832,
            -1.6256870494144724,
            -1.2910539660565594,
            1.0538682079360342,
            0.8973326996635752,
            -1.2205761562524422,
            1.1029329092328488,
            1.290230788597792,
            1.3005885399183157,
            -1.2910909409662767,
            -0.6978583531261866,
            1.1824887916898328,
            -0.9730671491386583,
            -0.9764043642907584,
            -0.7576799941135409,
            -1.3561487435950732,
            -0.9916206852794982,
            1.4623981604678626,
            -0.9127837876432864,
            0.8438600431577624,
            -1.5210967238494808,
            1.5019469785249282,
            -1.374503442775555,
            -1.2668609189462883,
            1.335429292250568,
            -1.2581346097240655,
            -0.8047035536678926,
            1.397561337294441,
            -0.9554260323557816,
            -0.6160195099190611,
            1.8257886304564286,
            1.3379899423675572,
            -1.3266688844483974,
            -1.250894026944287,
            -1.184511579412838,
            1.0380466058524962,
            1.180319948573405,
            -1.252618920402433,
            1.6137136009772184,
            1.288356486113322,
            -0.8261619027391889,
            1.3044665943227105,
            -1.1698572865542214,
            -1.1440348595619427,
            -0.8519369044707669,
            1.4456886860349747,
            1.39347242824476,
            1.0329099739001335,
            0.9685495026702903,
            1.4729264194832052,
            -0.5949208082879046,
            1.450568487333462,
            -1.0575716220382523,
            1.1665746301628006,
            -0.9597601268147717,
            -1.6238749780578257,
            1.2154976069013186,
            1.6749528709326555,
            -0.8877125797035045,
            1.4745054704955596,
            1.0455770219335092,
            -0.7243327381673373
           ],
           "xaxis": "x",
           "y": [
            -1.3206754533614802,
            -1.1797079626476557,
            0.08007929852707414,
            -1.3220857827246029,
            -0.44416157173066434,
            -1.0425553262546803,
            -0.26458872842809045,
            -0.14635688785254933,
            -1.2557399357833536,
            -1.275775295214898,
            -0.13568504596757908,
            -1.6817034920184422,
            -1.0785926766414307,
            -1.0858035937924089,
            -0.2870777451297083,
            -0.1809954016340368,
            -1.146383944609582,
            0.040113177018631326,
            -0.20119600782704528,
            -0.04791094895962166,
            -0.2608790922224402,
            0.31726808532911266,
            -1.0880103325885628,
            -0.26011459916699264,
            -1.0749844269818083,
            -0.05189168477068001,
            -1.1255799695507493,
            -0.06242811675858889,
            -0.049544499801428506,
            -1.2200956221252621,
            -0.060239745818781554,
            -0.3716849546564056,
            -1.129820922456182,
            -0.22648234084631425,
            -0.20383987487863084,
            -1.1209307438171014,
            -1.2831364095988411,
            -0.06941479095383352,
            -0.04849418150923344,
            0.32467498501923564,
            -1.1646860448481802,
            -1.1684032045678212,
            -0.14870130725023425,
            -1.0816156835707929,
            -1.2784345188178132,
            -0.12189216618934265,
            -1.045238070327321,
            -0.18748779485114878,
            0.06561105029748066,
            0.06716031695210577,
            -1.0708186950698886,
            -0.8935909900984641,
            -0.8923621748922208,
            -1.4280534156553082,
            -1.3068458806181291,
            -0.06553451326299983,
            -1.1829918823757446,
            -0.26294476014607304,
            -0.9806904594775487,
            -0.05886464331778313,
            -0.06080705968233393,
            -1.019461818419907,
            -1.2244823779478915,
            0.186431259617944,
            -1.1466054777637895,
            -1.3610809273068116,
            0.08007929852707414
           ],
           "yaxis": "y"
          },
          {
           "hovertemplate": "color=0<br>iter=0.0<br>x1=%{x}<br>x2=%{y}<br>size=%{marker.size}<extra></extra>",
           "legendgroup": "0",
           "marker": {
            "color": "#636EFA",
            "size": [
             1,
             1,
             1,
             1,
             1,
             1,
             1,
             1,
             1,
             1,
             1,
             1,
             1,
             1,
             1,
             1,
             1,
             1,
             1,
             1,
             1,
             1,
             1,
             1,
             1,
             14
            ],
            "sizemode": "area",
            "sizeref": 0.035,
            "symbol": "circle"
           },
           "mode": "markers",
           "name": "0",
           "orientation": "v",
           "showlegend": true,
           "type": "scatter",
           "x": [
            -0.24050895679992768,
            0.17648883407886076,
            0.02352142545955114,
            0.17296003882813937,
            -0.07601009326491152,
            -0.15028296586242068,
            0.18108935160553802,
            -0.3175283179690559,
            -0.06826968097196959,
            -0.27186732706771277,
            -0.37909313045624016,
            -0.21676991199641849,
            0.001346457497240279,
            0.03460376310976049,
            0.45207092184559305,
            -0.23826795503633014,
            0.2462045117191672,
            -0.4424856543444192,
            -0.010542399378280078,
            0.5176318327408969,
            -0.13802659159884517,
            -0.42858920559582336,
            0.3747039446179279,
            -0.11640650767386308,
            -0.3065336249651325,
            -0.27186732706771277
           ],
           "xaxis": "x",
           "y": [
            1.4290061475959523,
            1.3375201247969382,
            1.4863035603690706,
            1.0129949936537228,
            1.0653970788648708,
            1.2286335739133085,
            1.032730660998333,
            1.0225967022863252,
            1.340086897371031,
            1.2509489419525124,
            1.240296518869591,
            1.3314142564452838,
            1.2377781199821267,
            1.3861060008919799,
            0.8516575303562622,
            1.271724292177335,
            1.1642190947133675,
            0.9796220752370453,
            1.1365118628229673,
            1.4984864272300988,
            0.7651030005010572,
            1.0254213025188765,
            1.4103860926174046,
            1.4655679663276082,
            1.4159349500782485,
            1.2509489419525124
           ],
           "yaxis": "y"
          },
          {
           "hovertemplate": "color=1<br>iter=0.0<br>x1=%{x}<br>x2=%{y}<br>size=%{marker.size}<extra></extra>",
           "legendgroup": "1",
           "marker": {
            "color": "#EF553B",
            "size": [
             1,
             1,
             1,
             1,
             1,
             1,
             1,
             1,
             1,
             14
            ],
            "sizemode": "area",
            "sizeref": 0.035,
            "symbol": "circle"
           },
           "mode": "markers",
           "name": "1",
           "orientation": "v",
           "showlegend": true,
           "type": "scatter",
           "x": [
            -0.45410426821459626,
            -0.4396016600838884,
            -0.5175304096471027,
            -0.5173598917011434,
            -0.6940876447447076,
            -0.42907631169664034,
            -0.3862055447041447,
            -0.42750189297058566,
            -0.7493290331674409,
            -0.5175304096471027
           ],
           "xaxis": "x",
           "y": [
            1.3724536903562652,
            1.214548083175785,
            1.3154350659611715,
            1.2340358734197037,
            1.3396825972615432,
            1.1983700191081372,
            1.3640541652887208,
            1.1830254014058643,
            1.2667707342271195,
            1.3154350659611715
           ],
           "yaxis": "y"
          }
         ],
         "name": "0.0"
        },
        {
         "data": [
          {
           "hovertemplate": "color=2<br>iter=1.0<br>x1=%{x}<br>x2=%{y}<br>size=%{marker.size}<extra></extra>",
           "legendgroup": "2",
           "marker": {
            "color": "#00CC96",
            "size": [
             1,
             1,
             1,
             1,
             1,
             1,
             1,
             1,
             1,
             1,
             1,
             1,
             1,
             1,
             1,
             1,
             1,
             1,
             1,
             1,
             1,
             1,
             1,
             1,
             1,
             1,
             1,
             1,
             1,
             1,
             1,
             1,
             1,
             1,
             1,
             1,
             1,
             1,
             1,
             1,
             1,
             1,
             1,
             1,
             1,
             1,
             1,
             1,
             1,
             1,
             1,
             1,
             1,
             1,
             1,
             1,
             1,
             1,
             1,
             1,
             14
            ],
            "sizemode": "area",
            "sizeref": 0.035,
            "symbol": "circle"
           },
           "mode": "markers",
           "name": "2",
           "orientation": "v",
           "showlegend": true,
           "type": "scatter",
           "x": [
            1.053743651093665,
            1.0304301793490058,
            -0.7243327381673373,
            0.8284324465227679,
            -1.0679818087254052,
            1.4377639733976832,
            -1.6256870494144724,
            -1.2910539660565594,
            1.0538682079360342,
            0.8973326996635752,
            -1.2205761562524422,
            1.1029329092328488,
            1.290230788597792,
            1.3005885399183157,
            -1.2910909409662767,
            -0.6978583531261866,
            1.1824887916898328,
            -0.9730671491386583,
            -0.9764043642907584,
            -0.7576799941135409,
            -1.3561487435950732,
            1.4623981604678626,
            -0.9127837876432864,
            0.8438600431577624,
            1.5019469785249282,
            -1.374503442775555,
            -1.2668609189462883,
            1.335429292250568,
            -1.2581346097240655,
            -0.8047035536678926,
            1.397561337294441,
            -0.9554260323557816,
            -0.6160195099190611,
            1.8257886304564286,
            1.3379899423675572,
            -1.3266688844483974,
            -1.250894026944287,
            1.0380466058524962,
            1.180319948573405,
            -1.252618920402433,
            1.6137136009772184,
            1.288356486113322,
            -0.8261619027391889,
            1.3044665943227105,
            -1.1698572865542214,
            -0.8519369044707669,
            1.4456886860349747,
            1.39347242824476,
            1.0329099739001335,
            0.9685495026702903,
            1.4729264194832052,
            -0.5949208082879046,
            1.450568487333462,
            -1.0575716220382523,
            1.1665746301628006,
            -0.9597601268147717,
            1.2154976069013186,
            1.6749528709326555,
            1.4745054704955596,
            1.0455770219335092,
            0.08841451361225657
           ],
           "xaxis": "x",
           "y": [
            -1.3206754533614802,
            -1.1797079626476557,
            0.08007929852707414,
            -1.3220857827246029,
            -0.44416157173066434,
            -1.0425553262546803,
            -0.26458872842809045,
            -0.14635688785254933,
            -1.2557399357833536,
            -1.275775295214898,
            -0.13568504596757908,
            -1.6817034920184422,
            -1.0785926766414307,
            -1.0858035937924089,
            -0.2870777451297083,
            -0.1809954016340368,
            -1.146383944609582,
            0.040113177018631326,
            -0.20119600782704528,
            -0.04791094895962166,
            -0.2608790922224402,
            -1.0880103325885628,
            -0.26011459916699264,
            -1.0749844269818083,
            -1.1255799695507493,
            -0.06242811675858889,
            -0.049544499801428506,
            -1.2200956221252621,
            -0.060239745818781554,
            -0.3716849546564056,
            -1.129820922456182,
            -0.22648234084631425,
            -0.20383987487863084,
            -1.1209307438171014,
            -1.2831364095988411,
            -0.06941479095383352,
            -0.04849418150923344,
            -1.1646860448481802,
            -1.1684032045678212,
            -0.14870130725023425,
            -1.0816156835707929,
            -1.2784345188178132,
            -0.12189216618934265,
            -1.045238070327321,
            -0.18748779485114878,
            0.06716031695210577,
            -1.0708186950698886,
            -0.8935909900984641,
            -0.8923621748922208,
            -1.4280534156553082,
            -1.3068458806181291,
            -0.06553451326299983,
            -1.1829918823757446,
            -0.26294476014607304,
            -0.9806904594775487,
            -0.05886464331778313,
            -1.019461818419907,
            -1.2244823779478915,
            -1.1466054777637895,
            -1.3610809273068116,
            -0.6344670273147822
           ],
           "yaxis": "y"
          },
          {
           "hovertemplate": "color=0<br>iter=1.0<br>x1=%{x}<br>x2=%{y}<br>size=%{marker.size}<extra></extra>",
           "legendgroup": "0",
           "marker": {
            "color": "#636EFA",
            "size": [
             1,
             1,
             1,
             1,
             1,
             1,
             1,
             1,
             1,
             1,
             1,
             1,
             1,
             1,
             1,
             1,
             1,
             1,
             1,
             1,
             14
            ],
            "sizemode": "area",
            "sizeref": 0.035,
            "symbol": "circle"
           },
           "mode": "markers",
           "name": "0",
           "orientation": "v",
           "showlegend": true,
           "type": "scatter",
           "x": [
            -0.24050895679992768,
            0.17648883407886076,
            0.02352142545955114,
            0.17296003882813937,
            -0.07601009326491152,
            -0.15028296586242068,
            0.18108935160553802,
            -0.06826968097196959,
            -0.27186732706771277,
            -0.21676991199641849,
            0.001346457497240279,
            0.03460376310976049,
            0.45207092184559305,
            -0.23826795503633014,
            0.2462045117191672,
            -0.010542399378280078,
            0.5176318327408969,
            -0.13802659159884517,
            0.3747039446179279,
            -0.11640650767386308,
            -0.04882244965914701
           ],
           "xaxis": "x",
           "y": [
            1.4290061475959523,
            1.3375201247969382,
            1.4863035603690706,
            1.0129949936537228,
            1.0653970788648708,
            1.2286335739133085,
            1.032730660998333,
            1.340086897371031,
            1.2509489419525124,
            1.3314142564452838,
            1.2377781199821267,
            1.3861060008919799,
            0.8516575303562622,
            1.271724292177335,
            1.1642190947133675,
            1.1365118628229673,
            1.4984864272300988,
            0.7651030005010572,
            1.4103860926174046,
            1.4655679663276082,
            1.215457926902853
           ],
           "yaxis": "y"
          },
          {
           "hovertemplate": "color=1<br>iter=1.0<br>x1=%{x}<br>x2=%{y}<br>size=%{marker.size}<extra></extra>",
           "legendgroup": "1",
           "marker": {
            "color": "#EF553B",
            "size": [
             1,
             1,
             1,
             1,
             1,
             1,
             1,
             1,
             1,
             1,
             1,
             1,
             1,
             1,
             1,
             1,
             1,
             1,
             1,
             1,
             14
            ],
            "sizemode": "area",
            "sizeref": 0.035,
            "symbol": "circle"
           },
           "mode": "markers",
           "name": "1",
           "orientation": "v",
           "showlegend": true,
           "type": "scatter",
           "x": [
            -0.45410426821459626,
            -0.4396016600838884,
            -0.5175304096471027,
            -0.9916206852794982,
            -0.3175283179690559,
            -1.5210967238494808,
            -0.37909313045624016,
            -1.184511579412838,
            -0.5173598917011434,
            -0.6940876447447076,
            -1.1440348595619427,
            -0.42907631169664034,
            -0.4424856543444192,
            -0.3862055447041447,
            -0.42750189297058566,
            -1.6238749780578257,
            -0.42858920559582336,
            -0.8877125797035045,
            -0.7493290331674409,
            -0.3065336249651325,
            -0.5127551841033611
           ],
           "xaxis": "x",
           "y": [
            1.3724536903562652,
            1.214548083175785,
            1.3154350659611715,
            0.31726808532911266,
            1.0225967022863252,
            -0.05189168477068001,
            1.240296518869591,
            0.32467498501923564,
            1.2340358734197037,
            1.3396825972615432,
            0.06561105029748066,
            1.1983700191081372,
            0.9796220752370453,
            1.3640541652887208,
            1.1830254014058643,
            -0.06080705968233393,
            1.0254213025188765,
            0.186431259617944,
            1.2667707342271195,
            1.4159349500782485,
            1.2764861811338122
           ],
           "yaxis": "y"
          }
         ],
         "name": "1.0"
        },
        {
         "data": [
          {
           "hovertemplate": "color=2<br>iter=2.0<br>x1=%{x}<br>x2=%{y}<br>size=%{marker.size}<extra></extra>",
           "legendgroup": "2",
           "marker": {
            "color": "#00CC96",
            "size": [
             1,
             1,
             1,
             1,
             1,
             1,
             1,
             1,
             1,
             1,
             1,
             1,
             1,
             1,
             1,
             1,
             1,
             1,
             1,
             1,
             1,
             1,
             1,
             1,
             1,
             1,
             1,
             1,
             1,
             1,
             1,
             1,
             1,
             1,
             1,
             1,
             1,
             14
            ],
            "sizemode": "area",
            "sizeref": 0.035,
            "symbol": "circle"
           },
           "mode": "markers",
           "name": "2",
           "orientation": "v",
           "showlegend": true,
           "type": "scatter",
           "x": [
            1.053743651093665,
            1.0304301793490058,
            0.8284324465227679,
            -1.0679818087254052,
            1.4377639733976832,
            1.0538682079360342,
            0.8973326996635752,
            1.1029329092328488,
            1.290230788597792,
            1.3005885399183157,
            -0.6978583531261866,
            1.1824887916898328,
            1.4623981604678626,
            0.8438600431577624,
            1.5019469785249282,
            1.335429292250568,
            -0.8047035536678926,
            1.397561337294441,
            -0.6160195099190611,
            1.8257886304564286,
            1.3379899423675572,
            1.0380466058524962,
            1.180319948573405,
            1.6137136009772184,
            1.288356486113322,
            1.3044665943227105,
            1.4456886860349747,
            1.39347242824476,
            1.0329099739001335,
            0.9685495026702903,
            1.4729264194832052,
            1.450568487333462,
            1.1665746301628006,
            1.2154976069013186,
            1.6749528709326555,
            1.4745054704955596,
            1.0455770219335092,
            0.2198034884045671
           ],
           "xaxis": "x",
           "y": [
            -1.3206754533614802,
            -1.1797079626476557,
            -1.3220857827246029,
            -0.44416157173066434,
            -1.0425553262546803,
            -1.2557399357833536,
            -1.275775295214898,
            -1.6817034920184422,
            -1.0785926766414307,
            -1.0858035937924089,
            -0.1809954016340368,
            -1.146383944609582,
            -1.0880103325885628,
            -1.0749844269818083,
            -1.1255799695507493,
            -1.2200956221252621,
            -0.3716849546564056,
            -1.129820922456182,
            -0.20383987487863084,
            -1.1209307438171014,
            -1.2831364095988411,
            -1.1646860448481802,
            -1.1684032045678212,
            -1.0816156835707929,
            -1.2784345188178132,
            -1.045238070327321,
            -1.0708186950698886,
            -0.8935909900984641,
            -0.8923621748922208,
            -1.4280534156553082,
            -1.3068458806181291,
            -1.1829918823757446,
            -0.9806904594775487,
            -1.019461818419907,
            -1.2244823779478915,
            -1.1466054777637895,
            -1.3610809273068116,
            -0.7109351739764399
           ],
           "yaxis": "y"
          },
          {
           "hovertemplate": "color=0<br>iter=2.0<br>x1=%{x}<br>x2=%{y}<br>size=%{marker.size}<extra></extra>",
           "legendgroup": "0",
           "marker": {
            "color": "#636EFA",
            "size": [
             1,
             1,
             1,
             1,
             1,
             1,
             1,
             1,
             1,
             1,
             1,
             1,
             1,
             1,
             1,
             1,
             1,
             1,
             1,
             1,
             1,
             1,
             1,
             1,
             14
            ],
            "sizemode": "area",
            "sizeref": 0.035,
            "symbol": "circle"
           },
           "mode": "markers",
           "name": "0",
           "orientation": "v",
           "showlegend": true,
           "type": "scatter",
           "x": [
            -0.24050895679992768,
            0.17648883407886076,
            0.02352142545955114,
            -0.45410426821459626,
            0.17296003882813937,
            -0.07601009326491152,
            -0.15028296586242068,
            0.18108935160553802,
            -0.06826968097196959,
            -0.27186732706771277,
            -0.37909313045624016,
            -0.21676991199641849,
            0.001346457497240279,
            0.03460376310976049,
            0.45207092184559305,
            -0.23826795503633014,
            0.2462045117191672,
            -0.010542399378280078,
            0.5176318327408969,
            -0.3862055447041447,
            -0.13802659159884517,
            0.3747039446179279,
            -0.11640650767386308,
            -0.3065336249651325,
            0.03268343459259979
           ],
           "xaxis": "x",
           "y": [
            1.4290061475959523,
            1.3375201247969382,
            1.4863035603690706,
            1.3724536903562652,
            1.0129949936537228,
            1.0653970788648708,
            1.2286335739133085,
            1.032730660998333,
            1.340086897371031,
            1.2509489419525124,
            1.240296518869591,
            1.3314142564452838,
            1.2377781199821267,
            1.3861060008919799,
            0.8516575303562622,
            1.271724292177335,
            1.1642190947133675,
            1.1365118628229673,
            1.4984864272300988,
            1.3640541652887208,
            0.7651030005010572,
            1.4103860926174046,
            1.4655679663276082,
            1.4159349500782485,
            1.2351288311790616
           ],
           "yaxis": "y"
          },
          {
           "hovertemplate": "color=1<br>iter=2.0<br>x1=%{x}<br>x2=%{y}<br>size=%{marker.size}<extra></extra>",
           "legendgroup": "1",
           "marker": {
            "color": "#EF553B",
            "size": [
             1,
             1,
             1,
             1,
             1,
             1,
             1,
             1,
             1,
             1,
             1,
             1,
             1,
             1,
             1,
             1,
             1,
             1,
             1,
             1,
             1,
             1,
             1,
             1,
             1,
             1,
             1,
             1,
             1,
             1,
             1,
             1,
             1,
             1,
             1,
             1,
             1,
             1,
             1,
             14
            ],
            "sizemode": "area",
            "sizeref": 0.035,
            "symbol": "circle"
           },
           "mode": "markers",
           "name": "1",
           "orientation": "v",
           "showlegend": true,
           "type": "scatter",
           "x": [
            -0.7243327381673373,
            -1.6256870494144724,
            -1.2910539660565594,
            -1.2205761562524422,
            -1.2910909409662767,
            -0.9730671491386583,
            -0.4396016600838884,
            -0.9764043642907584,
            -0.7576799941135409,
            -0.5175304096471027,
            -1.3561487435950732,
            -0.9916206852794982,
            -0.9127837876432864,
            -0.3175283179690559,
            -1.5210967238494808,
            -1.374503442775555,
            -1.2668609189462883,
            -1.2581346097240655,
            -0.9554260323557816,
            -1.3266688844483974,
            -1.250894026944287,
            -1.184511579412838,
            -1.252618920402433,
            -0.5173598917011434,
            -0.8261619027391889,
            -1.1698572865542214,
            -0.6940876447447076,
            -1.1440348595619427,
            -0.8519369044707669,
            -0.42907631169664034,
            -0.4424856543444192,
            -0.5949208082879046,
            -0.42750189297058566,
            -1.0575716220382523,
            -0.9597601268147717,
            -1.6238749780578257,
            -0.42858920559582336,
            -0.8877125797035045,
            -0.7493290331674409,
            -0.6920938998063005
           ],
           "xaxis": "x",
           "y": [
            0.08007929852707414,
            -0.26458872842809045,
            -0.14635688785254933,
            -0.13568504596757908,
            -0.2870777451297083,
            0.040113177018631326,
            1.214548083175785,
            -0.20119600782704528,
            -0.04791094895962166,
            1.3154350659611715,
            -0.2608790922224402,
            0.31726808532911266,
            -0.26011459916699264,
            1.0225967022863252,
            -0.05189168477068001,
            -0.06242811675858889,
            -0.049544499801428506,
            -0.060239745818781554,
            -0.22648234084631425,
            -0.06941479095383352,
            -0.04849418150923344,
            0.32467498501923564,
            -0.14870130725023425,
            1.2340358734197037,
            -0.12189216618934265,
            -0.18748779485114878,
            1.3396825972615432,
            0.06561105029748066,
            0.06716031695210577,
            1.1983700191081372,
            0.9796220752370453,
            -0.06553451326299983,
            1.1830254014058643,
            -0.26294476014607304,
            -0.05886464331778313,
            -0.06080705968233393,
            1.0254213025188765,
            0.186431259617944,
            1.2667707342271195,
            0.8976766907502578
           ],
           "yaxis": "y"
          }
         ],
         "name": "2.0"
        },
        {
         "data": [
          {
           "hovertemplate": "color=2<br>iter=3.0<br>x1=%{x}<br>x2=%{y}<br>size=%{marker.size}<extra></extra>",
           "legendgroup": "2",
           "marker": {
            "color": "#00CC96",
            "size": [
             1,
             1,
             1,
             1,
             1,
             1,
             1,
             1,
             1,
             1,
             1,
             1,
             1,
             1,
             1,
             1,
             1,
             1,
             1,
             1,
             1,
             1,
             1,
             1,
             1,
             1,
             1,
             1,
             1,
             1,
             1,
             1,
             1,
             14
            ],
            "sizemode": "area",
            "sizeref": 0.035,
            "symbol": "circle"
           },
           "mode": "markers",
           "name": "2",
           "orientation": "v",
           "showlegend": true,
           "type": "scatter",
           "x": [
            1.053743651093665,
            1.0304301793490058,
            0.8284324465227679,
            1.4377639733976832,
            1.0538682079360342,
            0.8973326996635752,
            1.1029329092328488,
            1.290230788597792,
            1.3005885399183157,
            1.1824887916898328,
            1.4623981604678626,
            0.8438600431577624,
            1.5019469785249282,
            1.335429292250568,
            1.397561337294441,
            1.8257886304564286,
            1.3379899423675572,
            1.0380466058524962,
            1.180319948573405,
            1.6137136009772184,
            1.288356486113322,
            1.3044665943227105,
            1.4456886860349747,
            1.39347242824476,
            1.0329099739001335,
            0.9685495026702903,
            1.4729264194832052,
            1.450568487333462,
            1.1665746301628006,
            1.2154976069013186,
            1.6749528709326555,
            1.4745054704955596,
            1.0455770219335092,
            1.0395229643355228
           ],
           "xaxis": "x",
           "y": [
            -1.3206754533614802,
            -1.1797079626476557,
            -1.3220857827246029,
            -1.0425553262546803,
            -1.2557399357833536,
            -1.275775295214898,
            -1.6817034920184422,
            -1.0785926766414307,
            -1.0858035937924089,
            -1.146383944609582,
            -1.0880103325885628,
            -1.0749844269818083,
            -1.1255799695507493,
            -1.2200956221252621,
            -1.129820922456182,
            -1.1209307438171014,
            -1.2831364095988411,
            -1.1646860448481802,
            -1.1684032045678212,
            -1.0816156835707929,
            -1.2784345188178132,
            -1.045238070327321,
            -1.0708186950698886,
            -0.8935909900984641,
            -0.8923621748922208,
            -1.4280534156553082,
            -1.3068458806181291,
            -1.1829918823757446,
            -0.9806904594775487,
            -1.019461818419907,
            -1.2244823779478915,
            -1.1466054777637895,
            -1.3610809273068116,
            -1.0777736571574166
           ],
           "yaxis": "y"
          },
          {
           "hovertemplate": "color=0<br>iter=3.0<br>x1=%{x}<br>x2=%{y}<br>size=%{marker.size}<extra></extra>",
           "legendgroup": "0",
           "marker": {
            "color": "#636EFA",
            "size": [
             1,
             1,
             1,
             1,
             1,
             1,
             1,
             1,
             1,
             1,
             1,
             1,
             1,
             1,
             1,
             1,
             1,
             1,
             1,
             1,
             1,
             1,
             1,
             1,
             1,
             1,
             1,
             1,
             1,
             1,
             1,
             1,
             1,
             1,
             14
            ],
            "sizemode": "area",
            "sizeref": 0.035,
            "symbol": "circle"
           },
           "mode": "markers",
           "name": "0",
           "orientation": "v",
           "showlegend": true,
           "type": "scatter",
           "x": [
            -0.24050895679992768,
            0.17648883407886076,
            0.02352142545955114,
            -0.45410426821459626,
            0.17296003882813937,
            -0.4396016600838884,
            -0.07601009326491152,
            -0.15028296586242068,
            0.18108935160553802,
            -0.5175304096471027,
            -0.3175283179690559,
            -0.06826968097196959,
            -0.27186732706771277,
            -0.37909313045624016,
            -0.21676991199641849,
            0.001346457497240279,
            0.03460376310976049,
            0.45207092184559305,
            -0.5173598917011434,
            -0.6940876447447076,
            -0.23826795503633014,
            -0.42907631169664034,
            0.2462045117191672,
            -0.4424856543444192,
            -0.010542399378280078,
            0.5176318327408969,
            -0.3862055447041447,
            -0.13802659159884517,
            -0.42750189297058566,
            -0.42858920559582336,
            0.3747039446179279,
            -0.7493290331674409,
            -0.11640650767386308,
            -0.3065336249651325,
            -0.036344494853671576
           ],
           "xaxis": "x",
           "y": [
            1.4290061475959523,
            1.3375201247969382,
            1.4863035603690706,
            1.3724536903562652,
            1.0129949936537228,
            1.214548083175785,
            1.0653970788648708,
            1.2286335739133085,
            1.032730660998333,
            1.3154350659611715,
            1.0225967022863252,
            1.340086897371031,
            1.2509489419525124,
            1.240296518869591,
            1.3314142564452838,
            1.2377781199821267,
            1.3861060008919799,
            0.8516575303562622,
            1.2340358734197037,
            1.3396825972615432,
            1.271724292177335,
            1.1983700191081372,
            1.1642190947133675,
            0.9796220752370453,
            1.1365118628229673,
            1.4984864272300988,
            1.3640541652887208,
            0.7651030005010572,
            1.1830254014058643,
            1.0254213025188765,
            1.4103860926174046,
            1.2667707342271195,
            1.4655679663276082,
            1.4159349500782485,
            1.2539714978405858
           ],
           "yaxis": "y"
          },
          {
           "hovertemplate": "color=1<br>iter=3.0<br>x1=%{x}<br>x2=%{y}<br>size=%{marker.size}<extra></extra>",
           "legendgroup": "1",
           "marker": {
            "color": "#EF553B",
            "size": [
             1,
             1,
             1,
             1,
             1,
             1,
             1,
             1,
             1,
             1,
             1,
             1,
             1,
             1,
             1,
             1,
             1,
             1,
             1,
             1,
             1,
             1,
             1,
             1,
             1,
             1,
             1,
             1,
             1,
             1,
             1,
             1,
             1,
             14
            ],
            "sizemode": "area",
            "sizeref": 0.035,
            "symbol": "circle"
           },
           "mode": "markers",
           "name": "1",
           "orientation": "v",
           "showlegend": true,
           "type": "scatter",
           "x": [
            -0.7243327381673373,
            -1.0679818087254052,
            -1.6256870494144724,
            -1.2910539660565594,
            -1.2205761562524422,
            -1.2910909409662767,
            -0.6978583531261866,
            -0.9730671491386583,
            -0.9764043642907584,
            -0.7576799941135409,
            -1.3561487435950732,
            -0.9916206852794982,
            -0.9127837876432864,
            -1.5210967238494808,
            -1.374503442775555,
            -1.2668609189462883,
            -1.2581346097240655,
            -0.8047035536678926,
            -0.9554260323557816,
            -0.6160195099190611,
            -1.3266688844483974,
            -1.250894026944287,
            -1.184511579412838,
            -1.252618920402433,
            -0.8261619027391889,
            -1.1698572865542214,
            -1.1440348595619427,
            -0.8519369044707669,
            -0.5949208082879046,
            -1.0575716220382523,
            -0.9597601268147717,
            -1.6238749780578257,
            -0.8877125797035045,
            -0.9638482513827236
           ],
           "xaxis": "x",
           "y": [
            0.08007929852707414,
            -0.44416157173066434,
            -0.26458872842809045,
            -0.14635688785254933,
            -0.13568504596757908,
            -0.2870777451297083,
            -0.1809954016340368,
            0.040113177018631326,
            -0.20119600782704528,
            -0.04791094895962166,
            -0.2608790922224402,
            0.31726808532911266,
            -0.26011459916699264,
            -0.05189168477068001,
            -0.06242811675858889,
            -0.049544499801428506,
            -0.060239745818781554,
            -0.3716849546564056,
            -0.22648234084631425,
            -0.20383987487863084,
            -0.06941479095383352,
            -0.04849418150923344,
            0.32467498501923564,
            -0.14870130725023425,
            -0.12189216618934265,
            -0.18748779485114878,
            0.06561105029748066,
            0.06716031695210577,
            -0.06553451326299983,
            -0.26294476014607304,
            -0.05886464331778313,
            -0.06080705968233393,
            0.186431259617944,
            0.25082844529872694
           ],
           "yaxis": "y"
          }
         ],
         "name": "3.0"
        },
        {
         "data": [
          {
           "hovertemplate": "color=2<br>iter=4.0<br>x1=%{x}<br>x2=%{y}<br>size=%{marker.size}<extra></extra>",
           "legendgroup": "2",
           "marker": {
            "color": "#00CC96",
            "size": [
             1,
             1,
             1,
             1,
             1,
             1,
             1,
             1,
             1,
             1,
             1,
             1,
             1,
             1,
             1,
             1,
             1,
             1,
             1,
             1,
             1,
             1,
             1,
             1,
             1,
             1,
             1,
             1,
             1,
             1,
             1,
             1,
             1,
             14
            ],
            "sizemode": "area",
            "sizeref": 0.035,
            "symbol": "circle"
           },
           "mode": "markers",
           "name": "2",
           "orientation": "v",
           "showlegend": true,
           "type": "scatter",
           "x": [
            1.053743651093665,
            1.0304301793490058,
            0.8284324465227679,
            1.4377639733976832,
            1.0538682079360342,
            0.8973326996635752,
            1.1029329092328488,
            1.290230788597792,
            1.3005885399183157,
            1.1824887916898328,
            1.4623981604678626,
            0.8438600431577624,
            1.5019469785249282,
            1.335429292250568,
            1.397561337294441,
            1.8257886304564286,
            1.3379899423675572,
            1.0380466058524962,
            1.180319948573405,
            1.6137136009772184,
            1.288356486113322,
            1.3044665943227105,
            1.4456886860349747,
            1.39347242824476,
            1.0329099739001335,
            0.9685495026702903,
            1.4729264194832052,
            1.450568487333462,
            1.1665746301628006,
            1.2154976069013186,
            1.6749528709326555,
            1.4745054704955596,
            1.0455770219335092,
            1.2620882698743299
           ],
           "xaxis": "x",
           "y": [
            -1.3206754533614802,
            -1.1797079626476557,
            -1.3220857827246029,
            -1.0425553262546803,
            -1.2557399357833536,
            -1.275775295214898,
            -1.6817034920184422,
            -1.0785926766414307,
            -1.0858035937924089,
            -1.146383944609582,
            -1.0880103325885628,
            -1.0749844269818083,
            -1.1255799695507493,
            -1.2200956221252621,
            -1.129820922456182,
            -1.1209307438171014,
            -1.2831364095988411,
            -1.1646860448481802,
            -1.1684032045678212,
            -1.0816156835707929,
            -1.2784345188178132,
            -1.045238070327321,
            -1.0708186950698886,
            -0.8935909900984641,
            -0.8923621748922208,
            -1.4280534156553082,
            -1.3068458806181291,
            -1.1829918823757446,
            -0.9806904594775487,
            -1.019461818419907,
            -1.2244823779478915,
            -1.1466054777637895,
            -1.3610809273068116,
            -1.1720285912704447
           ],
           "yaxis": "y"
          },
          {
           "hovertemplate": "color=0<br>iter=4.0<br>x1=%{x}<br>x2=%{y}<br>size=%{marker.size}<extra></extra>",
           "legendgroup": "0",
           "marker": {
            "color": "#636EFA",
            "size": [
             1,
             1,
             1,
             1,
             1,
             1,
             1,
             1,
             1,
             1,
             1,
             1,
             1,
             1,
             1,
             1,
             1,
             1,
             1,
             1,
             1,
             1,
             1,
             1,
             1,
             1,
             1,
             1,
             1,
             1,
             1,
             1,
             1,
             1,
             14
            ],
            "sizemode": "area",
            "sizeref": 0.035,
            "symbol": "circle"
           },
           "mode": "markers",
           "name": "0",
           "orientation": "v",
           "showlegend": true,
           "type": "scatter",
           "x": [
            -0.24050895679992768,
            0.17648883407886076,
            0.02352142545955114,
            -0.45410426821459626,
            0.17296003882813937,
            -0.4396016600838884,
            -0.07601009326491152,
            -0.15028296586242068,
            0.18108935160553802,
            -0.5175304096471027,
            -0.3175283179690559,
            -0.06826968097196959,
            -0.27186732706771277,
            -0.37909313045624016,
            -0.21676991199641849,
            0.001346457497240279,
            0.03460376310976049,
            0.45207092184559305,
            -0.5173598917011434,
            -0.6940876447447076,
            -0.23826795503633014,
            -0.42907631169664034,
            0.2462045117191672,
            -0.4424856543444192,
            -0.010542399378280078,
            0.5176318327408969,
            -0.3862055447041447,
            -0.13802659159884517,
            -0.42750189297058566,
            -0.42858920559582336,
            0.3747039446179279,
            -0.7493290331674409,
            -0.11640650767386308,
            -0.3065336249651325,
            -0.17162817348261544
           ],
           "xaxis": "x",
           "y": [
            1.4290061475959523,
            1.3375201247969382,
            1.4863035603690706,
            1.3724536903562652,
            1.0129949936537228,
            1.214548083175785,
            1.0653970788648708,
            1.2286335739133085,
            1.032730660998333,
            1.3154350659611715,
            1.0225967022863252,
            1.340086897371031,
            1.2509489419525124,
            1.240296518869591,
            1.3314142564452838,
            1.2377781199821267,
            1.3861060008919799,
            0.8516575303562622,
            1.2340358734197037,
            1.3396825972615432,
            1.271724292177335,
            1.1983700191081372,
            1.1642190947133675,
            0.9796220752370453,
            1.1365118628229673,
            1.4984864272300988,
            1.3640541652887208,
            0.7651030005010572,
            1.1830254014058643,
            1.0254213025188765,
            1.4103860926174046,
            1.2667707342271195,
            1.4655679663276082,
            1.4159349500782485,
            1.2316124647875186
           ],
           "yaxis": "y"
          },
          {
           "hovertemplate": "color=1<br>iter=4.0<br>x1=%{x}<br>x2=%{y}<br>size=%{marker.size}<extra></extra>",
           "legendgroup": "1",
           "marker": {
            "color": "#EF553B",
            "size": [
             1,
             1,
             1,
             1,
             1,
             1,
             1,
             1,
             1,
             1,
             1,
             1,
             1,
             1,
             1,
             1,
             1,
             1,
             1,
             1,
             1,
             1,
             1,
             1,
             1,
             1,
             1,
             1,
             1,
             1,
             1,
             1,
             1,
             14
            ],
            "sizemode": "area",
            "sizeref": 0.035,
            "symbol": "circle"
           },
           "mode": "markers",
           "name": "1",
           "orientation": "v",
           "showlegend": true,
           "type": "scatter",
           "x": [
            -0.7243327381673373,
            -1.0679818087254052,
            -1.6256870494144724,
            -1.2910539660565594,
            -1.2205761562524422,
            -1.2910909409662767,
            -0.6978583531261866,
            -0.9730671491386583,
            -0.9764043642907584,
            -0.7576799941135409,
            -1.3561487435950732,
            -0.9916206852794982,
            -0.9127837876432864,
            -1.5210967238494808,
            -1.374503442775555,
            -1.2668609189462883,
            -1.2581346097240655,
            -0.8047035536678926,
            -0.9554260323557816,
            -0.6160195099190611,
            -1.3266688844483974,
            -1.250894026944287,
            -1.184511579412838,
            -1.252618920402433,
            -0.8261619027391889,
            -1.1698572865542214,
            -1.1440348595619427,
            -0.8519369044707669,
            -0.5949208082879046,
            -1.0575716220382523,
            -0.9597601268147717,
            -1.6238749780578257,
            -0.8877125797035045,
            -1.0852592426498167
           ],
           "xaxis": "x",
           "y": [
            0.08007929852707414,
            -0.44416157173066434,
            -0.26458872842809045,
            -0.14635688785254933,
            -0.13568504596757908,
            -0.2870777451297083,
            -0.1809954016340368,
            0.040113177018631326,
            -0.20119600782704528,
            -0.04791094895962166,
            -0.2608790922224402,
            0.31726808532911266,
            -0.26011459916699264,
            -0.05189168477068001,
            -0.06242811675858889,
            -0.049544499801428506,
            -0.060239745818781554,
            -0.3716849546564056,
            -0.22648234084631425,
            -0.20383987487863084,
            -0.06941479095383352,
            -0.04849418150923344,
            0.32467498501923564,
            -0.14870130725023425,
            -0.12189216618934265,
            -0.18748779485114878,
            0.06561105029748066,
            0.06716031695210577,
            -0.06553451326299983,
            -0.26294476014607304,
            -0.05886464331778313,
            -0.06080705968233393,
            0.186431259617944,
            -0.09690546335911987
           ],
           "yaxis": "y"
          }
         ],
         "name": "4.0"
        },
        {
         "data": [
          {
           "hovertemplate": "color=2<br>iter=5.0<br>x1=%{x}<br>x2=%{y}<br>size=%{marker.size}<extra></extra>",
           "legendgroup": "2",
           "marker": {
            "color": "#00CC96",
            "size": [
             1,
             1,
             1,
             1,
             1,
             1,
             1,
             1,
             1,
             1,
             1,
             1,
             1,
             1,
             1,
             1,
             1,
             1,
             1,
             1,
             1,
             1,
             1,
             1,
             1,
             1,
             1,
             1,
             1,
             1,
             1,
             1,
             1,
             14
            ],
            "sizemode": "area",
            "sizeref": 0.035,
            "symbol": "circle"
           },
           "mode": "markers",
           "name": "2",
           "orientation": "v",
           "showlegend": true,
           "type": "scatter",
           "x": [
            1.053743651093665,
            1.0304301793490058,
            0.8284324465227679,
            1.4377639733976832,
            1.0538682079360342,
            0.8973326996635752,
            1.1029329092328488,
            1.290230788597792,
            1.3005885399183157,
            1.1824887916898328,
            1.4623981604678626,
            0.8438600431577624,
            1.5019469785249282,
            1.335429292250568,
            1.397561337294441,
            1.8257886304564286,
            1.3379899423675572,
            1.0380466058524962,
            1.180319948573405,
            1.6137136009772184,
            1.288356486113322,
            1.3044665943227105,
            1.4456886860349747,
            1.39347242824476,
            1.0329099739001335,
            0.9685495026702903,
            1.4729264194832052,
            1.450568487333462,
            1.1665746301628006,
            1.2154976069013186,
            1.6749528709326555,
            1.4745054704955596,
            1.0455770219335092,
            1.2620882698743299
           ],
           "xaxis": "x",
           "y": [
            -1.3206754533614802,
            -1.1797079626476557,
            -1.3220857827246029,
            -1.0425553262546803,
            -1.2557399357833536,
            -1.275775295214898,
            -1.6817034920184422,
            -1.0785926766414307,
            -1.0858035937924089,
            -1.146383944609582,
            -1.0880103325885628,
            -1.0749844269818083,
            -1.1255799695507493,
            -1.2200956221252621,
            -1.129820922456182,
            -1.1209307438171014,
            -1.2831364095988411,
            -1.1646860448481802,
            -1.1684032045678212,
            -1.0816156835707929,
            -1.2784345188178132,
            -1.045238070327321,
            -1.0708186950698886,
            -0.8935909900984641,
            -0.8923621748922208,
            -1.4280534156553082,
            -1.3068458806181291,
            -1.1829918823757446,
            -0.9806904594775487,
            -1.019461818419907,
            -1.2244823779478915,
            -1.1466054777637895,
            -1.3610809273068116,
            -1.1720285912704447
           ],
           "yaxis": "y"
          },
          {
           "hovertemplate": "color=0<br>iter=5.0<br>x1=%{x}<br>x2=%{y}<br>size=%{marker.size}<extra></extra>",
           "legendgroup": "0",
           "marker": {
            "color": "#636EFA",
            "size": [
             1,
             1,
             1,
             1,
             1,
             1,
             1,
             1,
             1,
             1,
             1,
             1,
             1,
             1,
             1,
             1,
             1,
             1,
             1,
             1,
             1,
             1,
             1,
             1,
             1,
             1,
             1,
             1,
             1,
             1,
             1,
             1,
             1,
             1,
             14
            ],
            "sizemode": "area",
            "sizeref": 0.035,
            "symbol": "circle"
           },
           "mode": "markers",
           "name": "0",
           "orientation": "v",
           "showlegend": true,
           "type": "scatter",
           "x": [
            -0.24050895679992768,
            0.17648883407886076,
            0.02352142545955114,
            -0.45410426821459626,
            0.17296003882813937,
            -0.4396016600838884,
            -0.07601009326491152,
            -0.15028296586242068,
            0.18108935160553802,
            -0.5175304096471027,
            -0.3175283179690559,
            -0.06826968097196959,
            -0.27186732706771277,
            -0.37909313045624016,
            -0.21676991199641849,
            0.001346457497240279,
            0.03460376310976049,
            0.45207092184559305,
            -0.5173598917011434,
            -0.6940876447447076,
            -0.23826795503633014,
            -0.42907631169664034,
            0.2462045117191672,
            -0.4424856543444192,
            -0.010542399378280078,
            0.5176318327408969,
            -0.3862055447041447,
            -0.13802659159884517,
            -0.42750189297058566,
            -0.42858920559582336,
            0.3747039446179279,
            -0.7493290331674409,
            -0.11640650767386308,
            -0.3065336249651325,
            -0.17162817348261544
           ],
           "xaxis": "x",
           "y": [
            1.4290061475959523,
            1.3375201247969382,
            1.4863035603690706,
            1.3724536903562652,
            1.0129949936537228,
            1.214548083175785,
            1.0653970788648708,
            1.2286335739133085,
            1.032730660998333,
            1.3154350659611715,
            1.0225967022863252,
            1.340086897371031,
            1.2509489419525124,
            1.240296518869591,
            1.3314142564452838,
            1.2377781199821267,
            1.3861060008919799,
            0.8516575303562622,
            1.2340358734197037,
            1.3396825972615432,
            1.271724292177335,
            1.1983700191081372,
            1.1642190947133675,
            0.9796220752370453,
            1.1365118628229673,
            1.4984864272300988,
            1.3640541652887208,
            0.7651030005010572,
            1.1830254014058643,
            1.0254213025188765,
            1.4103860926174046,
            1.2667707342271195,
            1.4655679663276082,
            1.4159349500782485,
            1.2316124647875186
           ],
           "yaxis": "y"
          },
          {
           "hovertemplate": "color=1<br>iter=5.0<br>x1=%{x}<br>x2=%{y}<br>size=%{marker.size}<extra></extra>",
           "legendgroup": "1",
           "marker": {
            "color": "#EF553B",
            "size": [
             1,
             1,
             1,
             1,
             1,
             1,
             1,
             1,
             1,
             1,
             1,
             1,
             1,
             1,
             1,
             1,
             1,
             1,
             1,
             1,
             1,
             1,
             1,
             1,
             1,
             1,
             1,
             1,
             1,
             1,
             1,
             1,
             1,
             14
            ],
            "sizemode": "area",
            "sizeref": 0.035,
            "symbol": "circle"
           },
           "mode": "markers",
           "name": "1",
           "orientation": "v",
           "showlegend": true,
           "type": "scatter",
           "x": [
            -0.7243327381673373,
            -1.0679818087254052,
            -1.6256870494144724,
            -1.2910539660565594,
            -1.2205761562524422,
            -1.2910909409662767,
            -0.6978583531261866,
            -0.9730671491386583,
            -0.9764043642907584,
            -0.7576799941135409,
            -1.3561487435950732,
            -0.9916206852794982,
            -0.9127837876432864,
            -1.5210967238494808,
            -1.374503442775555,
            -1.2668609189462883,
            -1.2581346097240655,
            -0.8047035536678926,
            -0.9554260323557816,
            -0.6160195099190611,
            -1.3266688844483974,
            -1.250894026944287,
            -1.184511579412838,
            -1.252618920402433,
            -0.8261619027391889,
            -1.1698572865542214,
            -1.1440348595619427,
            -0.8519369044707669,
            -0.5949208082879046,
            -1.0575716220382523,
            -0.9597601268147717,
            -1.6238749780578257,
            -0.8877125797035045,
            -1.0852592426498167
           ],
           "xaxis": "x",
           "y": [
            0.08007929852707414,
            -0.44416157173066434,
            -0.26458872842809045,
            -0.14635688785254933,
            -0.13568504596757908,
            -0.2870777451297083,
            -0.1809954016340368,
            0.040113177018631326,
            -0.20119600782704528,
            -0.04791094895962166,
            -0.2608790922224402,
            0.31726808532911266,
            -0.26011459916699264,
            -0.05189168477068001,
            -0.06242811675858889,
            -0.049544499801428506,
            -0.060239745818781554,
            -0.3716849546564056,
            -0.22648234084631425,
            -0.20383987487863084,
            -0.06941479095383352,
            -0.04849418150923344,
            0.32467498501923564,
            -0.14870130725023425,
            -0.12189216618934265,
            -0.18748779485114878,
            0.06561105029748066,
            0.06716031695210577,
            -0.06553451326299983,
            -0.26294476014607304,
            -0.05886464331778313,
            -0.06080705968233393,
            0.186431259617944,
            -0.09690546335911987
           ],
           "yaxis": "y"
          }
         ],
         "name": "5.0"
        },
        {
         "data": [
          {
           "hovertemplate": "color=2<br>iter=6.0<br>x1=%{x}<br>x2=%{y}<br>size=%{marker.size}<extra></extra>",
           "legendgroup": "2",
           "marker": {
            "color": "#00CC96",
            "size": [
             1,
             1,
             1,
             1,
             1,
             1,
             1,
             1,
             1,
             1,
             1,
             1,
             1,
             1,
             1,
             1,
             1,
             1,
             1,
             1,
             1,
             1,
             1,
             1,
             1,
             1,
             1,
             1,
             1,
             1,
             1,
             1,
             1,
             14
            ],
            "sizemode": "area",
            "sizeref": 0.035,
            "symbol": "circle"
           },
           "mode": "markers",
           "name": "2",
           "orientation": "v",
           "showlegend": true,
           "type": "scatter",
           "x": [
            1.053743651093665,
            1.0304301793490058,
            0.8284324465227679,
            1.4377639733976832,
            1.0538682079360342,
            0.8973326996635752,
            1.1029329092328488,
            1.290230788597792,
            1.3005885399183157,
            1.1824887916898328,
            1.4623981604678626,
            0.8438600431577624,
            1.5019469785249282,
            1.335429292250568,
            1.397561337294441,
            1.8257886304564286,
            1.3379899423675572,
            1.0380466058524962,
            1.180319948573405,
            1.6137136009772184,
            1.288356486113322,
            1.3044665943227105,
            1.4456886860349747,
            1.39347242824476,
            1.0329099739001335,
            0.9685495026702903,
            1.4729264194832052,
            1.450568487333462,
            1.1665746301628006,
            1.2154976069013186,
            1.6749528709326555,
            1.4745054704955596,
            1.0455770219335092,
            1.2620882698743299
           ],
           "xaxis": "x",
           "y": [
            -1.3206754533614802,
            -1.1797079626476557,
            -1.3220857827246029,
            -1.0425553262546803,
            -1.2557399357833536,
            -1.275775295214898,
            -1.6817034920184422,
            -1.0785926766414307,
            -1.0858035937924089,
            -1.146383944609582,
            -1.0880103325885628,
            -1.0749844269818083,
            -1.1255799695507493,
            -1.2200956221252621,
            -1.129820922456182,
            -1.1209307438171014,
            -1.2831364095988411,
            -1.1646860448481802,
            -1.1684032045678212,
            -1.0816156835707929,
            -1.2784345188178132,
            -1.045238070327321,
            -1.0708186950698886,
            -0.8935909900984641,
            -0.8923621748922208,
            -1.4280534156553082,
            -1.3068458806181291,
            -1.1829918823757446,
            -0.9806904594775487,
            -1.019461818419907,
            -1.2244823779478915,
            -1.1466054777637895,
            -1.3610809273068116,
            -1.1720285912704447
           ],
           "yaxis": "y"
          },
          {
           "hovertemplate": "color=0<br>iter=6.0<br>x1=%{x}<br>x2=%{y}<br>size=%{marker.size}<extra></extra>",
           "legendgroup": "0",
           "marker": {
            "color": "#636EFA",
            "size": [
             1,
             1,
             1,
             1,
             1,
             1,
             1,
             1,
             1,
             1,
             1,
             1,
             1,
             1,
             1,
             1,
             1,
             1,
             1,
             1,
             1,
             1,
             1,
             1,
             1,
             1,
             1,
             1,
             1,
             1,
             1,
             1,
             1,
             1,
             14
            ],
            "sizemode": "area",
            "sizeref": 0.035,
            "symbol": "circle"
           },
           "mode": "markers",
           "name": "0",
           "orientation": "v",
           "showlegend": true,
           "type": "scatter",
           "x": [
            -0.24050895679992768,
            0.17648883407886076,
            0.02352142545955114,
            -0.45410426821459626,
            0.17296003882813937,
            -0.4396016600838884,
            -0.07601009326491152,
            -0.15028296586242068,
            0.18108935160553802,
            -0.5175304096471027,
            -0.3175283179690559,
            -0.06826968097196959,
            -0.27186732706771277,
            -0.37909313045624016,
            -0.21676991199641849,
            0.001346457497240279,
            0.03460376310976049,
            0.45207092184559305,
            -0.5173598917011434,
            -0.6940876447447076,
            -0.23826795503633014,
            -0.42907631169664034,
            0.2462045117191672,
            -0.4424856543444192,
            -0.010542399378280078,
            0.5176318327408969,
            -0.3862055447041447,
            -0.13802659159884517,
            -0.42750189297058566,
            -0.42858920559582336,
            0.3747039446179279,
            -0.7493290331674409,
            -0.11640650767386308,
            -0.3065336249651325,
            -0.17162817348261544
           ],
           "xaxis": "x",
           "y": [
            1.4290061475959523,
            1.3375201247969382,
            1.4863035603690706,
            1.3724536903562652,
            1.0129949936537228,
            1.214548083175785,
            1.0653970788648708,
            1.2286335739133085,
            1.032730660998333,
            1.3154350659611715,
            1.0225967022863252,
            1.340086897371031,
            1.2509489419525124,
            1.240296518869591,
            1.3314142564452838,
            1.2377781199821267,
            1.3861060008919799,
            0.8516575303562622,
            1.2340358734197037,
            1.3396825972615432,
            1.271724292177335,
            1.1983700191081372,
            1.1642190947133675,
            0.9796220752370453,
            1.1365118628229673,
            1.4984864272300988,
            1.3640541652887208,
            0.7651030005010572,
            1.1830254014058643,
            1.0254213025188765,
            1.4103860926174046,
            1.2667707342271195,
            1.4655679663276082,
            1.4159349500782485,
            1.2316124647875186
           ],
           "yaxis": "y"
          },
          {
           "hovertemplate": "color=1<br>iter=6.0<br>x1=%{x}<br>x2=%{y}<br>size=%{marker.size}<extra></extra>",
           "legendgroup": "1",
           "marker": {
            "color": "#EF553B",
            "size": [
             1,
             1,
             1,
             1,
             1,
             1,
             1,
             1,
             1,
             1,
             1,
             1,
             1,
             1,
             1,
             1,
             1,
             1,
             1,
             1,
             1,
             1,
             1,
             1,
             1,
             1,
             1,
             1,
             1,
             1,
             1,
             1,
             1,
             14
            ],
            "sizemode": "area",
            "sizeref": 0.035,
            "symbol": "circle"
           },
           "mode": "markers",
           "name": "1",
           "orientation": "v",
           "showlegend": true,
           "type": "scatter",
           "x": [
            -0.7243327381673373,
            -1.0679818087254052,
            -1.6256870494144724,
            -1.2910539660565594,
            -1.2205761562524422,
            -1.2910909409662767,
            -0.6978583531261866,
            -0.9730671491386583,
            -0.9764043642907584,
            -0.7576799941135409,
            -1.3561487435950732,
            -0.9916206852794982,
            -0.9127837876432864,
            -1.5210967238494808,
            -1.374503442775555,
            -1.2668609189462883,
            -1.2581346097240655,
            -0.8047035536678926,
            -0.9554260323557816,
            -0.6160195099190611,
            -1.3266688844483974,
            -1.250894026944287,
            -1.184511579412838,
            -1.252618920402433,
            -0.8261619027391889,
            -1.1698572865542214,
            -1.1440348595619427,
            -0.8519369044707669,
            -0.5949208082879046,
            -1.0575716220382523,
            -0.9597601268147717,
            -1.6238749780578257,
            -0.8877125797035045,
            -1.0852592426498167
           ],
           "xaxis": "x",
           "y": [
            0.08007929852707414,
            -0.44416157173066434,
            -0.26458872842809045,
            -0.14635688785254933,
            -0.13568504596757908,
            -0.2870777451297083,
            -0.1809954016340368,
            0.040113177018631326,
            -0.20119600782704528,
            -0.04791094895962166,
            -0.2608790922224402,
            0.31726808532911266,
            -0.26011459916699264,
            -0.05189168477068001,
            -0.06242811675858889,
            -0.049544499801428506,
            -0.060239745818781554,
            -0.3716849546564056,
            -0.22648234084631425,
            -0.20383987487863084,
            -0.06941479095383352,
            -0.04849418150923344,
            0.32467498501923564,
            -0.14870130725023425,
            -0.12189216618934265,
            -0.18748779485114878,
            0.06561105029748066,
            0.06716031695210577,
            -0.06553451326299983,
            -0.26294476014607304,
            -0.05886464331778313,
            -0.06080705968233393,
            0.186431259617944,
            -0.09690546335911987
           ],
           "yaxis": "y"
          }
         ],
         "name": "6.0"
        },
        {
         "data": [
          {
           "hovertemplate": "color=2<br>iter=7.0<br>x1=%{x}<br>x2=%{y}<br>size=%{marker.size}<extra></extra>",
           "legendgroup": "2",
           "marker": {
            "color": "#00CC96",
            "size": [
             1,
             1,
             1,
             1,
             1,
             1,
             1,
             1,
             1,
             1,
             1,
             1,
             1,
             1,
             1,
             1,
             1,
             1,
             1,
             1,
             1,
             1,
             1,
             1,
             1,
             1,
             1,
             1,
             1,
             1,
             1,
             1,
             1,
             14
            ],
            "sizemode": "area",
            "sizeref": 0.035,
            "symbol": "circle"
           },
           "mode": "markers",
           "name": "2",
           "orientation": "v",
           "showlegend": true,
           "type": "scatter",
           "x": [
            1.053743651093665,
            1.0304301793490058,
            0.8284324465227679,
            1.4377639733976832,
            1.0538682079360342,
            0.8973326996635752,
            1.1029329092328488,
            1.290230788597792,
            1.3005885399183157,
            1.1824887916898328,
            1.4623981604678626,
            0.8438600431577624,
            1.5019469785249282,
            1.335429292250568,
            1.397561337294441,
            1.8257886304564286,
            1.3379899423675572,
            1.0380466058524962,
            1.180319948573405,
            1.6137136009772184,
            1.288356486113322,
            1.3044665943227105,
            1.4456886860349747,
            1.39347242824476,
            1.0329099739001335,
            0.9685495026702903,
            1.4729264194832052,
            1.450568487333462,
            1.1665746301628006,
            1.2154976069013186,
            1.6749528709326555,
            1.4745054704955596,
            1.0455770219335092,
            1.2620882698743299
           ],
           "xaxis": "x",
           "y": [
            -1.3206754533614802,
            -1.1797079626476557,
            -1.3220857827246029,
            -1.0425553262546803,
            -1.2557399357833536,
            -1.275775295214898,
            -1.6817034920184422,
            -1.0785926766414307,
            -1.0858035937924089,
            -1.146383944609582,
            -1.0880103325885628,
            -1.0749844269818083,
            -1.1255799695507493,
            -1.2200956221252621,
            -1.129820922456182,
            -1.1209307438171014,
            -1.2831364095988411,
            -1.1646860448481802,
            -1.1684032045678212,
            -1.0816156835707929,
            -1.2784345188178132,
            -1.045238070327321,
            -1.0708186950698886,
            -0.8935909900984641,
            -0.8923621748922208,
            -1.4280534156553082,
            -1.3068458806181291,
            -1.1829918823757446,
            -0.9806904594775487,
            -1.019461818419907,
            -1.2244823779478915,
            -1.1466054777637895,
            -1.3610809273068116,
            -1.1720285912704447
           ],
           "yaxis": "y"
          },
          {
           "hovertemplate": "color=0<br>iter=7.0<br>x1=%{x}<br>x2=%{y}<br>size=%{marker.size}<extra></extra>",
           "legendgroup": "0",
           "marker": {
            "color": "#636EFA",
            "size": [
             1,
             1,
             1,
             1,
             1,
             1,
             1,
             1,
             1,
             1,
             1,
             1,
             1,
             1,
             1,
             1,
             1,
             1,
             1,
             1,
             1,
             1,
             1,
             1,
             1,
             1,
             1,
             1,
             1,
             1,
             1,
             1,
             1,
             1,
             14
            ],
            "sizemode": "area",
            "sizeref": 0.035,
            "symbol": "circle"
           },
           "mode": "markers",
           "name": "0",
           "orientation": "v",
           "showlegend": true,
           "type": "scatter",
           "x": [
            -0.24050895679992768,
            0.17648883407886076,
            0.02352142545955114,
            -0.45410426821459626,
            0.17296003882813937,
            -0.4396016600838884,
            -0.07601009326491152,
            -0.15028296586242068,
            0.18108935160553802,
            -0.5175304096471027,
            -0.3175283179690559,
            -0.06826968097196959,
            -0.27186732706771277,
            -0.37909313045624016,
            -0.21676991199641849,
            0.001346457497240279,
            0.03460376310976049,
            0.45207092184559305,
            -0.5173598917011434,
            -0.6940876447447076,
            -0.23826795503633014,
            -0.42907631169664034,
            0.2462045117191672,
            -0.4424856543444192,
            -0.010542399378280078,
            0.5176318327408969,
            -0.3862055447041447,
            -0.13802659159884517,
            -0.42750189297058566,
            -0.42858920559582336,
            0.3747039446179279,
            -0.7493290331674409,
            -0.11640650767386308,
            -0.3065336249651325,
            -0.17162817348261544
           ],
           "xaxis": "x",
           "y": [
            1.4290061475959523,
            1.3375201247969382,
            1.4863035603690706,
            1.3724536903562652,
            1.0129949936537228,
            1.214548083175785,
            1.0653970788648708,
            1.2286335739133085,
            1.032730660998333,
            1.3154350659611715,
            1.0225967022863252,
            1.340086897371031,
            1.2509489419525124,
            1.240296518869591,
            1.3314142564452838,
            1.2377781199821267,
            1.3861060008919799,
            0.8516575303562622,
            1.2340358734197037,
            1.3396825972615432,
            1.271724292177335,
            1.1983700191081372,
            1.1642190947133675,
            0.9796220752370453,
            1.1365118628229673,
            1.4984864272300988,
            1.3640541652887208,
            0.7651030005010572,
            1.1830254014058643,
            1.0254213025188765,
            1.4103860926174046,
            1.2667707342271195,
            1.4655679663276082,
            1.4159349500782485,
            1.2316124647875186
           ],
           "yaxis": "y"
          },
          {
           "hovertemplate": "color=1<br>iter=7.0<br>x1=%{x}<br>x2=%{y}<br>size=%{marker.size}<extra></extra>",
           "legendgroup": "1",
           "marker": {
            "color": "#EF553B",
            "size": [
             1,
             1,
             1,
             1,
             1,
             1,
             1,
             1,
             1,
             1,
             1,
             1,
             1,
             1,
             1,
             1,
             1,
             1,
             1,
             1,
             1,
             1,
             1,
             1,
             1,
             1,
             1,
             1,
             1,
             1,
             1,
             1,
             1,
             14
            ],
            "sizemode": "area",
            "sizeref": 0.035,
            "symbol": "circle"
           },
           "mode": "markers",
           "name": "1",
           "orientation": "v",
           "showlegend": true,
           "type": "scatter",
           "x": [
            -0.7243327381673373,
            -1.0679818087254052,
            -1.6256870494144724,
            -1.2910539660565594,
            -1.2205761562524422,
            -1.2910909409662767,
            -0.6978583531261866,
            -0.9730671491386583,
            -0.9764043642907584,
            -0.7576799941135409,
            -1.3561487435950732,
            -0.9916206852794982,
            -0.9127837876432864,
            -1.5210967238494808,
            -1.374503442775555,
            -1.2668609189462883,
            -1.2581346097240655,
            -0.8047035536678926,
            -0.9554260323557816,
            -0.6160195099190611,
            -1.3266688844483974,
            -1.250894026944287,
            -1.184511579412838,
            -1.252618920402433,
            -0.8261619027391889,
            -1.1698572865542214,
            -1.1440348595619427,
            -0.8519369044707669,
            -0.5949208082879046,
            -1.0575716220382523,
            -0.9597601268147717,
            -1.6238749780578257,
            -0.8877125797035045,
            -1.0852592426498167
           ],
           "xaxis": "x",
           "y": [
            0.08007929852707414,
            -0.44416157173066434,
            -0.26458872842809045,
            -0.14635688785254933,
            -0.13568504596757908,
            -0.2870777451297083,
            -0.1809954016340368,
            0.040113177018631326,
            -0.20119600782704528,
            -0.04791094895962166,
            -0.2608790922224402,
            0.31726808532911266,
            -0.26011459916699264,
            -0.05189168477068001,
            -0.06242811675858889,
            -0.049544499801428506,
            -0.060239745818781554,
            -0.3716849546564056,
            -0.22648234084631425,
            -0.20383987487863084,
            -0.06941479095383352,
            -0.04849418150923344,
            0.32467498501923564,
            -0.14870130725023425,
            -0.12189216618934265,
            -0.18748779485114878,
            0.06561105029748066,
            0.06716031695210577,
            -0.06553451326299983,
            -0.26294476014607304,
            -0.05886464331778313,
            -0.06080705968233393,
            0.186431259617944,
            -0.09690546335911987
           ],
           "yaxis": "y"
          }
         ],
         "name": "7.0"
        },
        {
         "data": [
          {
           "hovertemplate": "color=2<br>iter=8.0<br>x1=%{x}<br>x2=%{y}<br>size=%{marker.size}<extra></extra>",
           "legendgroup": "2",
           "marker": {
            "color": "#00CC96",
            "size": [
             1,
             1,
             1,
             1,
             1,
             1,
             1,
             1,
             1,
             1,
             1,
             1,
             1,
             1,
             1,
             1,
             1,
             1,
             1,
             1,
             1,
             1,
             1,
             1,
             1,
             1,
             1,
             1,
             1,
             1,
             1,
             1,
             1,
             14
            ],
            "sizemode": "area",
            "sizeref": 0.035,
            "symbol": "circle"
           },
           "mode": "markers",
           "name": "2",
           "orientation": "v",
           "showlegend": true,
           "type": "scatter",
           "x": [
            1.053743651093665,
            1.0304301793490058,
            0.8284324465227679,
            1.4377639733976832,
            1.0538682079360342,
            0.8973326996635752,
            1.1029329092328488,
            1.290230788597792,
            1.3005885399183157,
            1.1824887916898328,
            1.4623981604678626,
            0.8438600431577624,
            1.5019469785249282,
            1.335429292250568,
            1.397561337294441,
            1.8257886304564286,
            1.3379899423675572,
            1.0380466058524962,
            1.180319948573405,
            1.6137136009772184,
            1.288356486113322,
            1.3044665943227105,
            1.4456886860349747,
            1.39347242824476,
            1.0329099739001335,
            0.9685495026702903,
            1.4729264194832052,
            1.450568487333462,
            1.1665746301628006,
            1.2154976069013186,
            1.6749528709326555,
            1.4745054704955596,
            1.0455770219335092,
            1.2620882698743299
           ],
           "xaxis": "x",
           "y": [
            -1.3206754533614802,
            -1.1797079626476557,
            -1.3220857827246029,
            -1.0425553262546803,
            -1.2557399357833536,
            -1.275775295214898,
            -1.6817034920184422,
            -1.0785926766414307,
            -1.0858035937924089,
            -1.146383944609582,
            -1.0880103325885628,
            -1.0749844269818083,
            -1.1255799695507493,
            -1.2200956221252621,
            -1.129820922456182,
            -1.1209307438171014,
            -1.2831364095988411,
            -1.1646860448481802,
            -1.1684032045678212,
            -1.0816156835707929,
            -1.2784345188178132,
            -1.045238070327321,
            -1.0708186950698886,
            -0.8935909900984641,
            -0.8923621748922208,
            -1.4280534156553082,
            -1.3068458806181291,
            -1.1829918823757446,
            -0.9806904594775487,
            -1.019461818419907,
            -1.2244823779478915,
            -1.1466054777637895,
            -1.3610809273068116,
            -1.1720285912704447
           ],
           "yaxis": "y"
          },
          {
           "hovertemplate": "color=0<br>iter=8.0<br>x1=%{x}<br>x2=%{y}<br>size=%{marker.size}<extra></extra>",
           "legendgroup": "0",
           "marker": {
            "color": "#636EFA",
            "size": [
             1,
             1,
             1,
             1,
             1,
             1,
             1,
             1,
             1,
             1,
             1,
             1,
             1,
             1,
             1,
             1,
             1,
             1,
             1,
             1,
             1,
             1,
             1,
             1,
             1,
             1,
             1,
             1,
             1,
             1,
             1,
             1,
             1,
             1,
             14
            ],
            "sizemode": "area",
            "sizeref": 0.035,
            "symbol": "circle"
           },
           "mode": "markers",
           "name": "0",
           "orientation": "v",
           "showlegend": true,
           "type": "scatter",
           "x": [
            -0.24050895679992768,
            0.17648883407886076,
            0.02352142545955114,
            -0.45410426821459626,
            0.17296003882813937,
            -0.4396016600838884,
            -0.07601009326491152,
            -0.15028296586242068,
            0.18108935160553802,
            -0.5175304096471027,
            -0.3175283179690559,
            -0.06826968097196959,
            -0.27186732706771277,
            -0.37909313045624016,
            -0.21676991199641849,
            0.001346457497240279,
            0.03460376310976049,
            0.45207092184559305,
            -0.5173598917011434,
            -0.6940876447447076,
            -0.23826795503633014,
            -0.42907631169664034,
            0.2462045117191672,
            -0.4424856543444192,
            -0.010542399378280078,
            0.5176318327408969,
            -0.3862055447041447,
            -0.13802659159884517,
            -0.42750189297058566,
            -0.42858920559582336,
            0.3747039446179279,
            -0.7493290331674409,
            -0.11640650767386308,
            -0.3065336249651325,
            -0.17162817348261544
           ],
           "xaxis": "x",
           "y": [
            1.4290061475959523,
            1.3375201247969382,
            1.4863035603690706,
            1.3724536903562652,
            1.0129949936537228,
            1.214548083175785,
            1.0653970788648708,
            1.2286335739133085,
            1.032730660998333,
            1.3154350659611715,
            1.0225967022863252,
            1.340086897371031,
            1.2509489419525124,
            1.240296518869591,
            1.3314142564452838,
            1.2377781199821267,
            1.3861060008919799,
            0.8516575303562622,
            1.2340358734197037,
            1.3396825972615432,
            1.271724292177335,
            1.1983700191081372,
            1.1642190947133675,
            0.9796220752370453,
            1.1365118628229673,
            1.4984864272300988,
            1.3640541652887208,
            0.7651030005010572,
            1.1830254014058643,
            1.0254213025188765,
            1.4103860926174046,
            1.2667707342271195,
            1.4655679663276082,
            1.4159349500782485,
            1.2316124647875186
           ],
           "yaxis": "y"
          },
          {
           "hovertemplate": "color=1<br>iter=8.0<br>x1=%{x}<br>x2=%{y}<br>size=%{marker.size}<extra></extra>",
           "legendgroup": "1",
           "marker": {
            "color": "#EF553B",
            "size": [
             1,
             1,
             1,
             1,
             1,
             1,
             1,
             1,
             1,
             1,
             1,
             1,
             1,
             1,
             1,
             1,
             1,
             1,
             1,
             1,
             1,
             1,
             1,
             1,
             1,
             1,
             1,
             1,
             1,
             1,
             1,
             1,
             1,
             14
            ],
            "sizemode": "area",
            "sizeref": 0.035,
            "symbol": "circle"
           },
           "mode": "markers",
           "name": "1",
           "orientation": "v",
           "showlegend": true,
           "type": "scatter",
           "x": [
            -0.7243327381673373,
            -1.0679818087254052,
            -1.6256870494144724,
            -1.2910539660565594,
            -1.2205761562524422,
            -1.2910909409662767,
            -0.6978583531261866,
            -0.9730671491386583,
            -0.9764043642907584,
            -0.7576799941135409,
            -1.3561487435950732,
            -0.9916206852794982,
            -0.9127837876432864,
            -1.5210967238494808,
            -1.374503442775555,
            -1.2668609189462883,
            -1.2581346097240655,
            -0.8047035536678926,
            -0.9554260323557816,
            -0.6160195099190611,
            -1.3266688844483974,
            -1.250894026944287,
            -1.184511579412838,
            -1.252618920402433,
            -0.8261619027391889,
            -1.1698572865542214,
            -1.1440348595619427,
            -0.8519369044707669,
            -0.5949208082879046,
            -1.0575716220382523,
            -0.9597601268147717,
            -1.6238749780578257,
            -0.8877125797035045,
            -1.0852592426498167
           ],
           "xaxis": "x",
           "y": [
            0.08007929852707414,
            -0.44416157173066434,
            -0.26458872842809045,
            -0.14635688785254933,
            -0.13568504596757908,
            -0.2870777451297083,
            -0.1809954016340368,
            0.040113177018631326,
            -0.20119600782704528,
            -0.04791094895962166,
            -0.2608790922224402,
            0.31726808532911266,
            -0.26011459916699264,
            -0.05189168477068001,
            -0.06242811675858889,
            -0.049544499801428506,
            -0.060239745818781554,
            -0.3716849546564056,
            -0.22648234084631425,
            -0.20383987487863084,
            -0.06941479095383352,
            -0.04849418150923344,
            0.32467498501923564,
            -0.14870130725023425,
            -0.12189216618934265,
            -0.18748779485114878,
            0.06561105029748066,
            0.06716031695210577,
            -0.06553451326299983,
            -0.26294476014607304,
            -0.05886464331778313,
            -0.06080705968233393,
            0.186431259617944,
            -0.09690546335911987
           ],
           "yaxis": "y"
          }
         ],
         "name": "8.0"
        },
        {
         "data": [
          {
           "hovertemplate": "color=2<br>iter=9.0<br>x1=%{x}<br>x2=%{y}<br>size=%{marker.size}<extra></extra>",
           "legendgroup": "2",
           "marker": {
            "color": "#00CC96",
            "size": [
             1,
             1,
             1,
             1,
             1,
             1,
             1,
             1,
             1,
             1,
             1,
             1,
             1,
             1,
             1,
             1,
             1,
             1,
             1,
             1,
             1,
             1,
             1,
             1,
             1,
             1,
             1,
             1,
             1,
             1,
             1,
             1,
             1,
             14
            ],
            "sizemode": "area",
            "sizeref": 0.035,
            "symbol": "circle"
           },
           "mode": "markers",
           "name": "2",
           "orientation": "v",
           "showlegend": true,
           "type": "scatter",
           "x": [
            1.053743651093665,
            1.0304301793490058,
            0.8284324465227679,
            1.4377639733976832,
            1.0538682079360342,
            0.8973326996635752,
            1.1029329092328488,
            1.290230788597792,
            1.3005885399183157,
            1.1824887916898328,
            1.4623981604678626,
            0.8438600431577624,
            1.5019469785249282,
            1.335429292250568,
            1.397561337294441,
            1.8257886304564286,
            1.3379899423675572,
            1.0380466058524962,
            1.180319948573405,
            1.6137136009772184,
            1.288356486113322,
            1.3044665943227105,
            1.4456886860349747,
            1.39347242824476,
            1.0329099739001335,
            0.9685495026702903,
            1.4729264194832052,
            1.450568487333462,
            1.1665746301628006,
            1.2154976069013186,
            1.6749528709326555,
            1.4745054704955596,
            1.0455770219335092,
            1.2620882698743299
           ],
           "xaxis": "x",
           "y": [
            -1.3206754533614802,
            -1.1797079626476557,
            -1.3220857827246029,
            -1.0425553262546803,
            -1.2557399357833536,
            -1.275775295214898,
            -1.6817034920184422,
            -1.0785926766414307,
            -1.0858035937924089,
            -1.146383944609582,
            -1.0880103325885628,
            -1.0749844269818083,
            -1.1255799695507493,
            -1.2200956221252621,
            -1.129820922456182,
            -1.1209307438171014,
            -1.2831364095988411,
            -1.1646860448481802,
            -1.1684032045678212,
            -1.0816156835707929,
            -1.2784345188178132,
            -1.045238070327321,
            -1.0708186950698886,
            -0.8935909900984641,
            -0.8923621748922208,
            -1.4280534156553082,
            -1.3068458806181291,
            -1.1829918823757446,
            -0.9806904594775487,
            -1.019461818419907,
            -1.2244823779478915,
            -1.1466054777637895,
            -1.3610809273068116,
            -1.1720285912704447
           ],
           "yaxis": "y"
          },
          {
           "hovertemplate": "color=0<br>iter=9.0<br>x1=%{x}<br>x2=%{y}<br>size=%{marker.size}<extra></extra>",
           "legendgroup": "0",
           "marker": {
            "color": "#636EFA",
            "size": [
             1,
             1,
             1,
             1,
             1,
             1,
             1,
             1,
             1,
             1,
             1,
             1,
             1,
             1,
             1,
             1,
             1,
             1,
             1,
             1,
             1,
             1,
             1,
             1,
             1,
             1,
             1,
             1,
             1,
             1,
             1,
             1,
             1,
             1,
             14
            ],
            "sizemode": "area",
            "sizeref": 0.035,
            "symbol": "circle"
           },
           "mode": "markers",
           "name": "0",
           "orientation": "v",
           "showlegend": true,
           "type": "scatter",
           "x": [
            -0.24050895679992768,
            0.17648883407886076,
            0.02352142545955114,
            -0.45410426821459626,
            0.17296003882813937,
            -0.4396016600838884,
            -0.07601009326491152,
            -0.15028296586242068,
            0.18108935160553802,
            -0.5175304096471027,
            -0.3175283179690559,
            -0.06826968097196959,
            -0.27186732706771277,
            -0.37909313045624016,
            -0.21676991199641849,
            0.001346457497240279,
            0.03460376310976049,
            0.45207092184559305,
            -0.5173598917011434,
            -0.6940876447447076,
            -0.23826795503633014,
            -0.42907631169664034,
            0.2462045117191672,
            -0.4424856543444192,
            -0.010542399378280078,
            0.5176318327408969,
            -0.3862055447041447,
            -0.13802659159884517,
            -0.42750189297058566,
            -0.42858920559582336,
            0.3747039446179279,
            -0.7493290331674409,
            -0.11640650767386308,
            -0.3065336249651325,
            -0.17162817348261544
           ],
           "xaxis": "x",
           "y": [
            1.4290061475959523,
            1.3375201247969382,
            1.4863035603690706,
            1.3724536903562652,
            1.0129949936537228,
            1.214548083175785,
            1.0653970788648708,
            1.2286335739133085,
            1.032730660998333,
            1.3154350659611715,
            1.0225967022863252,
            1.340086897371031,
            1.2509489419525124,
            1.240296518869591,
            1.3314142564452838,
            1.2377781199821267,
            1.3861060008919799,
            0.8516575303562622,
            1.2340358734197037,
            1.3396825972615432,
            1.271724292177335,
            1.1983700191081372,
            1.1642190947133675,
            0.9796220752370453,
            1.1365118628229673,
            1.4984864272300988,
            1.3640541652887208,
            0.7651030005010572,
            1.1830254014058643,
            1.0254213025188765,
            1.4103860926174046,
            1.2667707342271195,
            1.4655679663276082,
            1.4159349500782485,
            1.2316124647875186
           ],
           "yaxis": "y"
          },
          {
           "hovertemplate": "color=1<br>iter=9.0<br>x1=%{x}<br>x2=%{y}<br>size=%{marker.size}<extra></extra>",
           "legendgroup": "1",
           "marker": {
            "color": "#EF553B",
            "size": [
             1,
             1,
             1,
             1,
             1,
             1,
             1,
             1,
             1,
             1,
             1,
             1,
             1,
             1,
             1,
             1,
             1,
             1,
             1,
             1,
             1,
             1,
             1,
             1,
             1,
             1,
             1,
             1,
             1,
             1,
             1,
             1,
             1,
             14
            ],
            "sizemode": "area",
            "sizeref": 0.035,
            "symbol": "circle"
           },
           "mode": "markers",
           "name": "1",
           "orientation": "v",
           "showlegend": true,
           "type": "scatter",
           "x": [
            -0.7243327381673373,
            -1.0679818087254052,
            -1.6256870494144724,
            -1.2910539660565594,
            -1.2205761562524422,
            -1.2910909409662767,
            -0.6978583531261866,
            -0.9730671491386583,
            -0.9764043642907584,
            -0.7576799941135409,
            -1.3561487435950732,
            -0.9916206852794982,
            -0.9127837876432864,
            -1.5210967238494808,
            -1.374503442775555,
            -1.2668609189462883,
            -1.2581346097240655,
            -0.8047035536678926,
            -0.9554260323557816,
            -0.6160195099190611,
            -1.3266688844483974,
            -1.250894026944287,
            -1.184511579412838,
            -1.252618920402433,
            -0.8261619027391889,
            -1.1698572865542214,
            -1.1440348595619427,
            -0.8519369044707669,
            -0.5949208082879046,
            -1.0575716220382523,
            -0.9597601268147717,
            -1.6238749780578257,
            -0.8877125797035045,
            -1.0852592426498167
           ],
           "xaxis": "x",
           "y": [
            0.08007929852707414,
            -0.44416157173066434,
            -0.26458872842809045,
            -0.14635688785254933,
            -0.13568504596757908,
            -0.2870777451297083,
            -0.1809954016340368,
            0.040113177018631326,
            -0.20119600782704528,
            -0.04791094895962166,
            -0.2608790922224402,
            0.31726808532911266,
            -0.26011459916699264,
            -0.05189168477068001,
            -0.06242811675858889,
            -0.049544499801428506,
            -0.060239745818781554,
            -0.3716849546564056,
            -0.22648234084631425,
            -0.20383987487863084,
            -0.06941479095383352,
            -0.04849418150923344,
            0.32467498501923564,
            -0.14870130725023425,
            -0.12189216618934265,
            -0.18748779485114878,
            0.06561105029748066,
            0.06716031695210577,
            -0.06553451326299983,
            -0.26294476014607304,
            -0.05886464331778313,
            -0.06080705968233393,
            0.186431259617944,
            -0.09690546335911987
           ],
           "yaxis": "y"
          }
         ],
         "name": "9.0"
        },
        {
         "data": [
          {
           "hovertemplate": "color=2<br>iter=10.0<br>x1=%{x}<br>x2=%{y}<br>size=%{marker.size}<extra></extra>",
           "legendgroup": "2",
           "marker": {
            "color": "#00CC96",
            "size": [
             1,
             1,
             1,
             1,
             1,
             1,
             1,
             1,
             1,
             1,
             1,
             1,
             1,
             1,
             1,
             1,
             1,
             1,
             1,
             1,
             1,
             1,
             1,
             1,
             1,
             1,
             1,
             1,
             1,
             1,
             1,
             1,
             1,
             14
            ],
            "sizemode": "area",
            "sizeref": 0.035,
            "symbol": "circle"
           },
           "mode": "markers",
           "name": "2",
           "orientation": "v",
           "showlegend": true,
           "type": "scatter",
           "x": [
            1.053743651093665,
            1.0304301793490058,
            0.8284324465227679,
            1.4377639733976832,
            1.0538682079360342,
            0.8973326996635752,
            1.1029329092328488,
            1.290230788597792,
            1.3005885399183157,
            1.1824887916898328,
            1.4623981604678626,
            0.8438600431577624,
            1.5019469785249282,
            1.335429292250568,
            1.397561337294441,
            1.8257886304564286,
            1.3379899423675572,
            1.0380466058524962,
            1.180319948573405,
            1.6137136009772184,
            1.288356486113322,
            1.3044665943227105,
            1.4456886860349747,
            1.39347242824476,
            1.0329099739001335,
            0.9685495026702903,
            1.4729264194832052,
            1.450568487333462,
            1.1665746301628006,
            1.2154976069013186,
            1.6749528709326555,
            1.4745054704955596,
            1.0455770219335092,
            1.2620882698743299
           ],
           "xaxis": "x",
           "y": [
            -1.3206754533614802,
            -1.1797079626476557,
            -1.3220857827246029,
            -1.0425553262546803,
            -1.2557399357833536,
            -1.275775295214898,
            -1.6817034920184422,
            -1.0785926766414307,
            -1.0858035937924089,
            -1.146383944609582,
            -1.0880103325885628,
            -1.0749844269818083,
            -1.1255799695507493,
            -1.2200956221252621,
            -1.129820922456182,
            -1.1209307438171014,
            -1.2831364095988411,
            -1.1646860448481802,
            -1.1684032045678212,
            -1.0816156835707929,
            -1.2784345188178132,
            -1.045238070327321,
            -1.0708186950698886,
            -0.8935909900984641,
            -0.8923621748922208,
            -1.4280534156553082,
            -1.3068458806181291,
            -1.1829918823757446,
            -0.9806904594775487,
            -1.019461818419907,
            -1.2244823779478915,
            -1.1466054777637895,
            -1.3610809273068116,
            -1.1720285912704447
           ],
           "yaxis": "y"
          },
          {
           "hovertemplate": "color=0<br>iter=10.0<br>x1=%{x}<br>x2=%{y}<br>size=%{marker.size}<extra></extra>",
           "legendgroup": "0",
           "marker": {
            "color": "#636EFA",
            "size": [
             1,
             1,
             1,
             1,
             1,
             1,
             1,
             1,
             1,
             1,
             1,
             1,
             1,
             1,
             1,
             1,
             1,
             1,
             1,
             1,
             1,
             1,
             1,
             1,
             1,
             1,
             1,
             1,
             1,
             1,
             1,
             1,
             1,
             1,
             14
            ],
            "sizemode": "area",
            "sizeref": 0.035,
            "symbol": "circle"
           },
           "mode": "markers",
           "name": "0",
           "orientation": "v",
           "showlegend": true,
           "type": "scatter",
           "x": [
            -0.24050895679992768,
            0.17648883407886076,
            0.02352142545955114,
            -0.45410426821459626,
            0.17296003882813937,
            -0.4396016600838884,
            -0.07601009326491152,
            -0.15028296586242068,
            0.18108935160553802,
            -0.5175304096471027,
            -0.3175283179690559,
            -0.06826968097196959,
            -0.27186732706771277,
            -0.37909313045624016,
            -0.21676991199641849,
            0.001346457497240279,
            0.03460376310976049,
            0.45207092184559305,
            -0.5173598917011434,
            -0.6940876447447076,
            -0.23826795503633014,
            -0.42907631169664034,
            0.2462045117191672,
            -0.4424856543444192,
            -0.010542399378280078,
            0.5176318327408969,
            -0.3862055447041447,
            -0.13802659159884517,
            -0.42750189297058566,
            -0.42858920559582336,
            0.3747039446179279,
            -0.7493290331674409,
            -0.11640650767386308,
            -0.3065336249651325,
            -0.17162817348261544
           ],
           "xaxis": "x",
           "y": [
            1.4290061475959523,
            1.3375201247969382,
            1.4863035603690706,
            1.3724536903562652,
            1.0129949936537228,
            1.214548083175785,
            1.0653970788648708,
            1.2286335739133085,
            1.032730660998333,
            1.3154350659611715,
            1.0225967022863252,
            1.340086897371031,
            1.2509489419525124,
            1.240296518869591,
            1.3314142564452838,
            1.2377781199821267,
            1.3861060008919799,
            0.8516575303562622,
            1.2340358734197037,
            1.3396825972615432,
            1.271724292177335,
            1.1983700191081372,
            1.1642190947133675,
            0.9796220752370453,
            1.1365118628229673,
            1.4984864272300988,
            1.3640541652887208,
            0.7651030005010572,
            1.1830254014058643,
            1.0254213025188765,
            1.4103860926174046,
            1.2667707342271195,
            1.4655679663276082,
            1.4159349500782485,
            1.2316124647875186
           ],
           "yaxis": "y"
          },
          {
           "hovertemplate": "color=1<br>iter=10.0<br>x1=%{x}<br>x2=%{y}<br>size=%{marker.size}<extra></extra>",
           "legendgroup": "1",
           "marker": {
            "color": "#EF553B",
            "size": [
             1,
             1,
             1,
             1,
             1,
             1,
             1,
             1,
             1,
             1,
             1,
             1,
             1,
             1,
             1,
             1,
             1,
             1,
             1,
             1,
             1,
             1,
             1,
             1,
             1,
             1,
             1,
             1,
             1,
             1,
             1,
             1,
             1,
             14
            ],
            "sizemode": "area",
            "sizeref": 0.035,
            "symbol": "circle"
           },
           "mode": "markers",
           "name": "1",
           "orientation": "v",
           "showlegend": true,
           "type": "scatter",
           "x": [
            -0.7243327381673373,
            -1.0679818087254052,
            -1.6256870494144724,
            -1.2910539660565594,
            -1.2205761562524422,
            -1.2910909409662767,
            -0.6978583531261866,
            -0.9730671491386583,
            -0.9764043642907584,
            -0.7576799941135409,
            -1.3561487435950732,
            -0.9916206852794982,
            -0.9127837876432864,
            -1.5210967238494808,
            -1.374503442775555,
            -1.2668609189462883,
            -1.2581346097240655,
            -0.8047035536678926,
            -0.9554260323557816,
            -0.6160195099190611,
            -1.3266688844483974,
            -1.250894026944287,
            -1.184511579412838,
            -1.252618920402433,
            -0.8261619027391889,
            -1.1698572865542214,
            -1.1440348595619427,
            -0.8519369044707669,
            -0.5949208082879046,
            -1.0575716220382523,
            -0.9597601268147717,
            -1.6238749780578257,
            -0.8877125797035045,
            -1.0852592426498167
           ],
           "xaxis": "x",
           "y": [
            0.08007929852707414,
            -0.44416157173066434,
            -0.26458872842809045,
            -0.14635688785254933,
            -0.13568504596757908,
            -0.2870777451297083,
            -0.1809954016340368,
            0.040113177018631326,
            -0.20119600782704528,
            -0.04791094895962166,
            -0.2608790922224402,
            0.31726808532911266,
            -0.26011459916699264,
            -0.05189168477068001,
            -0.06242811675858889,
            -0.049544499801428506,
            -0.060239745818781554,
            -0.3716849546564056,
            -0.22648234084631425,
            -0.20383987487863084,
            -0.06941479095383352,
            -0.04849418150923344,
            0.32467498501923564,
            -0.14870130725023425,
            -0.12189216618934265,
            -0.18748779485114878,
            0.06561105029748066,
            0.06716031695210577,
            -0.06553451326299983,
            -0.26294476014607304,
            -0.05886464331778313,
            -0.06080705968233393,
            0.186431259617944,
            -0.09690546335911987
           ],
           "yaxis": "y"
          }
         ],
         "name": "10.0"
        },
        {
         "data": [
          {
           "hovertemplate": "color=2<br>iter=11.0<br>x1=%{x}<br>x2=%{y}<br>size=%{marker.size}<extra></extra>",
           "legendgroup": "2",
           "marker": {
            "color": "#00CC96",
            "size": [
             1,
             1,
             1,
             1,
             1,
             1,
             1,
             1,
             1,
             1,
             1,
             1,
             1,
             1,
             1,
             1,
             1,
             1,
             1,
             1,
             1,
             1,
             1,
             1,
             1,
             1,
             1,
             1,
             1,
             1,
             1,
             1,
             1,
             14
            ],
            "sizemode": "area",
            "sizeref": 0.035,
            "symbol": "circle"
           },
           "mode": "markers",
           "name": "2",
           "orientation": "v",
           "showlegend": true,
           "type": "scatter",
           "x": [
            1.053743651093665,
            1.0304301793490058,
            0.8284324465227679,
            1.4377639733976832,
            1.0538682079360342,
            0.8973326996635752,
            1.1029329092328488,
            1.290230788597792,
            1.3005885399183157,
            1.1824887916898328,
            1.4623981604678626,
            0.8438600431577624,
            1.5019469785249282,
            1.335429292250568,
            1.397561337294441,
            1.8257886304564286,
            1.3379899423675572,
            1.0380466058524962,
            1.180319948573405,
            1.6137136009772184,
            1.288356486113322,
            1.3044665943227105,
            1.4456886860349747,
            1.39347242824476,
            1.0329099739001335,
            0.9685495026702903,
            1.4729264194832052,
            1.450568487333462,
            1.1665746301628006,
            1.2154976069013186,
            1.6749528709326555,
            1.4745054704955596,
            1.0455770219335092,
            1.2620882698743299
           ],
           "xaxis": "x",
           "y": [
            -1.3206754533614802,
            -1.1797079626476557,
            -1.3220857827246029,
            -1.0425553262546803,
            -1.2557399357833536,
            -1.275775295214898,
            -1.6817034920184422,
            -1.0785926766414307,
            -1.0858035937924089,
            -1.146383944609582,
            -1.0880103325885628,
            -1.0749844269818083,
            -1.1255799695507493,
            -1.2200956221252621,
            -1.129820922456182,
            -1.1209307438171014,
            -1.2831364095988411,
            -1.1646860448481802,
            -1.1684032045678212,
            -1.0816156835707929,
            -1.2784345188178132,
            -1.045238070327321,
            -1.0708186950698886,
            -0.8935909900984641,
            -0.8923621748922208,
            -1.4280534156553082,
            -1.3068458806181291,
            -1.1829918823757446,
            -0.9806904594775487,
            -1.019461818419907,
            -1.2244823779478915,
            -1.1466054777637895,
            -1.3610809273068116,
            -1.1720285912704447
           ],
           "yaxis": "y"
          },
          {
           "hovertemplate": "color=0<br>iter=11.0<br>x1=%{x}<br>x2=%{y}<br>size=%{marker.size}<extra></extra>",
           "legendgroup": "0",
           "marker": {
            "color": "#636EFA",
            "size": [
             1,
             1,
             1,
             1,
             1,
             1,
             1,
             1,
             1,
             1,
             1,
             1,
             1,
             1,
             1,
             1,
             1,
             1,
             1,
             1,
             1,
             1,
             1,
             1,
             1,
             1,
             1,
             1,
             1,
             1,
             1,
             1,
             1,
             1,
             14
            ],
            "sizemode": "area",
            "sizeref": 0.035,
            "symbol": "circle"
           },
           "mode": "markers",
           "name": "0",
           "orientation": "v",
           "showlegend": true,
           "type": "scatter",
           "x": [
            -0.24050895679992768,
            0.17648883407886076,
            0.02352142545955114,
            -0.45410426821459626,
            0.17296003882813937,
            -0.4396016600838884,
            -0.07601009326491152,
            -0.15028296586242068,
            0.18108935160553802,
            -0.5175304096471027,
            -0.3175283179690559,
            -0.06826968097196959,
            -0.27186732706771277,
            -0.37909313045624016,
            -0.21676991199641849,
            0.001346457497240279,
            0.03460376310976049,
            0.45207092184559305,
            -0.5173598917011434,
            -0.6940876447447076,
            -0.23826795503633014,
            -0.42907631169664034,
            0.2462045117191672,
            -0.4424856543444192,
            -0.010542399378280078,
            0.5176318327408969,
            -0.3862055447041447,
            -0.13802659159884517,
            -0.42750189297058566,
            -0.42858920559582336,
            0.3747039446179279,
            -0.7493290331674409,
            -0.11640650767386308,
            -0.3065336249651325,
            -0.17162817348261544
           ],
           "xaxis": "x",
           "y": [
            1.4290061475959523,
            1.3375201247969382,
            1.4863035603690706,
            1.3724536903562652,
            1.0129949936537228,
            1.214548083175785,
            1.0653970788648708,
            1.2286335739133085,
            1.032730660998333,
            1.3154350659611715,
            1.0225967022863252,
            1.340086897371031,
            1.2509489419525124,
            1.240296518869591,
            1.3314142564452838,
            1.2377781199821267,
            1.3861060008919799,
            0.8516575303562622,
            1.2340358734197037,
            1.3396825972615432,
            1.271724292177335,
            1.1983700191081372,
            1.1642190947133675,
            0.9796220752370453,
            1.1365118628229673,
            1.4984864272300988,
            1.3640541652887208,
            0.7651030005010572,
            1.1830254014058643,
            1.0254213025188765,
            1.4103860926174046,
            1.2667707342271195,
            1.4655679663276082,
            1.4159349500782485,
            1.2316124647875186
           ],
           "yaxis": "y"
          },
          {
           "hovertemplate": "color=1<br>iter=11.0<br>x1=%{x}<br>x2=%{y}<br>size=%{marker.size}<extra></extra>",
           "legendgroup": "1",
           "marker": {
            "color": "#EF553B",
            "size": [
             1,
             1,
             1,
             1,
             1,
             1,
             1,
             1,
             1,
             1,
             1,
             1,
             1,
             1,
             1,
             1,
             1,
             1,
             1,
             1,
             1,
             1,
             1,
             1,
             1,
             1,
             1,
             1,
             1,
             1,
             1,
             1,
             1,
             14
            ],
            "sizemode": "area",
            "sizeref": 0.035,
            "symbol": "circle"
           },
           "mode": "markers",
           "name": "1",
           "orientation": "v",
           "showlegend": true,
           "type": "scatter",
           "x": [
            -0.7243327381673373,
            -1.0679818087254052,
            -1.6256870494144724,
            -1.2910539660565594,
            -1.2205761562524422,
            -1.2910909409662767,
            -0.6978583531261866,
            -0.9730671491386583,
            -0.9764043642907584,
            -0.7576799941135409,
            -1.3561487435950732,
            -0.9916206852794982,
            -0.9127837876432864,
            -1.5210967238494808,
            -1.374503442775555,
            -1.2668609189462883,
            -1.2581346097240655,
            -0.8047035536678926,
            -0.9554260323557816,
            -0.6160195099190611,
            -1.3266688844483974,
            -1.250894026944287,
            -1.184511579412838,
            -1.252618920402433,
            -0.8261619027391889,
            -1.1698572865542214,
            -1.1440348595619427,
            -0.8519369044707669,
            -0.5949208082879046,
            -1.0575716220382523,
            -0.9597601268147717,
            -1.6238749780578257,
            -0.8877125797035045,
            -1.0852592426498167
           ],
           "xaxis": "x",
           "y": [
            0.08007929852707414,
            -0.44416157173066434,
            -0.26458872842809045,
            -0.14635688785254933,
            -0.13568504596757908,
            -0.2870777451297083,
            -0.1809954016340368,
            0.040113177018631326,
            -0.20119600782704528,
            -0.04791094895962166,
            -0.2608790922224402,
            0.31726808532911266,
            -0.26011459916699264,
            -0.05189168477068001,
            -0.06242811675858889,
            -0.049544499801428506,
            -0.060239745818781554,
            -0.3716849546564056,
            -0.22648234084631425,
            -0.20383987487863084,
            -0.06941479095383352,
            -0.04849418150923344,
            0.32467498501923564,
            -0.14870130725023425,
            -0.12189216618934265,
            -0.18748779485114878,
            0.06561105029748066,
            0.06716031695210577,
            -0.06553451326299983,
            -0.26294476014607304,
            -0.05886464331778313,
            -0.06080705968233393,
            0.186431259617944,
            -0.09690546335911987
           ],
           "yaxis": "y"
          }
         ],
         "name": "11.0"
        },
        {
         "data": [
          {
           "hovertemplate": "color=2<br>iter=12.0<br>x1=%{x}<br>x2=%{y}<br>size=%{marker.size}<extra></extra>",
           "legendgroup": "2",
           "marker": {
            "color": "#00CC96",
            "size": [
             1,
             1,
             1,
             1,
             1,
             1,
             1,
             1,
             1,
             1,
             1,
             1,
             1,
             1,
             1,
             1,
             1,
             1,
             1,
             1,
             1,
             1,
             1,
             1,
             1,
             1,
             1,
             1,
             1,
             1,
             1,
             1,
             1,
             14
            ],
            "sizemode": "area",
            "sizeref": 0.035,
            "symbol": "circle"
           },
           "mode": "markers",
           "name": "2",
           "orientation": "v",
           "showlegend": true,
           "type": "scatter",
           "x": [
            1.053743651093665,
            1.0304301793490058,
            0.8284324465227679,
            1.4377639733976832,
            1.0538682079360342,
            0.8973326996635752,
            1.1029329092328488,
            1.290230788597792,
            1.3005885399183157,
            1.1824887916898328,
            1.4623981604678626,
            0.8438600431577624,
            1.5019469785249282,
            1.335429292250568,
            1.397561337294441,
            1.8257886304564286,
            1.3379899423675572,
            1.0380466058524962,
            1.180319948573405,
            1.6137136009772184,
            1.288356486113322,
            1.3044665943227105,
            1.4456886860349747,
            1.39347242824476,
            1.0329099739001335,
            0.9685495026702903,
            1.4729264194832052,
            1.450568487333462,
            1.1665746301628006,
            1.2154976069013186,
            1.6749528709326555,
            1.4745054704955596,
            1.0455770219335092,
            1.2620882698743299
           ],
           "xaxis": "x",
           "y": [
            -1.3206754533614802,
            -1.1797079626476557,
            -1.3220857827246029,
            -1.0425553262546803,
            -1.2557399357833536,
            -1.275775295214898,
            -1.6817034920184422,
            -1.0785926766414307,
            -1.0858035937924089,
            -1.146383944609582,
            -1.0880103325885628,
            -1.0749844269818083,
            -1.1255799695507493,
            -1.2200956221252621,
            -1.129820922456182,
            -1.1209307438171014,
            -1.2831364095988411,
            -1.1646860448481802,
            -1.1684032045678212,
            -1.0816156835707929,
            -1.2784345188178132,
            -1.045238070327321,
            -1.0708186950698886,
            -0.8935909900984641,
            -0.8923621748922208,
            -1.4280534156553082,
            -1.3068458806181291,
            -1.1829918823757446,
            -0.9806904594775487,
            -1.019461818419907,
            -1.2244823779478915,
            -1.1466054777637895,
            -1.3610809273068116,
            -1.1720285912704447
           ],
           "yaxis": "y"
          },
          {
           "hovertemplate": "color=0<br>iter=12.0<br>x1=%{x}<br>x2=%{y}<br>size=%{marker.size}<extra></extra>",
           "legendgroup": "0",
           "marker": {
            "color": "#636EFA",
            "size": [
             1,
             1,
             1,
             1,
             1,
             1,
             1,
             1,
             1,
             1,
             1,
             1,
             1,
             1,
             1,
             1,
             1,
             1,
             1,
             1,
             1,
             1,
             1,
             1,
             1,
             1,
             1,
             1,
             1,
             1,
             1,
             1,
             1,
             1,
             14
            ],
            "sizemode": "area",
            "sizeref": 0.035,
            "symbol": "circle"
           },
           "mode": "markers",
           "name": "0",
           "orientation": "v",
           "showlegend": true,
           "type": "scatter",
           "x": [
            -0.24050895679992768,
            0.17648883407886076,
            0.02352142545955114,
            -0.45410426821459626,
            0.17296003882813937,
            -0.4396016600838884,
            -0.07601009326491152,
            -0.15028296586242068,
            0.18108935160553802,
            -0.5175304096471027,
            -0.3175283179690559,
            -0.06826968097196959,
            -0.27186732706771277,
            -0.37909313045624016,
            -0.21676991199641849,
            0.001346457497240279,
            0.03460376310976049,
            0.45207092184559305,
            -0.5173598917011434,
            -0.6940876447447076,
            -0.23826795503633014,
            -0.42907631169664034,
            0.2462045117191672,
            -0.4424856543444192,
            -0.010542399378280078,
            0.5176318327408969,
            -0.3862055447041447,
            -0.13802659159884517,
            -0.42750189297058566,
            -0.42858920559582336,
            0.3747039446179279,
            -0.7493290331674409,
            -0.11640650767386308,
            -0.3065336249651325,
            -0.17162817348261544
           ],
           "xaxis": "x",
           "y": [
            1.4290061475959523,
            1.3375201247969382,
            1.4863035603690706,
            1.3724536903562652,
            1.0129949936537228,
            1.214548083175785,
            1.0653970788648708,
            1.2286335739133085,
            1.032730660998333,
            1.3154350659611715,
            1.0225967022863252,
            1.340086897371031,
            1.2509489419525124,
            1.240296518869591,
            1.3314142564452838,
            1.2377781199821267,
            1.3861060008919799,
            0.8516575303562622,
            1.2340358734197037,
            1.3396825972615432,
            1.271724292177335,
            1.1983700191081372,
            1.1642190947133675,
            0.9796220752370453,
            1.1365118628229673,
            1.4984864272300988,
            1.3640541652887208,
            0.7651030005010572,
            1.1830254014058643,
            1.0254213025188765,
            1.4103860926174046,
            1.2667707342271195,
            1.4655679663276082,
            1.4159349500782485,
            1.2316124647875186
           ],
           "yaxis": "y"
          },
          {
           "hovertemplate": "color=1<br>iter=12.0<br>x1=%{x}<br>x2=%{y}<br>size=%{marker.size}<extra></extra>",
           "legendgroup": "1",
           "marker": {
            "color": "#EF553B",
            "size": [
             1,
             1,
             1,
             1,
             1,
             1,
             1,
             1,
             1,
             1,
             1,
             1,
             1,
             1,
             1,
             1,
             1,
             1,
             1,
             1,
             1,
             1,
             1,
             1,
             1,
             1,
             1,
             1,
             1,
             1,
             1,
             1,
             1,
             14
            ],
            "sizemode": "area",
            "sizeref": 0.035,
            "symbol": "circle"
           },
           "mode": "markers",
           "name": "1",
           "orientation": "v",
           "showlegend": true,
           "type": "scatter",
           "x": [
            -0.7243327381673373,
            -1.0679818087254052,
            -1.6256870494144724,
            -1.2910539660565594,
            -1.2205761562524422,
            -1.2910909409662767,
            -0.6978583531261866,
            -0.9730671491386583,
            -0.9764043642907584,
            -0.7576799941135409,
            -1.3561487435950732,
            -0.9916206852794982,
            -0.9127837876432864,
            -1.5210967238494808,
            -1.374503442775555,
            -1.2668609189462883,
            -1.2581346097240655,
            -0.8047035536678926,
            -0.9554260323557816,
            -0.6160195099190611,
            -1.3266688844483974,
            -1.250894026944287,
            -1.184511579412838,
            -1.252618920402433,
            -0.8261619027391889,
            -1.1698572865542214,
            -1.1440348595619427,
            -0.8519369044707669,
            -0.5949208082879046,
            -1.0575716220382523,
            -0.9597601268147717,
            -1.6238749780578257,
            -0.8877125797035045,
            -1.0852592426498167
           ],
           "xaxis": "x",
           "y": [
            0.08007929852707414,
            -0.44416157173066434,
            -0.26458872842809045,
            -0.14635688785254933,
            -0.13568504596757908,
            -0.2870777451297083,
            -0.1809954016340368,
            0.040113177018631326,
            -0.20119600782704528,
            -0.04791094895962166,
            -0.2608790922224402,
            0.31726808532911266,
            -0.26011459916699264,
            -0.05189168477068001,
            -0.06242811675858889,
            -0.049544499801428506,
            -0.060239745818781554,
            -0.3716849546564056,
            -0.22648234084631425,
            -0.20383987487863084,
            -0.06941479095383352,
            -0.04849418150923344,
            0.32467498501923564,
            -0.14870130725023425,
            -0.12189216618934265,
            -0.18748779485114878,
            0.06561105029748066,
            0.06716031695210577,
            -0.06553451326299983,
            -0.26294476014607304,
            -0.05886464331778313,
            -0.06080705968233393,
            0.186431259617944,
            -0.09690546335911987
           ],
           "yaxis": "y"
          }
         ],
         "name": "12.0"
        },
        {
         "data": [
          {
           "hovertemplate": "color=2<br>iter=13.0<br>x1=%{x}<br>x2=%{y}<br>size=%{marker.size}<extra></extra>",
           "legendgroup": "2",
           "marker": {
            "color": "#00CC96",
            "size": [
             1,
             1,
             1,
             1,
             1,
             1,
             1,
             1,
             1,
             1,
             1,
             1,
             1,
             1,
             1,
             1,
             1,
             1,
             1,
             1,
             1,
             1,
             1,
             1,
             1,
             1,
             1,
             1,
             1,
             1,
             1,
             1,
             1,
             14
            ],
            "sizemode": "area",
            "sizeref": 0.035,
            "symbol": "circle"
           },
           "mode": "markers",
           "name": "2",
           "orientation": "v",
           "showlegend": true,
           "type": "scatter",
           "x": [
            1.053743651093665,
            1.0304301793490058,
            0.8284324465227679,
            1.4377639733976832,
            1.0538682079360342,
            0.8973326996635752,
            1.1029329092328488,
            1.290230788597792,
            1.3005885399183157,
            1.1824887916898328,
            1.4623981604678626,
            0.8438600431577624,
            1.5019469785249282,
            1.335429292250568,
            1.397561337294441,
            1.8257886304564286,
            1.3379899423675572,
            1.0380466058524962,
            1.180319948573405,
            1.6137136009772184,
            1.288356486113322,
            1.3044665943227105,
            1.4456886860349747,
            1.39347242824476,
            1.0329099739001335,
            0.9685495026702903,
            1.4729264194832052,
            1.450568487333462,
            1.1665746301628006,
            1.2154976069013186,
            1.6749528709326555,
            1.4745054704955596,
            1.0455770219335092,
            1.2620882698743299
           ],
           "xaxis": "x",
           "y": [
            -1.3206754533614802,
            -1.1797079626476557,
            -1.3220857827246029,
            -1.0425553262546803,
            -1.2557399357833536,
            -1.275775295214898,
            -1.6817034920184422,
            -1.0785926766414307,
            -1.0858035937924089,
            -1.146383944609582,
            -1.0880103325885628,
            -1.0749844269818083,
            -1.1255799695507493,
            -1.2200956221252621,
            -1.129820922456182,
            -1.1209307438171014,
            -1.2831364095988411,
            -1.1646860448481802,
            -1.1684032045678212,
            -1.0816156835707929,
            -1.2784345188178132,
            -1.045238070327321,
            -1.0708186950698886,
            -0.8935909900984641,
            -0.8923621748922208,
            -1.4280534156553082,
            -1.3068458806181291,
            -1.1829918823757446,
            -0.9806904594775487,
            -1.019461818419907,
            -1.2244823779478915,
            -1.1466054777637895,
            -1.3610809273068116,
            -1.1720285912704447
           ],
           "yaxis": "y"
          },
          {
           "hovertemplate": "color=0<br>iter=13.0<br>x1=%{x}<br>x2=%{y}<br>size=%{marker.size}<extra></extra>",
           "legendgroup": "0",
           "marker": {
            "color": "#636EFA",
            "size": [
             1,
             1,
             1,
             1,
             1,
             1,
             1,
             1,
             1,
             1,
             1,
             1,
             1,
             1,
             1,
             1,
             1,
             1,
             1,
             1,
             1,
             1,
             1,
             1,
             1,
             1,
             1,
             1,
             1,
             1,
             1,
             1,
             1,
             1,
             14
            ],
            "sizemode": "area",
            "sizeref": 0.035,
            "symbol": "circle"
           },
           "mode": "markers",
           "name": "0",
           "orientation": "v",
           "showlegend": true,
           "type": "scatter",
           "x": [
            -0.24050895679992768,
            0.17648883407886076,
            0.02352142545955114,
            -0.45410426821459626,
            0.17296003882813937,
            -0.4396016600838884,
            -0.07601009326491152,
            -0.15028296586242068,
            0.18108935160553802,
            -0.5175304096471027,
            -0.3175283179690559,
            -0.06826968097196959,
            -0.27186732706771277,
            -0.37909313045624016,
            -0.21676991199641849,
            0.001346457497240279,
            0.03460376310976049,
            0.45207092184559305,
            -0.5173598917011434,
            -0.6940876447447076,
            -0.23826795503633014,
            -0.42907631169664034,
            0.2462045117191672,
            -0.4424856543444192,
            -0.010542399378280078,
            0.5176318327408969,
            -0.3862055447041447,
            -0.13802659159884517,
            -0.42750189297058566,
            -0.42858920559582336,
            0.3747039446179279,
            -0.7493290331674409,
            -0.11640650767386308,
            -0.3065336249651325,
            -0.17162817348261544
           ],
           "xaxis": "x",
           "y": [
            1.4290061475959523,
            1.3375201247969382,
            1.4863035603690706,
            1.3724536903562652,
            1.0129949936537228,
            1.214548083175785,
            1.0653970788648708,
            1.2286335739133085,
            1.032730660998333,
            1.3154350659611715,
            1.0225967022863252,
            1.340086897371031,
            1.2509489419525124,
            1.240296518869591,
            1.3314142564452838,
            1.2377781199821267,
            1.3861060008919799,
            0.8516575303562622,
            1.2340358734197037,
            1.3396825972615432,
            1.271724292177335,
            1.1983700191081372,
            1.1642190947133675,
            0.9796220752370453,
            1.1365118628229673,
            1.4984864272300988,
            1.3640541652887208,
            0.7651030005010572,
            1.1830254014058643,
            1.0254213025188765,
            1.4103860926174046,
            1.2667707342271195,
            1.4655679663276082,
            1.4159349500782485,
            1.2316124647875186
           ],
           "yaxis": "y"
          },
          {
           "hovertemplate": "color=1<br>iter=13.0<br>x1=%{x}<br>x2=%{y}<br>size=%{marker.size}<extra></extra>",
           "legendgroup": "1",
           "marker": {
            "color": "#EF553B",
            "size": [
             1,
             1,
             1,
             1,
             1,
             1,
             1,
             1,
             1,
             1,
             1,
             1,
             1,
             1,
             1,
             1,
             1,
             1,
             1,
             1,
             1,
             1,
             1,
             1,
             1,
             1,
             1,
             1,
             1,
             1,
             1,
             1,
             1,
             14
            ],
            "sizemode": "area",
            "sizeref": 0.035,
            "symbol": "circle"
           },
           "mode": "markers",
           "name": "1",
           "orientation": "v",
           "showlegend": true,
           "type": "scatter",
           "x": [
            -0.7243327381673373,
            -1.0679818087254052,
            -1.6256870494144724,
            -1.2910539660565594,
            -1.2205761562524422,
            -1.2910909409662767,
            -0.6978583531261866,
            -0.9730671491386583,
            -0.9764043642907584,
            -0.7576799941135409,
            -1.3561487435950732,
            -0.9916206852794982,
            -0.9127837876432864,
            -1.5210967238494808,
            -1.374503442775555,
            -1.2668609189462883,
            -1.2581346097240655,
            -0.8047035536678926,
            -0.9554260323557816,
            -0.6160195099190611,
            -1.3266688844483974,
            -1.250894026944287,
            -1.184511579412838,
            -1.252618920402433,
            -0.8261619027391889,
            -1.1698572865542214,
            -1.1440348595619427,
            -0.8519369044707669,
            -0.5949208082879046,
            -1.0575716220382523,
            -0.9597601268147717,
            -1.6238749780578257,
            -0.8877125797035045,
            -1.0852592426498167
           ],
           "xaxis": "x",
           "y": [
            0.08007929852707414,
            -0.44416157173066434,
            -0.26458872842809045,
            -0.14635688785254933,
            -0.13568504596757908,
            -0.2870777451297083,
            -0.1809954016340368,
            0.040113177018631326,
            -0.20119600782704528,
            -0.04791094895962166,
            -0.2608790922224402,
            0.31726808532911266,
            -0.26011459916699264,
            -0.05189168477068001,
            -0.06242811675858889,
            -0.049544499801428506,
            -0.060239745818781554,
            -0.3716849546564056,
            -0.22648234084631425,
            -0.20383987487863084,
            -0.06941479095383352,
            -0.04849418150923344,
            0.32467498501923564,
            -0.14870130725023425,
            -0.12189216618934265,
            -0.18748779485114878,
            0.06561105029748066,
            0.06716031695210577,
            -0.06553451326299983,
            -0.26294476014607304,
            -0.05886464331778313,
            -0.06080705968233393,
            0.186431259617944,
            -0.09690546335911987
           ],
           "yaxis": "y"
          }
         ],
         "name": "13.0"
        },
        {
         "data": [
          {
           "hovertemplate": "color=2<br>iter=14.0<br>x1=%{x}<br>x2=%{y}<br>size=%{marker.size}<extra></extra>",
           "legendgroup": "2",
           "marker": {
            "color": "#00CC96",
            "size": [
             1,
             1,
             1,
             1,
             1,
             1,
             1,
             1,
             1,
             1,
             1,
             1,
             1,
             1,
             1,
             1,
             1,
             1,
             1,
             1,
             1,
             1,
             1,
             1,
             1,
             1,
             1,
             1,
             1,
             1,
             1,
             1,
             1,
             14
            ],
            "sizemode": "area",
            "sizeref": 0.035,
            "symbol": "circle"
           },
           "mode": "markers",
           "name": "2",
           "orientation": "v",
           "showlegend": true,
           "type": "scatter",
           "x": [
            1.053743651093665,
            1.0304301793490058,
            0.8284324465227679,
            1.4377639733976832,
            1.0538682079360342,
            0.8973326996635752,
            1.1029329092328488,
            1.290230788597792,
            1.3005885399183157,
            1.1824887916898328,
            1.4623981604678626,
            0.8438600431577624,
            1.5019469785249282,
            1.335429292250568,
            1.397561337294441,
            1.8257886304564286,
            1.3379899423675572,
            1.0380466058524962,
            1.180319948573405,
            1.6137136009772184,
            1.288356486113322,
            1.3044665943227105,
            1.4456886860349747,
            1.39347242824476,
            1.0329099739001335,
            0.9685495026702903,
            1.4729264194832052,
            1.450568487333462,
            1.1665746301628006,
            1.2154976069013186,
            1.6749528709326555,
            1.4745054704955596,
            1.0455770219335092,
            1.2620882698743299
           ],
           "xaxis": "x",
           "y": [
            -1.3206754533614802,
            -1.1797079626476557,
            -1.3220857827246029,
            -1.0425553262546803,
            -1.2557399357833536,
            -1.275775295214898,
            -1.6817034920184422,
            -1.0785926766414307,
            -1.0858035937924089,
            -1.146383944609582,
            -1.0880103325885628,
            -1.0749844269818083,
            -1.1255799695507493,
            -1.2200956221252621,
            -1.129820922456182,
            -1.1209307438171014,
            -1.2831364095988411,
            -1.1646860448481802,
            -1.1684032045678212,
            -1.0816156835707929,
            -1.2784345188178132,
            -1.045238070327321,
            -1.0708186950698886,
            -0.8935909900984641,
            -0.8923621748922208,
            -1.4280534156553082,
            -1.3068458806181291,
            -1.1829918823757446,
            -0.9806904594775487,
            -1.019461818419907,
            -1.2244823779478915,
            -1.1466054777637895,
            -1.3610809273068116,
            -1.1720285912704447
           ],
           "yaxis": "y"
          },
          {
           "hovertemplate": "color=0<br>iter=14.0<br>x1=%{x}<br>x2=%{y}<br>size=%{marker.size}<extra></extra>",
           "legendgroup": "0",
           "marker": {
            "color": "#636EFA",
            "size": [
             1,
             1,
             1,
             1,
             1,
             1,
             1,
             1,
             1,
             1,
             1,
             1,
             1,
             1,
             1,
             1,
             1,
             1,
             1,
             1,
             1,
             1,
             1,
             1,
             1,
             1,
             1,
             1,
             1,
             1,
             1,
             1,
             1,
             1,
             14
            ],
            "sizemode": "area",
            "sizeref": 0.035,
            "symbol": "circle"
           },
           "mode": "markers",
           "name": "0",
           "orientation": "v",
           "showlegend": true,
           "type": "scatter",
           "x": [
            -0.24050895679992768,
            0.17648883407886076,
            0.02352142545955114,
            -0.45410426821459626,
            0.17296003882813937,
            -0.4396016600838884,
            -0.07601009326491152,
            -0.15028296586242068,
            0.18108935160553802,
            -0.5175304096471027,
            -0.3175283179690559,
            -0.06826968097196959,
            -0.27186732706771277,
            -0.37909313045624016,
            -0.21676991199641849,
            0.001346457497240279,
            0.03460376310976049,
            0.45207092184559305,
            -0.5173598917011434,
            -0.6940876447447076,
            -0.23826795503633014,
            -0.42907631169664034,
            0.2462045117191672,
            -0.4424856543444192,
            -0.010542399378280078,
            0.5176318327408969,
            -0.3862055447041447,
            -0.13802659159884517,
            -0.42750189297058566,
            -0.42858920559582336,
            0.3747039446179279,
            -0.7493290331674409,
            -0.11640650767386308,
            -0.3065336249651325,
            -0.17162817348261544
           ],
           "xaxis": "x",
           "y": [
            1.4290061475959523,
            1.3375201247969382,
            1.4863035603690706,
            1.3724536903562652,
            1.0129949936537228,
            1.214548083175785,
            1.0653970788648708,
            1.2286335739133085,
            1.032730660998333,
            1.3154350659611715,
            1.0225967022863252,
            1.340086897371031,
            1.2509489419525124,
            1.240296518869591,
            1.3314142564452838,
            1.2377781199821267,
            1.3861060008919799,
            0.8516575303562622,
            1.2340358734197037,
            1.3396825972615432,
            1.271724292177335,
            1.1983700191081372,
            1.1642190947133675,
            0.9796220752370453,
            1.1365118628229673,
            1.4984864272300988,
            1.3640541652887208,
            0.7651030005010572,
            1.1830254014058643,
            1.0254213025188765,
            1.4103860926174046,
            1.2667707342271195,
            1.4655679663276082,
            1.4159349500782485,
            1.2316124647875186
           ],
           "yaxis": "y"
          },
          {
           "hovertemplate": "color=1<br>iter=14.0<br>x1=%{x}<br>x2=%{y}<br>size=%{marker.size}<extra></extra>",
           "legendgroup": "1",
           "marker": {
            "color": "#EF553B",
            "size": [
             1,
             1,
             1,
             1,
             1,
             1,
             1,
             1,
             1,
             1,
             1,
             1,
             1,
             1,
             1,
             1,
             1,
             1,
             1,
             1,
             1,
             1,
             1,
             1,
             1,
             1,
             1,
             1,
             1,
             1,
             1,
             1,
             1,
             14
            ],
            "sizemode": "area",
            "sizeref": 0.035,
            "symbol": "circle"
           },
           "mode": "markers",
           "name": "1",
           "orientation": "v",
           "showlegend": true,
           "type": "scatter",
           "x": [
            -0.7243327381673373,
            -1.0679818087254052,
            -1.6256870494144724,
            -1.2910539660565594,
            -1.2205761562524422,
            -1.2910909409662767,
            -0.6978583531261866,
            -0.9730671491386583,
            -0.9764043642907584,
            -0.7576799941135409,
            -1.3561487435950732,
            -0.9916206852794982,
            -0.9127837876432864,
            -1.5210967238494808,
            -1.374503442775555,
            -1.2668609189462883,
            -1.2581346097240655,
            -0.8047035536678926,
            -0.9554260323557816,
            -0.6160195099190611,
            -1.3266688844483974,
            -1.250894026944287,
            -1.184511579412838,
            -1.252618920402433,
            -0.8261619027391889,
            -1.1698572865542214,
            -1.1440348595619427,
            -0.8519369044707669,
            -0.5949208082879046,
            -1.0575716220382523,
            -0.9597601268147717,
            -1.6238749780578257,
            -0.8877125797035045,
            -1.0852592426498167
           ],
           "xaxis": "x",
           "y": [
            0.08007929852707414,
            -0.44416157173066434,
            -0.26458872842809045,
            -0.14635688785254933,
            -0.13568504596757908,
            -0.2870777451297083,
            -0.1809954016340368,
            0.040113177018631326,
            -0.20119600782704528,
            -0.04791094895962166,
            -0.2608790922224402,
            0.31726808532911266,
            -0.26011459916699264,
            -0.05189168477068001,
            -0.06242811675858889,
            -0.049544499801428506,
            -0.060239745818781554,
            -0.3716849546564056,
            -0.22648234084631425,
            -0.20383987487863084,
            -0.06941479095383352,
            -0.04849418150923344,
            0.32467498501923564,
            -0.14870130725023425,
            -0.12189216618934265,
            -0.18748779485114878,
            0.06561105029748066,
            0.06716031695210577,
            -0.06553451326299983,
            -0.26294476014607304,
            -0.05886464331778313,
            -0.06080705968233393,
            0.186431259617944,
            -0.09690546335911987
           ],
           "yaxis": "y"
          }
         ],
         "name": "14.0"
        },
        {
         "data": [
          {
           "hovertemplate": "color=2<br>iter=15.0<br>x1=%{x}<br>x2=%{y}<br>size=%{marker.size}<extra></extra>",
           "legendgroup": "2",
           "marker": {
            "color": "#00CC96",
            "size": [
             1,
             1,
             1,
             1,
             1,
             1,
             1,
             1,
             1,
             1,
             1,
             1,
             1,
             1,
             1,
             1,
             1,
             1,
             1,
             1,
             1,
             1,
             1,
             1,
             1,
             1,
             1,
             1,
             1,
             1,
             1,
             1,
             1,
             14
            ],
            "sizemode": "area",
            "sizeref": 0.035,
            "symbol": "circle"
           },
           "mode": "markers",
           "name": "2",
           "orientation": "v",
           "showlegend": true,
           "type": "scatter",
           "x": [
            1.053743651093665,
            1.0304301793490058,
            0.8284324465227679,
            1.4377639733976832,
            1.0538682079360342,
            0.8973326996635752,
            1.1029329092328488,
            1.290230788597792,
            1.3005885399183157,
            1.1824887916898328,
            1.4623981604678626,
            0.8438600431577624,
            1.5019469785249282,
            1.335429292250568,
            1.397561337294441,
            1.8257886304564286,
            1.3379899423675572,
            1.0380466058524962,
            1.180319948573405,
            1.6137136009772184,
            1.288356486113322,
            1.3044665943227105,
            1.4456886860349747,
            1.39347242824476,
            1.0329099739001335,
            0.9685495026702903,
            1.4729264194832052,
            1.450568487333462,
            1.1665746301628006,
            1.2154976069013186,
            1.6749528709326555,
            1.4745054704955596,
            1.0455770219335092,
            1.2620882698743299
           ],
           "xaxis": "x",
           "y": [
            -1.3206754533614802,
            -1.1797079626476557,
            -1.3220857827246029,
            -1.0425553262546803,
            -1.2557399357833536,
            -1.275775295214898,
            -1.6817034920184422,
            -1.0785926766414307,
            -1.0858035937924089,
            -1.146383944609582,
            -1.0880103325885628,
            -1.0749844269818083,
            -1.1255799695507493,
            -1.2200956221252621,
            -1.129820922456182,
            -1.1209307438171014,
            -1.2831364095988411,
            -1.1646860448481802,
            -1.1684032045678212,
            -1.0816156835707929,
            -1.2784345188178132,
            -1.045238070327321,
            -1.0708186950698886,
            -0.8935909900984641,
            -0.8923621748922208,
            -1.4280534156553082,
            -1.3068458806181291,
            -1.1829918823757446,
            -0.9806904594775487,
            -1.019461818419907,
            -1.2244823779478915,
            -1.1466054777637895,
            -1.3610809273068116,
            -1.1720285912704447
           ],
           "yaxis": "y"
          },
          {
           "hovertemplate": "color=0<br>iter=15.0<br>x1=%{x}<br>x2=%{y}<br>size=%{marker.size}<extra></extra>",
           "legendgroup": "0",
           "marker": {
            "color": "#636EFA",
            "size": [
             1,
             1,
             1,
             1,
             1,
             1,
             1,
             1,
             1,
             1,
             1,
             1,
             1,
             1,
             1,
             1,
             1,
             1,
             1,
             1,
             1,
             1,
             1,
             1,
             1,
             1,
             1,
             1,
             1,
             1,
             1,
             1,
             1,
             1,
             14
            ],
            "sizemode": "area",
            "sizeref": 0.035,
            "symbol": "circle"
           },
           "mode": "markers",
           "name": "0",
           "orientation": "v",
           "showlegend": true,
           "type": "scatter",
           "x": [
            -0.24050895679992768,
            0.17648883407886076,
            0.02352142545955114,
            -0.45410426821459626,
            0.17296003882813937,
            -0.4396016600838884,
            -0.07601009326491152,
            -0.15028296586242068,
            0.18108935160553802,
            -0.5175304096471027,
            -0.3175283179690559,
            -0.06826968097196959,
            -0.27186732706771277,
            -0.37909313045624016,
            -0.21676991199641849,
            0.001346457497240279,
            0.03460376310976049,
            0.45207092184559305,
            -0.5173598917011434,
            -0.6940876447447076,
            -0.23826795503633014,
            -0.42907631169664034,
            0.2462045117191672,
            -0.4424856543444192,
            -0.010542399378280078,
            0.5176318327408969,
            -0.3862055447041447,
            -0.13802659159884517,
            -0.42750189297058566,
            -0.42858920559582336,
            0.3747039446179279,
            -0.7493290331674409,
            -0.11640650767386308,
            -0.3065336249651325,
            -0.17162817348261544
           ],
           "xaxis": "x",
           "y": [
            1.4290061475959523,
            1.3375201247969382,
            1.4863035603690706,
            1.3724536903562652,
            1.0129949936537228,
            1.214548083175785,
            1.0653970788648708,
            1.2286335739133085,
            1.032730660998333,
            1.3154350659611715,
            1.0225967022863252,
            1.340086897371031,
            1.2509489419525124,
            1.240296518869591,
            1.3314142564452838,
            1.2377781199821267,
            1.3861060008919799,
            0.8516575303562622,
            1.2340358734197037,
            1.3396825972615432,
            1.271724292177335,
            1.1983700191081372,
            1.1642190947133675,
            0.9796220752370453,
            1.1365118628229673,
            1.4984864272300988,
            1.3640541652887208,
            0.7651030005010572,
            1.1830254014058643,
            1.0254213025188765,
            1.4103860926174046,
            1.2667707342271195,
            1.4655679663276082,
            1.4159349500782485,
            1.2316124647875186
           ],
           "yaxis": "y"
          },
          {
           "hovertemplate": "color=1<br>iter=15.0<br>x1=%{x}<br>x2=%{y}<br>size=%{marker.size}<extra></extra>",
           "legendgroup": "1",
           "marker": {
            "color": "#EF553B",
            "size": [
             1,
             1,
             1,
             1,
             1,
             1,
             1,
             1,
             1,
             1,
             1,
             1,
             1,
             1,
             1,
             1,
             1,
             1,
             1,
             1,
             1,
             1,
             1,
             1,
             1,
             1,
             1,
             1,
             1,
             1,
             1,
             1,
             1,
             14
            ],
            "sizemode": "area",
            "sizeref": 0.035,
            "symbol": "circle"
           },
           "mode": "markers",
           "name": "1",
           "orientation": "v",
           "showlegend": true,
           "type": "scatter",
           "x": [
            -0.7243327381673373,
            -1.0679818087254052,
            -1.6256870494144724,
            -1.2910539660565594,
            -1.2205761562524422,
            -1.2910909409662767,
            -0.6978583531261866,
            -0.9730671491386583,
            -0.9764043642907584,
            -0.7576799941135409,
            -1.3561487435950732,
            -0.9916206852794982,
            -0.9127837876432864,
            -1.5210967238494808,
            -1.374503442775555,
            -1.2668609189462883,
            -1.2581346097240655,
            -0.8047035536678926,
            -0.9554260323557816,
            -0.6160195099190611,
            -1.3266688844483974,
            -1.250894026944287,
            -1.184511579412838,
            -1.252618920402433,
            -0.8261619027391889,
            -1.1698572865542214,
            -1.1440348595619427,
            -0.8519369044707669,
            -0.5949208082879046,
            -1.0575716220382523,
            -0.9597601268147717,
            -1.6238749780578257,
            -0.8877125797035045,
            -1.0852592426498167
           ],
           "xaxis": "x",
           "y": [
            0.08007929852707414,
            -0.44416157173066434,
            -0.26458872842809045,
            -0.14635688785254933,
            -0.13568504596757908,
            -0.2870777451297083,
            -0.1809954016340368,
            0.040113177018631326,
            -0.20119600782704528,
            -0.04791094895962166,
            -0.2608790922224402,
            0.31726808532911266,
            -0.26011459916699264,
            -0.05189168477068001,
            -0.06242811675858889,
            -0.049544499801428506,
            -0.060239745818781554,
            -0.3716849546564056,
            -0.22648234084631425,
            -0.20383987487863084,
            -0.06941479095383352,
            -0.04849418150923344,
            0.32467498501923564,
            -0.14870130725023425,
            -0.12189216618934265,
            -0.18748779485114878,
            0.06561105029748066,
            0.06716031695210577,
            -0.06553451326299983,
            -0.26294476014607304,
            -0.05886464331778313,
            -0.06080705968233393,
            0.186431259617944,
            -0.09690546335911987
           ],
           "yaxis": "y"
          }
         ],
         "name": "15.0"
        },
        {
         "data": [
          {
           "hovertemplate": "color=2<br>iter=16.0<br>x1=%{x}<br>x2=%{y}<br>size=%{marker.size}<extra></extra>",
           "legendgroup": "2",
           "marker": {
            "color": "#00CC96",
            "size": [
             1,
             1,
             1,
             1,
             1,
             1,
             1,
             1,
             1,
             1,
             1,
             1,
             1,
             1,
             1,
             1,
             1,
             1,
             1,
             1,
             1,
             1,
             1,
             1,
             1,
             1,
             1,
             1,
             1,
             1,
             1,
             1,
             1,
             14
            ],
            "sizemode": "area",
            "sizeref": 0.035,
            "symbol": "circle"
           },
           "mode": "markers",
           "name": "2",
           "orientation": "v",
           "showlegend": true,
           "type": "scatter",
           "x": [
            1.053743651093665,
            1.0304301793490058,
            0.8284324465227679,
            1.4377639733976832,
            1.0538682079360342,
            0.8973326996635752,
            1.1029329092328488,
            1.290230788597792,
            1.3005885399183157,
            1.1824887916898328,
            1.4623981604678626,
            0.8438600431577624,
            1.5019469785249282,
            1.335429292250568,
            1.397561337294441,
            1.8257886304564286,
            1.3379899423675572,
            1.0380466058524962,
            1.180319948573405,
            1.6137136009772184,
            1.288356486113322,
            1.3044665943227105,
            1.4456886860349747,
            1.39347242824476,
            1.0329099739001335,
            0.9685495026702903,
            1.4729264194832052,
            1.450568487333462,
            1.1665746301628006,
            1.2154976069013186,
            1.6749528709326555,
            1.4745054704955596,
            1.0455770219335092,
            1.2620882698743299
           ],
           "xaxis": "x",
           "y": [
            -1.3206754533614802,
            -1.1797079626476557,
            -1.3220857827246029,
            -1.0425553262546803,
            -1.2557399357833536,
            -1.275775295214898,
            -1.6817034920184422,
            -1.0785926766414307,
            -1.0858035937924089,
            -1.146383944609582,
            -1.0880103325885628,
            -1.0749844269818083,
            -1.1255799695507493,
            -1.2200956221252621,
            -1.129820922456182,
            -1.1209307438171014,
            -1.2831364095988411,
            -1.1646860448481802,
            -1.1684032045678212,
            -1.0816156835707929,
            -1.2784345188178132,
            -1.045238070327321,
            -1.0708186950698886,
            -0.8935909900984641,
            -0.8923621748922208,
            -1.4280534156553082,
            -1.3068458806181291,
            -1.1829918823757446,
            -0.9806904594775487,
            -1.019461818419907,
            -1.2244823779478915,
            -1.1466054777637895,
            -1.3610809273068116,
            -1.1720285912704447
           ],
           "yaxis": "y"
          },
          {
           "hovertemplate": "color=0<br>iter=16.0<br>x1=%{x}<br>x2=%{y}<br>size=%{marker.size}<extra></extra>",
           "legendgroup": "0",
           "marker": {
            "color": "#636EFA",
            "size": [
             1,
             1,
             1,
             1,
             1,
             1,
             1,
             1,
             1,
             1,
             1,
             1,
             1,
             1,
             1,
             1,
             1,
             1,
             1,
             1,
             1,
             1,
             1,
             1,
             1,
             1,
             1,
             1,
             1,
             1,
             1,
             1,
             1,
             1,
             14
            ],
            "sizemode": "area",
            "sizeref": 0.035,
            "symbol": "circle"
           },
           "mode": "markers",
           "name": "0",
           "orientation": "v",
           "showlegend": true,
           "type": "scatter",
           "x": [
            -0.24050895679992768,
            0.17648883407886076,
            0.02352142545955114,
            -0.45410426821459626,
            0.17296003882813937,
            -0.4396016600838884,
            -0.07601009326491152,
            -0.15028296586242068,
            0.18108935160553802,
            -0.5175304096471027,
            -0.3175283179690559,
            -0.06826968097196959,
            -0.27186732706771277,
            -0.37909313045624016,
            -0.21676991199641849,
            0.001346457497240279,
            0.03460376310976049,
            0.45207092184559305,
            -0.5173598917011434,
            -0.6940876447447076,
            -0.23826795503633014,
            -0.42907631169664034,
            0.2462045117191672,
            -0.4424856543444192,
            -0.010542399378280078,
            0.5176318327408969,
            -0.3862055447041447,
            -0.13802659159884517,
            -0.42750189297058566,
            -0.42858920559582336,
            0.3747039446179279,
            -0.7493290331674409,
            -0.11640650767386308,
            -0.3065336249651325,
            -0.17162817348261544
           ],
           "xaxis": "x",
           "y": [
            1.4290061475959523,
            1.3375201247969382,
            1.4863035603690706,
            1.3724536903562652,
            1.0129949936537228,
            1.214548083175785,
            1.0653970788648708,
            1.2286335739133085,
            1.032730660998333,
            1.3154350659611715,
            1.0225967022863252,
            1.340086897371031,
            1.2509489419525124,
            1.240296518869591,
            1.3314142564452838,
            1.2377781199821267,
            1.3861060008919799,
            0.8516575303562622,
            1.2340358734197037,
            1.3396825972615432,
            1.271724292177335,
            1.1983700191081372,
            1.1642190947133675,
            0.9796220752370453,
            1.1365118628229673,
            1.4984864272300988,
            1.3640541652887208,
            0.7651030005010572,
            1.1830254014058643,
            1.0254213025188765,
            1.4103860926174046,
            1.2667707342271195,
            1.4655679663276082,
            1.4159349500782485,
            1.2316124647875186
           ],
           "yaxis": "y"
          },
          {
           "hovertemplate": "color=1<br>iter=16.0<br>x1=%{x}<br>x2=%{y}<br>size=%{marker.size}<extra></extra>",
           "legendgroup": "1",
           "marker": {
            "color": "#EF553B",
            "size": [
             1,
             1,
             1,
             1,
             1,
             1,
             1,
             1,
             1,
             1,
             1,
             1,
             1,
             1,
             1,
             1,
             1,
             1,
             1,
             1,
             1,
             1,
             1,
             1,
             1,
             1,
             1,
             1,
             1,
             1,
             1,
             1,
             1,
             14
            ],
            "sizemode": "area",
            "sizeref": 0.035,
            "symbol": "circle"
           },
           "mode": "markers",
           "name": "1",
           "orientation": "v",
           "showlegend": true,
           "type": "scatter",
           "x": [
            -0.7243327381673373,
            -1.0679818087254052,
            -1.6256870494144724,
            -1.2910539660565594,
            -1.2205761562524422,
            -1.2910909409662767,
            -0.6978583531261866,
            -0.9730671491386583,
            -0.9764043642907584,
            -0.7576799941135409,
            -1.3561487435950732,
            -0.9916206852794982,
            -0.9127837876432864,
            -1.5210967238494808,
            -1.374503442775555,
            -1.2668609189462883,
            -1.2581346097240655,
            -0.8047035536678926,
            -0.9554260323557816,
            -0.6160195099190611,
            -1.3266688844483974,
            -1.250894026944287,
            -1.184511579412838,
            -1.252618920402433,
            -0.8261619027391889,
            -1.1698572865542214,
            -1.1440348595619427,
            -0.8519369044707669,
            -0.5949208082879046,
            -1.0575716220382523,
            -0.9597601268147717,
            -1.6238749780578257,
            -0.8877125797035045,
            -1.0852592426498167
           ],
           "xaxis": "x",
           "y": [
            0.08007929852707414,
            -0.44416157173066434,
            -0.26458872842809045,
            -0.14635688785254933,
            -0.13568504596757908,
            -0.2870777451297083,
            -0.1809954016340368,
            0.040113177018631326,
            -0.20119600782704528,
            -0.04791094895962166,
            -0.2608790922224402,
            0.31726808532911266,
            -0.26011459916699264,
            -0.05189168477068001,
            -0.06242811675858889,
            -0.049544499801428506,
            -0.060239745818781554,
            -0.3716849546564056,
            -0.22648234084631425,
            -0.20383987487863084,
            -0.06941479095383352,
            -0.04849418150923344,
            0.32467498501923564,
            -0.14870130725023425,
            -0.12189216618934265,
            -0.18748779485114878,
            0.06561105029748066,
            0.06716031695210577,
            -0.06553451326299983,
            -0.26294476014607304,
            -0.05886464331778313,
            -0.06080705968233393,
            0.186431259617944,
            -0.09690546335911987
           ],
           "yaxis": "y"
          }
         ],
         "name": "16.0"
        },
        {
         "data": [
          {
           "hovertemplate": "color=2<br>iter=17.0<br>x1=%{x}<br>x2=%{y}<br>size=%{marker.size}<extra></extra>",
           "legendgroup": "2",
           "marker": {
            "color": "#00CC96",
            "size": [
             1,
             1,
             1,
             1,
             1,
             1,
             1,
             1,
             1,
             1,
             1,
             1,
             1,
             1,
             1,
             1,
             1,
             1,
             1,
             1,
             1,
             1,
             1,
             1,
             1,
             1,
             1,
             1,
             1,
             1,
             1,
             1,
             1,
             14
            ],
            "sizemode": "area",
            "sizeref": 0.035,
            "symbol": "circle"
           },
           "mode": "markers",
           "name": "2",
           "orientation": "v",
           "showlegend": true,
           "type": "scatter",
           "x": [
            1.053743651093665,
            1.0304301793490058,
            0.8284324465227679,
            1.4377639733976832,
            1.0538682079360342,
            0.8973326996635752,
            1.1029329092328488,
            1.290230788597792,
            1.3005885399183157,
            1.1824887916898328,
            1.4623981604678626,
            0.8438600431577624,
            1.5019469785249282,
            1.335429292250568,
            1.397561337294441,
            1.8257886304564286,
            1.3379899423675572,
            1.0380466058524962,
            1.180319948573405,
            1.6137136009772184,
            1.288356486113322,
            1.3044665943227105,
            1.4456886860349747,
            1.39347242824476,
            1.0329099739001335,
            0.9685495026702903,
            1.4729264194832052,
            1.450568487333462,
            1.1665746301628006,
            1.2154976069013186,
            1.6749528709326555,
            1.4745054704955596,
            1.0455770219335092,
            1.2620882698743299
           ],
           "xaxis": "x",
           "y": [
            -1.3206754533614802,
            -1.1797079626476557,
            -1.3220857827246029,
            -1.0425553262546803,
            -1.2557399357833536,
            -1.275775295214898,
            -1.6817034920184422,
            -1.0785926766414307,
            -1.0858035937924089,
            -1.146383944609582,
            -1.0880103325885628,
            -1.0749844269818083,
            -1.1255799695507493,
            -1.2200956221252621,
            -1.129820922456182,
            -1.1209307438171014,
            -1.2831364095988411,
            -1.1646860448481802,
            -1.1684032045678212,
            -1.0816156835707929,
            -1.2784345188178132,
            -1.045238070327321,
            -1.0708186950698886,
            -0.8935909900984641,
            -0.8923621748922208,
            -1.4280534156553082,
            -1.3068458806181291,
            -1.1829918823757446,
            -0.9806904594775487,
            -1.019461818419907,
            -1.2244823779478915,
            -1.1466054777637895,
            -1.3610809273068116,
            -1.1720285912704447
           ],
           "yaxis": "y"
          },
          {
           "hovertemplate": "color=0<br>iter=17.0<br>x1=%{x}<br>x2=%{y}<br>size=%{marker.size}<extra></extra>",
           "legendgroup": "0",
           "marker": {
            "color": "#636EFA",
            "size": [
             1,
             1,
             1,
             1,
             1,
             1,
             1,
             1,
             1,
             1,
             1,
             1,
             1,
             1,
             1,
             1,
             1,
             1,
             1,
             1,
             1,
             1,
             1,
             1,
             1,
             1,
             1,
             1,
             1,
             1,
             1,
             1,
             1,
             1,
             14
            ],
            "sizemode": "area",
            "sizeref": 0.035,
            "symbol": "circle"
           },
           "mode": "markers",
           "name": "0",
           "orientation": "v",
           "showlegend": true,
           "type": "scatter",
           "x": [
            -0.24050895679992768,
            0.17648883407886076,
            0.02352142545955114,
            -0.45410426821459626,
            0.17296003882813937,
            -0.4396016600838884,
            -0.07601009326491152,
            -0.15028296586242068,
            0.18108935160553802,
            -0.5175304096471027,
            -0.3175283179690559,
            -0.06826968097196959,
            -0.27186732706771277,
            -0.37909313045624016,
            -0.21676991199641849,
            0.001346457497240279,
            0.03460376310976049,
            0.45207092184559305,
            -0.5173598917011434,
            -0.6940876447447076,
            -0.23826795503633014,
            -0.42907631169664034,
            0.2462045117191672,
            -0.4424856543444192,
            -0.010542399378280078,
            0.5176318327408969,
            -0.3862055447041447,
            -0.13802659159884517,
            -0.42750189297058566,
            -0.42858920559582336,
            0.3747039446179279,
            -0.7493290331674409,
            -0.11640650767386308,
            -0.3065336249651325,
            -0.17162817348261544
           ],
           "xaxis": "x",
           "y": [
            1.4290061475959523,
            1.3375201247969382,
            1.4863035603690706,
            1.3724536903562652,
            1.0129949936537228,
            1.214548083175785,
            1.0653970788648708,
            1.2286335739133085,
            1.032730660998333,
            1.3154350659611715,
            1.0225967022863252,
            1.340086897371031,
            1.2509489419525124,
            1.240296518869591,
            1.3314142564452838,
            1.2377781199821267,
            1.3861060008919799,
            0.8516575303562622,
            1.2340358734197037,
            1.3396825972615432,
            1.271724292177335,
            1.1983700191081372,
            1.1642190947133675,
            0.9796220752370453,
            1.1365118628229673,
            1.4984864272300988,
            1.3640541652887208,
            0.7651030005010572,
            1.1830254014058643,
            1.0254213025188765,
            1.4103860926174046,
            1.2667707342271195,
            1.4655679663276082,
            1.4159349500782485,
            1.2316124647875186
           ],
           "yaxis": "y"
          },
          {
           "hovertemplate": "color=1<br>iter=17.0<br>x1=%{x}<br>x2=%{y}<br>size=%{marker.size}<extra></extra>",
           "legendgroup": "1",
           "marker": {
            "color": "#EF553B",
            "size": [
             1,
             1,
             1,
             1,
             1,
             1,
             1,
             1,
             1,
             1,
             1,
             1,
             1,
             1,
             1,
             1,
             1,
             1,
             1,
             1,
             1,
             1,
             1,
             1,
             1,
             1,
             1,
             1,
             1,
             1,
             1,
             1,
             1,
             14
            ],
            "sizemode": "area",
            "sizeref": 0.035,
            "symbol": "circle"
           },
           "mode": "markers",
           "name": "1",
           "orientation": "v",
           "showlegend": true,
           "type": "scatter",
           "x": [
            -0.7243327381673373,
            -1.0679818087254052,
            -1.6256870494144724,
            -1.2910539660565594,
            -1.2205761562524422,
            -1.2910909409662767,
            -0.6978583531261866,
            -0.9730671491386583,
            -0.9764043642907584,
            -0.7576799941135409,
            -1.3561487435950732,
            -0.9916206852794982,
            -0.9127837876432864,
            -1.5210967238494808,
            -1.374503442775555,
            -1.2668609189462883,
            -1.2581346097240655,
            -0.8047035536678926,
            -0.9554260323557816,
            -0.6160195099190611,
            -1.3266688844483974,
            -1.250894026944287,
            -1.184511579412838,
            -1.252618920402433,
            -0.8261619027391889,
            -1.1698572865542214,
            -1.1440348595619427,
            -0.8519369044707669,
            -0.5949208082879046,
            -1.0575716220382523,
            -0.9597601268147717,
            -1.6238749780578257,
            -0.8877125797035045,
            -1.0852592426498167
           ],
           "xaxis": "x",
           "y": [
            0.08007929852707414,
            -0.44416157173066434,
            -0.26458872842809045,
            -0.14635688785254933,
            -0.13568504596757908,
            -0.2870777451297083,
            -0.1809954016340368,
            0.040113177018631326,
            -0.20119600782704528,
            -0.04791094895962166,
            -0.2608790922224402,
            0.31726808532911266,
            -0.26011459916699264,
            -0.05189168477068001,
            -0.06242811675858889,
            -0.049544499801428506,
            -0.060239745818781554,
            -0.3716849546564056,
            -0.22648234084631425,
            -0.20383987487863084,
            -0.06941479095383352,
            -0.04849418150923344,
            0.32467498501923564,
            -0.14870130725023425,
            -0.12189216618934265,
            -0.18748779485114878,
            0.06561105029748066,
            0.06716031695210577,
            -0.06553451326299983,
            -0.26294476014607304,
            -0.05886464331778313,
            -0.06080705968233393,
            0.186431259617944,
            -0.09690546335911987
           ],
           "yaxis": "y"
          }
         ],
         "name": "17.0"
        },
        {
         "data": [
          {
           "hovertemplate": "color=2<br>iter=18.0<br>x1=%{x}<br>x2=%{y}<br>size=%{marker.size}<extra></extra>",
           "legendgroup": "2",
           "marker": {
            "color": "#00CC96",
            "size": [
             1,
             1,
             1,
             1,
             1,
             1,
             1,
             1,
             1,
             1,
             1,
             1,
             1,
             1,
             1,
             1,
             1,
             1,
             1,
             1,
             1,
             1,
             1,
             1,
             1,
             1,
             1,
             1,
             1,
             1,
             1,
             1,
             1,
             14
            ],
            "sizemode": "area",
            "sizeref": 0.035,
            "symbol": "circle"
           },
           "mode": "markers",
           "name": "2",
           "orientation": "v",
           "showlegend": true,
           "type": "scatter",
           "x": [
            1.053743651093665,
            1.0304301793490058,
            0.8284324465227679,
            1.4377639733976832,
            1.0538682079360342,
            0.8973326996635752,
            1.1029329092328488,
            1.290230788597792,
            1.3005885399183157,
            1.1824887916898328,
            1.4623981604678626,
            0.8438600431577624,
            1.5019469785249282,
            1.335429292250568,
            1.397561337294441,
            1.8257886304564286,
            1.3379899423675572,
            1.0380466058524962,
            1.180319948573405,
            1.6137136009772184,
            1.288356486113322,
            1.3044665943227105,
            1.4456886860349747,
            1.39347242824476,
            1.0329099739001335,
            0.9685495026702903,
            1.4729264194832052,
            1.450568487333462,
            1.1665746301628006,
            1.2154976069013186,
            1.6749528709326555,
            1.4745054704955596,
            1.0455770219335092,
            1.2620882698743299
           ],
           "xaxis": "x",
           "y": [
            -1.3206754533614802,
            -1.1797079626476557,
            -1.3220857827246029,
            -1.0425553262546803,
            -1.2557399357833536,
            -1.275775295214898,
            -1.6817034920184422,
            -1.0785926766414307,
            -1.0858035937924089,
            -1.146383944609582,
            -1.0880103325885628,
            -1.0749844269818083,
            -1.1255799695507493,
            -1.2200956221252621,
            -1.129820922456182,
            -1.1209307438171014,
            -1.2831364095988411,
            -1.1646860448481802,
            -1.1684032045678212,
            -1.0816156835707929,
            -1.2784345188178132,
            -1.045238070327321,
            -1.0708186950698886,
            -0.8935909900984641,
            -0.8923621748922208,
            -1.4280534156553082,
            -1.3068458806181291,
            -1.1829918823757446,
            -0.9806904594775487,
            -1.019461818419907,
            -1.2244823779478915,
            -1.1466054777637895,
            -1.3610809273068116,
            -1.1720285912704447
           ],
           "yaxis": "y"
          },
          {
           "hovertemplate": "color=0<br>iter=18.0<br>x1=%{x}<br>x2=%{y}<br>size=%{marker.size}<extra></extra>",
           "legendgroup": "0",
           "marker": {
            "color": "#636EFA",
            "size": [
             1,
             1,
             1,
             1,
             1,
             1,
             1,
             1,
             1,
             1,
             1,
             1,
             1,
             1,
             1,
             1,
             1,
             1,
             1,
             1,
             1,
             1,
             1,
             1,
             1,
             1,
             1,
             1,
             1,
             1,
             1,
             1,
             1,
             1,
             14
            ],
            "sizemode": "area",
            "sizeref": 0.035,
            "symbol": "circle"
           },
           "mode": "markers",
           "name": "0",
           "orientation": "v",
           "showlegend": true,
           "type": "scatter",
           "x": [
            -0.24050895679992768,
            0.17648883407886076,
            0.02352142545955114,
            -0.45410426821459626,
            0.17296003882813937,
            -0.4396016600838884,
            -0.07601009326491152,
            -0.15028296586242068,
            0.18108935160553802,
            -0.5175304096471027,
            -0.3175283179690559,
            -0.06826968097196959,
            -0.27186732706771277,
            -0.37909313045624016,
            -0.21676991199641849,
            0.001346457497240279,
            0.03460376310976049,
            0.45207092184559305,
            -0.5173598917011434,
            -0.6940876447447076,
            -0.23826795503633014,
            -0.42907631169664034,
            0.2462045117191672,
            -0.4424856543444192,
            -0.010542399378280078,
            0.5176318327408969,
            -0.3862055447041447,
            -0.13802659159884517,
            -0.42750189297058566,
            -0.42858920559582336,
            0.3747039446179279,
            -0.7493290331674409,
            -0.11640650767386308,
            -0.3065336249651325,
            -0.17162817348261544
           ],
           "xaxis": "x",
           "y": [
            1.4290061475959523,
            1.3375201247969382,
            1.4863035603690706,
            1.3724536903562652,
            1.0129949936537228,
            1.214548083175785,
            1.0653970788648708,
            1.2286335739133085,
            1.032730660998333,
            1.3154350659611715,
            1.0225967022863252,
            1.340086897371031,
            1.2509489419525124,
            1.240296518869591,
            1.3314142564452838,
            1.2377781199821267,
            1.3861060008919799,
            0.8516575303562622,
            1.2340358734197037,
            1.3396825972615432,
            1.271724292177335,
            1.1983700191081372,
            1.1642190947133675,
            0.9796220752370453,
            1.1365118628229673,
            1.4984864272300988,
            1.3640541652887208,
            0.7651030005010572,
            1.1830254014058643,
            1.0254213025188765,
            1.4103860926174046,
            1.2667707342271195,
            1.4655679663276082,
            1.4159349500782485,
            1.2316124647875186
           ],
           "yaxis": "y"
          },
          {
           "hovertemplate": "color=1<br>iter=18.0<br>x1=%{x}<br>x2=%{y}<br>size=%{marker.size}<extra></extra>",
           "legendgroup": "1",
           "marker": {
            "color": "#EF553B",
            "size": [
             1,
             1,
             1,
             1,
             1,
             1,
             1,
             1,
             1,
             1,
             1,
             1,
             1,
             1,
             1,
             1,
             1,
             1,
             1,
             1,
             1,
             1,
             1,
             1,
             1,
             1,
             1,
             1,
             1,
             1,
             1,
             1,
             1,
             14
            ],
            "sizemode": "area",
            "sizeref": 0.035,
            "symbol": "circle"
           },
           "mode": "markers",
           "name": "1",
           "orientation": "v",
           "showlegend": true,
           "type": "scatter",
           "x": [
            -0.7243327381673373,
            -1.0679818087254052,
            -1.6256870494144724,
            -1.2910539660565594,
            -1.2205761562524422,
            -1.2910909409662767,
            -0.6978583531261866,
            -0.9730671491386583,
            -0.9764043642907584,
            -0.7576799941135409,
            -1.3561487435950732,
            -0.9916206852794982,
            -0.9127837876432864,
            -1.5210967238494808,
            -1.374503442775555,
            -1.2668609189462883,
            -1.2581346097240655,
            -0.8047035536678926,
            -0.9554260323557816,
            -0.6160195099190611,
            -1.3266688844483974,
            -1.250894026944287,
            -1.184511579412838,
            -1.252618920402433,
            -0.8261619027391889,
            -1.1698572865542214,
            -1.1440348595619427,
            -0.8519369044707669,
            -0.5949208082879046,
            -1.0575716220382523,
            -0.9597601268147717,
            -1.6238749780578257,
            -0.8877125797035045,
            -1.0852592426498167
           ],
           "xaxis": "x",
           "y": [
            0.08007929852707414,
            -0.44416157173066434,
            -0.26458872842809045,
            -0.14635688785254933,
            -0.13568504596757908,
            -0.2870777451297083,
            -0.1809954016340368,
            0.040113177018631326,
            -0.20119600782704528,
            -0.04791094895962166,
            -0.2608790922224402,
            0.31726808532911266,
            -0.26011459916699264,
            -0.05189168477068001,
            -0.06242811675858889,
            -0.049544499801428506,
            -0.060239745818781554,
            -0.3716849546564056,
            -0.22648234084631425,
            -0.20383987487863084,
            -0.06941479095383352,
            -0.04849418150923344,
            0.32467498501923564,
            -0.14870130725023425,
            -0.12189216618934265,
            -0.18748779485114878,
            0.06561105029748066,
            0.06716031695210577,
            -0.06553451326299983,
            -0.26294476014607304,
            -0.05886464331778313,
            -0.06080705968233393,
            0.186431259617944,
            -0.09690546335911987
           ],
           "yaxis": "y"
          }
         ],
         "name": "18.0"
        },
        {
         "data": [
          {
           "hovertemplate": "color=2<br>iter=19.0<br>x1=%{x}<br>x2=%{y}<br>size=%{marker.size}<extra></extra>",
           "legendgroup": "2",
           "marker": {
            "color": "#00CC96",
            "size": [
             1,
             1,
             1,
             1,
             1,
             1,
             1,
             1,
             1,
             1,
             1,
             1,
             1,
             1,
             1,
             1,
             1,
             1,
             1,
             1,
             1,
             1,
             1,
             1,
             1,
             1,
             1,
             1,
             1,
             1,
             1,
             1,
             1,
             14
            ],
            "sizemode": "area",
            "sizeref": 0.035,
            "symbol": "circle"
           },
           "mode": "markers",
           "name": "2",
           "orientation": "v",
           "showlegend": true,
           "type": "scatter",
           "x": [
            1.053743651093665,
            1.0304301793490058,
            0.8284324465227679,
            1.4377639733976832,
            1.0538682079360342,
            0.8973326996635752,
            1.1029329092328488,
            1.290230788597792,
            1.3005885399183157,
            1.1824887916898328,
            1.4623981604678626,
            0.8438600431577624,
            1.5019469785249282,
            1.335429292250568,
            1.397561337294441,
            1.8257886304564286,
            1.3379899423675572,
            1.0380466058524962,
            1.180319948573405,
            1.6137136009772184,
            1.288356486113322,
            1.3044665943227105,
            1.4456886860349747,
            1.39347242824476,
            1.0329099739001335,
            0.9685495026702903,
            1.4729264194832052,
            1.450568487333462,
            1.1665746301628006,
            1.2154976069013186,
            1.6749528709326555,
            1.4745054704955596,
            1.0455770219335092,
            1.2620882698743299
           ],
           "xaxis": "x",
           "y": [
            -1.3206754533614802,
            -1.1797079626476557,
            -1.3220857827246029,
            -1.0425553262546803,
            -1.2557399357833536,
            -1.275775295214898,
            -1.6817034920184422,
            -1.0785926766414307,
            -1.0858035937924089,
            -1.146383944609582,
            -1.0880103325885628,
            -1.0749844269818083,
            -1.1255799695507493,
            -1.2200956221252621,
            -1.129820922456182,
            -1.1209307438171014,
            -1.2831364095988411,
            -1.1646860448481802,
            -1.1684032045678212,
            -1.0816156835707929,
            -1.2784345188178132,
            -1.045238070327321,
            -1.0708186950698886,
            -0.8935909900984641,
            -0.8923621748922208,
            -1.4280534156553082,
            -1.3068458806181291,
            -1.1829918823757446,
            -0.9806904594775487,
            -1.019461818419907,
            -1.2244823779478915,
            -1.1466054777637895,
            -1.3610809273068116,
            -1.1720285912704447
           ],
           "yaxis": "y"
          },
          {
           "hovertemplate": "color=0<br>iter=19.0<br>x1=%{x}<br>x2=%{y}<br>size=%{marker.size}<extra></extra>",
           "legendgroup": "0",
           "marker": {
            "color": "#636EFA",
            "size": [
             1,
             1,
             1,
             1,
             1,
             1,
             1,
             1,
             1,
             1,
             1,
             1,
             1,
             1,
             1,
             1,
             1,
             1,
             1,
             1,
             1,
             1,
             1,
             1,
             1,
             1,
             1,
             1,
             1,
             1,
             1,
             1,
             1,
             1,
             14
            ],
            "sizemode": "area",
            "sizeref": 0.035,
            "symbol": "circle"
           },
           "mode": "markers",
           "name": "0",
           "orientation": "v",
           "showlegend": true,
           "type": "scatter",
           "x": [
            -0.24050895679992768,
            0.17648883407886076,
            0.02352142545955114,
            -0.45410426821459626,
            0.17296003882813937,
            -0.4396016600838884,
            -0.07601009326491152,
            -0.15028296586242068,
            0.18108935160553802,
            -0.5175304096471027,
            -0.3175283179690559,
            -0.06826968097196959,
            -0.27186732706771277,
            -0.37909313045624016,
            -0.21676991199641849,
            0.001346457497240279,
            0.03460376310976049,
            0.45207092184559305,
            -0.5173598917011434,
            -0.6940876447447076,
            -0.23826795503633014,
            -0.42907631169664034,
            0.2462045117191672,
            -0.4424856543444192,
            -0.010542399378280078,
            0.5176318327408969,
            -0.3862055447041447,
            -0.13802659159884517,
            -0.42750189297058566,
            -0.42858920559582336,
            0.3747039446179279,
            -0.7493290331674409,
            -0.11640650767386308,
            -0.3065336249651325,
            -0.17162817348261544
           ],
           "xaxis": "x",
           "y": [
            1.4290061475959523,
            1.3375201247969382,
            1.4863035603690706,
            1.3724536903562652,
            1.0129949936537228,
            1.214548083175785,
            1.0653970788648708,
            1.2286335739133085,
            1.032730660998333,
            1.3154350659611715,
            1.0225967022863252,
            1.340086897371031,
            1.2509489419525124,
            1.240296518869591,
            1.3314142564452838,
            1.2377781199821267,
            1.3861060008919799,
            0.8516575303562622,
            1.2340358734197037,
            1.3396825972615432,
            1.271724292177335,
            1.1983700191081372,
            1.1642190947133675,
            0.9796220752370453,
            1.1365118628229673,
            1.4984864272300988,
            1.3640541652887208,
            0.7651030005010572,
            1.1830254014058643,
            1.0254213025188765,
            1.4103860926174046,
            1.2667707342271195,
            1.4655679663276082,
            1.4159349500782485,
            1.2316124647875186
           ],
           "yaxis": "y"
          },
          {
           "hovertemplate": "color=1<br>iter=19.0<br>x1=%{x}<br>x2=%{y}<br>size=%{marker.size}<extra></extra>",
           "legendgroup": "1",
           "marker": {
            "color": "#EF553B",
            "size": [
             1,
             1,
             1,
             1,
             1,
             1,
             1,
             1,
             1,
             1,
             1,
             1,
             1,
             1,
             1,
             1,
             1,
             1,
             1,
             1,
             1,
             1,
             1,
             1,
             1,
             1,
             1,
             1,
             1,
             1,
             1,
             1,
             1,
             14
            ],
            "sizemode": "area",
            "sizeref": 0.035,
            "symbol": "circle"
           },
           "mode": "markers",
           "name": "1",
           "orientation": "v",
           "showlegend": true,
           "type": "scatter",
           "x": [
            -0.7243327381673373,
            -1.0679818087254052,
            -1.6256870494144724,
            -1.2910539660565594,
            -1.2205761562524422,
            -1.2910909409662767,
            -0.6978583531261866,
            -0.9730671491386583,
            -0.9764043642907584,
            -0.7576799941135409,
            -1.3561487435950732,
            -0.9916206852794982,
            -0.9127837876432864,
            -1.5210967238494808,
            -1.374503442775555,
            -1.2668609189462883,
            -1.2581346097240655,
            -0.8047035536678926,
            -0.9554260323557816,
            -0.6160195099190611,
            -1.3266688844483974,
            -1.250894026944287,
            -1.184511579412838,
            -1.252618920402433,
            -0.8261619027391889,
            -1.1698572865542214,
            -1.1440348595619427,
            -0.8519369044707669,
            -0.5949208082879046,
            -1.0575716220382523,
            -0.9597601268147717,
            -1.6238749780578257,
            -0.8877125797035045,
            -1.0852592426498167
           ],
           "xaxis": "x",
           "y": [
            0.08007929852707414,
            -0.44416157173066434,
            -0.26458872842809045,
            -0.14635688785254933,
            -0.13568504596757908,
            -0.2870777451297083,
            -0.1809954016340368,
            0.040113177018631326,
            -0.20119600782704528,
            -0.04791094895962166,
            -0.2608790922224402,
            0.31726808532911266,
            -0.26011459916699264,
            -0.05189168477068001,
            -0.06242811675858889,
            -0.049544499801428506,
            -0.060239745818781554,
            -0.3716849546564056,
            -0.22648234084631425,
            -0.20383987487863084,
            -0.06941479095383352,
            -0.04849418150923344,
            0.32467498501923564,
            -0.14870130725023425,
            -0.12189216618934265,
            -0.18748779485114878,
            0.06561105029748066,
            0.06716031695210577,
            -0.06553451326299983,
            -0.26294476014607304,
            -0.05886464331778313,
            -0.06080705968233393,
            0.186431259617944,
            -0.09690546335911987
           ],
           "yaxis": "y"
          }
         ],
         "name": "19.0"
        }
       ],
       "layout": {
        "height": 500,
        "legend": {
         "itemsizing": "constant",
         "title": {
          "text": "color"
         },
         "tracegroupgap": 0
        },
        "margin": {
         "t": 60
        },
        "sliders": [
         {
          "active": 0,
          "currentvalue": {
           "prefix": "iter="
          },
          "len": 0.9,
          "pad": {
           "b": 10,
           "t": 60
          },
          "steps": [
           {
            "args": [
             [
              "0.0"
             ],
             {
              "frame": {
               "duration": 0,
               "redraw": false
              },
              "fromcurrent": true,
              "mode": "immediate",
              "transition": {
               "duration": 0,
               "easing": "linear"
              }
             }
            ],
            "label": "0.0",
            "method": "animate"
           },
           {
            "args": [
             [
              "1.0"
             ],
             {
              "frame": {
               "duration": 0,
               "redraw": false
              },
              "fromcurrent": true,
              "mode": "immediate",
              "transition": {
               "duration": 0,
               "easing": "linear"
              }
             }
            ],
            "label": "1.0",
            "method": "animate"
           },
           {
            "args": [
             [
              "2.0"
             ],
             {
              "frame": {
               "duration": 0,
               "redraw": false
              },
              "fromcurrent": true,
              "mode": "immediate",
              "transition": {
               "duration": 0,
               "easing": "linear"
              }
             }
            ],
            "label": "2.0",
            "method": "animate"
           },
           {
            "args": [
             [
              "3.0"
             ],
             {
              "frame": {
               "duration": 0,
               "redraw": false
              },
              "fromcurrent": true,
              "mode": "immediate",
              "transition": {
               "duration": 0,
               "easing": "linear"
              }
             }
            ],
            "label": "3.0",
            "method": "animate"
           },
           {
            "args": [
             [
              "4.0"
             ],
             {
              "frame": {
               "duration": 0,
               "redraw": false
              },
              "fromcurrent": true,
              "mode": "immediate",
              "transition": {
               "duration": 0,
               "easing": "linear"
              }
             }
            ],
            "label": "4.0",
            "method": "animate"
           },
           {
            "args": [
             [
              "5.0"
             ],
             {
              "frame": {
               "duration": 0,
               "redraw": false
              },
              "fromcurrent": true,
              "mode": "immediate",
              "transition": {
               "duration": 0,
               "easing": "linear"
              }
             }
            ],
            "label": "5.0",
            "method": "animate"
           },
           {
            "args": [
             [
              "6.0"
             ],
             {
              "frame": {
               "duration": 0,
               "redraw": false
              },
              "fromcurrent": true,
              "mode": "immediate",
              "transition": {
               "duration": 0,
               "easing": "linear"
              }
             }
            ],
            "label": "6.0",
            "method": "animate"
           },
           {
            "args": [
             [
              "7.0"
             ],
             {
              "frame": {
               "duration": 0,
               "redraw": false
              },
              "fromcurrent": true,
              "mode": "immediate",
              "transition": {
               "duration": 0,
               "easing": "linear"
              }
             }
            ],
            "label": "7.0",
            "method": "animate"
           },
           {
            "args": [
             [
              "8.0"
             ],
             {
              "frame": {
               "duration": 0,
               "redraw": false
              },
              "fromcurrent": true,
              "mode": "immediate",
              "transition": {
               "duration": 0,
               "easing": "linear"
              }
             }
            ],
            "label": "8.0",
            "method": "animate"
           },
           {
            "args": [
             [
              "9.0"
             ],
             {
              "frame": {
               "duration": 0,
               "redraw": false
              },
              "fromcurrent": true,
              "mode": "immediate",
              "transition": {
               "duration": 0,
               "easing": "linear"
              }
             }
            ],
            "label": "9.0",
            "method": "animate"
           },
           {
            "args": [
             [
              "10.0"
             ],
             {
              "frame": {
               "duration": 0,
               "redraw": false
              },
              "fromcurrent": true,
              "mode": "immediate",
              "transition": {
               "duration": 0,
               "easing": "linear"
              }
             }
            ],
            "label": "10.0",
            "method": "animate"
           },
           {
            "args": [
             [
              "11.0"
             ],
             {
              "frame": {
               "duration": 0,
               "redraw": false
              },
              "fromcurrent": true,
              "mode": "immediate",
              "transition": {
               "duration": 0,
               "easing": "linear"
              }
             }
            ],
            "label": "11.0",
            "method": "animate"
           },
           {
            "args": [
             [
              "12.0"
             ],
             {
              "frame": {
               "duration": 0,
               "redraw": false
              },
              "fromcurrent": true,
              "mode": "immediate",
              "transition": {
               "duration": 0,
               "easing": "linear"
              }
             }
            ],
            "label": "12.0",
            "method": "animate"
           },
           {
            "args": [
             [
              "13.0"
             ],
             {
              "frame": {
               "duration": 0,
               "redraw": false
              },
              "fromcurrent": true,
              "mode": "immediate",
              "transition": {
               "duration": 0,
               "easing": "linear"
              }
             }
            ],
            "label": "13.0",
            "method": "animate"
           },
           {
            "args": [
             [
              "14.0"
             ],
             {
              "frame": {
               "duration": 0,
               "redraw": false
              },
              "fromcurrent": true,
              "mode": "immediate",
              "transition": {
               "duration": 0,
               "easing": "linear"
              }
             }
            ],
            "label": "14.0",
            "method": "animate"
           },
           {
            "args": [
             [
              "15.0"
             ],
             {
              "frame": {
               "duration": 0,
               "redraw": false
              },
              "fromcurrent": true,
              "mode": "immediate",
              "transition": {
               "duration": 0,
               "easing": "linear"
              }
             }
            ],
            "label": "15.0",
            "method": "animate"
           },
           {
            "args": [
             [
              "16.0"
             ],
             {
              "frame": {
               "duration": 0,
               "redraw": false
              },
              "fromcurrent": true,
              "mode": "immediate",
              "transition": {
               "duration": 0,
               "easing": "linear"
              }
             }
            ],
            "label": "16.0",
            "method": "animate"
           },
           {
            "args": [
             [
              "17.0"
             ],
             {
              "frame": {
               "duration": 0,
               "redraw": false
              },
              "fromcurrent": true,
              "mode": "immediate",
              "transition": {
               "duration": 0,
               "easing": "linear"
              }
             }
            ],
            "label": "17.0",
            "method": "animate"
           },
           {
            "args": [
             [
              "18.0"
             ],
             {
              "frame": {
               "duration": 0,
               "redraw": false
              },
              "fromcurrent": true,
              "mode": "immediate",
              "transition": {
               "duration": 0,
               "easing": "linear"
              }
             }
            ],
            "label": "18.0",
            "method": "animate"
           },
           {
            "args": [
             [
              "19.0"
             ],
             {
              "frame": {
               "duration": 0,
               "redraw": false
              },
              "fromcurrent": true,
              "mode": "immediate",
              "transition": {
               "duration": 0,
               "easing": "linear"
              }
             }
            ],
            "label": "19.0",
            "method": "animate"
           }
          ],
          "x": 0.1,
          "xanchor": "left",
          "y": 0,
          "yanchor": "top"
         }
        ],
        "template": {
         "data": {
          "bar": [
           {
            "error_x": {
             "color": "rgb(51,51,51)"
            },
            "error_y": {
             "color": "rgb(51,51,51)"
            },
            "marker": {
             "line": {
              "color": "rgb(237,237,237)",
              "width": 0.5
             },
             "pattern": {
              "fillmode": "overlay",
              "size": 10,
              "solidity": 0.2
             }
            },
            "type": "bar"
           }
          ],
          "barpolar": [
           {
            "marker": {
             "line": {
              "color": "rgb(237,237,237)",
              "width": 0.5
             },
             "pattern": {
              "fillmode": "overlay",
              "size": 10,
              "solidity": 0.2
             }
            },
            "type": "barpolar"
           }
          ],
          "carpet": [
           {
            "aaxis": {
             "endlinecolor": "rgb(51,51,51)",
             "gridcolor": "white",
             "linecolor": "white",
             "minorgridcolor": "white",
             "startlinecolor": "rgb(51,51,51)"
            },
            "baxis": {
             "endlinecolor": "rgb(51,51,51)",
             "gridcolor": "white",
             "linecolor": "white",
             "minorgridcolor": "white",
             "startlinecolor": "rgb(51,51,51)"
            },
            "type": "carpet"
           }
          ],
          "choropleth": [
           {
            "colorbar": {
             "outlinewidth": 0,
             "tickcolor": "rgb(237,237,237)",
             "ticklen": 6,
             "ticks": "inside"
            },
            "type": "choropleth"
           }
          ],
          "contour": [
           {
            "colorbar": {
             "outlinewidth": 0,
             "tickcolor": "rgb(237,237,237)",
             "ticklen": 6,
             "ticks": "inside"
            },
            "colorscale": [
             [
              0,
              "rgb(20,44,66)"
             ],
             [
              1,
              "rgb(90,179,244)"
             ]
            ],
            "type": "contour"
           }
          ],
          "contourcarpet": [
           {
            "colorbar": {
             "outlinewidth": 0,
             "tickcolor": "rgb(237,237,237)",
             "ticklen": 6,
             "ticks": "inside"
            },
            "type": "contourcarpet"
           }
          ],
          "heatmap": [
           {
            "colorbar": {
             "outlinewidth": 0,
             "tickcolor": "rgb(237,237,237)",
             "ticklen": 6,
             "ticks": "inside"
            },
            "colorscale": [
             [
              0,
              "rgb(20,44,66)"
             ],
             [
              1,
              "rgb(90,179,244)"
             ]
            ],
            "type": "heatmap"
           }
          ],
          "heatmapgl": [
           {
            "colorbar": {
             "outlinewidth": 0,
             "tickcolor": "rgb(237,237,237)",
             "ticklen": 6,
             "ticks": "inside"
            },
            "colorscale": [
             [
              0,
              "rgb(20,44,66)"
             ],
             [
              1,
              "rgb(90,179,244)"
             ]
            ],
            "type": "heatmapgl"
           }
          ],
          "histogram": [
           {
            "marker": {
             "pattern": {
              "fillmode": "overlay",
              "size": 10,
              "solidity": 0.2
             }
            },
            "type": "histogram"
           }
          ],
          "histogram2d": [
           {
            "colorbar": {
             "outlinewidth": 0,
             "tickcolor": "rgb(237,237,237)",
             "ticklen": 6,
             "ticks": "inside"
            },
            "colorscale": [
             [
              0,
              "rgb(20,44,66)"
             ],
             [
              1,
              "rgb(90,179,244)"
             ]
            ],
            "type": "histogram2d"
           }
          ],
          "histogram2dcontour": [
           {
            "colorbar": {
             "outlinewidth": 0,
             "tickcolor": "rgb(237,237,237)",
             "ticklen": 6,
             "ticks": "inside"
            },
            "colorscale": [
             [
              0,
              "rgb(20,44,66)"
             ],
             [
              1,
              "rgb(90,179,244)"
             ]
            ],
            "type": "histogram2dcontour"
           }
          ],
          "mesh3d": [
           {
            "colorbar": {
             "outlinewidth": 0,
             "tickcolor": "rgb(237,237,237)",
             "ticklen": 6,
             "ticks": "inside"
            },
            "type": "mesh3d"
           }
          ],
          "parcoords": [
           {
            "line": {
             "colorbar": {
              "outlinewidth": 0,
              "tickcolor": "rgb(237,237,237)",
              "ticklen": 6,
              "ticks": "inside"
             }
            },
            "type": "parcoords"
           }
          ],
          "pie": [
           {
            "automargin": true,
            "type": "pie"
           }
          ],
          "scatter": [
           {
            "fillpattern": {
             "fillmode": "overlay",
             "size": 10,
             "solidity": 0.2
            },
            "type": "scatter"
           }
          ],
          "scatter3d": [
           {
            "line": {
             "colorbar": {
              "outlinewidth": 0,
              "tickcolor": "rgb(237,237,237)",
              "ticklen": 6,
              "ticks": "inside"
             }
            },
            "marker": {
             "colorbar": {
              "outlinewidth": 0,
              "tickcolor": "rgb(237,237,237)",
              "ticklen": 6,
              "ticks": "inside"
             }
            },
            "type": "scatter3d"
           }
          ],
          "scattercarpet": [
           {
            "marker": {
             "colorbar": {
              "outlinewidth": 0,
              "tickcolor": "rgb(237,237,237)",
              "ticklen": 6,
              "ticks": "inside"
             }
            },
            "type": "scattercarpet"
           }
          ],
          "scattergeo": [
           {
            "marker": {
             "colorbar": {
              "outlinewidth": 0,
              "tickcolor": "rgb(237,237,237)",
              "ticklen": 6,
              "ticks": "inside"
             }
            },
            "type": "scattergeo"
           }
          ],
          "scattergl": [
           {
            "marker": {
             "colorbar": {
              "outlinewidth": 0,
              "tickcolor": "rgb(237,237,237)",
              "ticklen": 6,
              "ticks": "inside"
             }
            },
            "type": "scattergl"
           }
          ],
          "scattermapbox": [
           {
            "marker": {
             "colorbar": {
              "outlinewidth": 0,
              "tickcolor": "rgb(237,237,237)",
              "ticklen": 6,
              "ticks": "inside"
             }
            },
            "type": "scattermapbox"
           }
          ],
          "scatterpolar": [
           {
            "marker": {
             "colorbar": {
              "outlinewidth": 0,
              "tickcolor": "rgb(237,237,237)",
              "ticklen": 6,
              "ticks": "inside"
             }
            },
            "type": "scatterpolar"
           }
          ],
          "scatterpolargl": [
           {
            "marker": {
             "colorbar": {
              "outlinewidth": 0,
              "tickcolor": "rgb(237,237,237)",
              "ticklen": 6,
              "ticks": "inside"
             }
            },
            "type": "scatterpolargl"
           }
          ],
          "scatterternary": [
           {
            "marker": {
             "colorbar": {
              "outlinewidth": 0,
              "tickcolor": "rgb(237,237,237)",
              "ticklen": 6,
              "ticks": "inside"
             }
            },
            "type": "scatterternary"
           }
          ],
          "surface": [
           {
            "colorbar": {
             "outlinewidth": 0,
             "tickcolor": "rgb(237,237,237)",
             "ticklen": 6,
             "ticks": "inside"
            },
            "colorscale": [
             [
              0,
              "rgb(20,44,66)"
             ],
             [
              1,
              "rgb(90,179,244)"
             ]
            ],
            "type": "surface"
           }
          ],
          "table": [
           {
            "cells": {
             "fill": {
              "color": "rgb(237,237,237)"
             },
             "line": {
              "color": "white"
             }
            },
            "header": {
             "fill": {
              "color": "rgb(217,217,217)"
             },
             "line": {
              "color": "white"
             }
            },
            "type": "table"
           }
          ]
         },
         "layout": {
          "annotationdefaults": {
           "arrowhead": 0,
           "arrowwidth": 1
          },
          "autotypenumbers": "strict",
          "coloraxis": {
           "colorbar": {
            "outlinewidth": 0,
            "tickcolor": "rgb(237,237,237)",
            "ticklen": 6,
            "ticks": "inside"
           }
          },
          "colorscale": {
           "sequential": [
            [
             0,
             "rgb(20,44,66)"
            ],
            [
             1,
             "rgb(90,179,244)"
            ]
           ],
           "sequentialminus": [
            [
             0,
             "rgb(20,44,66)"
            ],
            [
             1,
             "rgb(90,179,244)"
            ]
           ]
          },
          "colorway": [
           "#F8766D",
           "#A3A500",
           "#00BF7D",
           "#00B0F6",
           "#E76BF3"
          ],
          "font": {
           "color": "rgb(51,51,51)"
          },
          "geo": {
           "bgcolor": "white",
           "lakecolor": "white",
           "landcolor": "rgb(237,237,237)",
           "showlakes": true,
           "showland": true,
           "subunitcolor": "white"
          },
          "hoverlabel": {
           "align": "left"
          },
          "hovermode": "closest",
          "paper_bgcolor": "white",
          "plot_bgcolor": "rgb(237,237,237)",
          "polar": {
           "angularaxis": {
            "gridcolor": "white",
            "linecolor": "white",
            "showgrid": true,
            "tickcolor": "rgb(51,51,51)",
            "ticks": "outside"
           },
           "bgcolor": "rgb(237,237,237)",
           "radialaxis": {
            "gridcolor": "white",
            "linecolor": "white",
            "showgrid": true,
            "tickcolor": "rgb(51,51,51)",
            "ticks": "outside"
           }
          },
          "scene": {
           "xaxis": {
            "backgroundcolor": "rgb(237,237,237)",
            "gridcolor": "white",
            "gridwidth": 2,
            "linecolor": "white",
            "showbackground": true,
            "showgrid": true,
            "tickcolor": "rgb(51,51,51)",
            "ticks": "outside",
            "zerolinecolor": "white"
           },
           "yaxis": {
            "backgroundcolor": "rgb(237,237,237)",
            "gridcolor": "white",
            "gridwidth": 2,
            "linecolor": "white",
            "showbackground": true,
            "showgrid": true,
            "tickcolor": "rgb(51,51,51)",
            "ticks": "outside",
            "zerolinecolor": "white"
           },
           "zaxis": {
            "backgroundcolor": "rgb(237,237,237)",
            "gridcolor": "white",
            "gridwidth": 2,
            "linecolor": "white",
            "showbackground": true,
            "showgrid": true,
            "tickcolor": "rgb(51,51,51)",
            "ticks": "outside",
            "zerolinecolor": "white"
           }
          },
          "shapedefaults": {
           "fillcolor": "black",
           "line": {
            "width": 0
           },
           "opacity": 0.3
          },
          "ternary": {
           "aaxis": {
            "gridcolor": "white",
            "linecolor": "white",
            "showgrid": true,
            "tickcolor": "rgb(51,51,51)",
            "ticks": "outside"
           },
           "baxis": {
            "gridcolor": "white",
            "linecolor": "white",
            "showgrid": true,
            "tickcolor": "rgb(51,51,51)",
            "ticks": "outside"
           },
           "bgcolor": "rgb(237,237,237)",
           "caxis": {
            "gridcolor": "white",
            "linecolor": "white",
            "showgrid": true,
            "tickcolor": "rgb(51,51,51)",
            "ticks": "outside"
           }
          },
          "xaxis": {
           "automargin": true,
           "gridcolor": "white",
           "linecolor": "white",
           "showgrid": true,
           "tickcolor": "rgb(51,51,51)",
           "ticks": "outside",
           "title": {
            "standoff": 15
           },
           "zerolinecolor": "white"
          },
          "yaxis": {
           "automargin": true,
           "gridcolor": "white",
           "linecolor": "white",
           "showgrid": true,
           "tickcolor": "rgb(51,51,51)",
           "ticks": "outside",
           "title": {
            "standoff": 15
           },
           "zerolinecolor": "white"
          }
         }
        },
        "updatemenus": [
         {
          "buttons": [
           {
            "args": [
             null,
             {
              "frame": {
               "duration": 500,
               "redraw": false
              },
              "fromcurrent": true,
              "mode": "immediate",
              "transition": {
               "duration": 500,
               "easing": "linear"
              }
             }
            ],
            "label": "&#9654;",
            "method": "animate"
           },
           {
            "args": [
             [
              null
             ],
             {
              "frame": {
               "duration": 0,
               "redraw": false
              },
              "fromcurrent": true,
              "mode": "immediate",
              "transition": {
               "duration": 0,
               "easing": "linear"
              }
             }
            ],
            "label": "&#9724;",
            "method": "animate"
           }
          ],
          "direction": "left",
          "pad": {
           "r": 10,
           "t": 70
          },
          "showactive": false,
          "type": "buttons",
          "x": 0.1,
          "xanchor": "right",
          "y": 0,
          "yanchor": "top"
         }
        ],
        "width": 600,
        "xaxis": {
         "anchor": "y",
         "domain": [
          0,
          1
         ],
         "title": {
          "text": "x1"
         }
        },
        "yaxis": {
         "anchor": "x",
         "domain": [
          0,
          1
         ],
         "title": {
          "text": "x2"
         }
        }
       }
      }
     },
     "metadata": {},
     "output_type": "display_data"
    }
   ],
   "source": [
    "fig = px.scatter(\n",
    "    dfs,\n",
    "    x=\"x1\",\n",
    "    y=\"x2\",\n",
    "    animation_frame=\"iter\",\n",
    "    size=\"size\",\n",
    "    color=\"color\",\n",
    "    color_discrete_map=colormap, \n",
    "    **figKwargs\n",
    ")\n",
    "fig.show()"
   ]
  },
  {
   "cell_type": "code",
   "execution_count": null,
   "metadata": {},
   "outputs": [],
   "source": []
  }
 ],
 "metadata": {
  "kernelspec": {
   "display_name": "torch",
   "language": "python",
   "name": "python3"
  },
  "language_info": {
   "codemirror_mode": {
    "name": "ipython",
    "version": 3
   },
   "file_extension": ".py",
   "mimetype": "text/x-python",
   "name": "python",
   "nbconvert_exporter": "python",
   "pygments_lexer": "ipython3",
   "version": "3.9.15"
  },
  "orig_nbformat": 4
 },
 "nbformat": 4,
 "nbformat_minor": 2
}
